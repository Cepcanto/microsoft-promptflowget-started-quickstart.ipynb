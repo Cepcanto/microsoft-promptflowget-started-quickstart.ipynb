{
 "cells": [
  {
   "cell_type": "code",
   "execution_count": 6,
   "metadata": {},
   "outputs": [],
   "source": [
    "# import required libraries\n",
    "from azure.ai.ml import MLClient\n",
    "from azure.ai.ml.entities import (\n",
    "    ManagedOnlineEndpoint,\n",
    "    ManagedOnlineDeployment,\n",
    "    Model,\n",
    "    Environment,\n",
    "    CodeConfiguration,\n",
    ")\n",
    "from azure.identity import DefaultAzureCredential"
   ]
  },
  {
   "cell_type": "code",
   "execution_count": 2,
   "metadata": {},
   "outputs": [],
   "source": [
    "# enter details of your Azure Machine Learning workspace\n",
    "subscription_id = \"ee85ed72-2b26-48f6-a0e8-cb5bcf98fbd9\"\n",
    "resource_group = \"keli19-aml\"\n",
    "workspace = \"keli19-eastus\""
   ]
  },
  {
   "cell_type": "code",
   "execution_count": 3,
   "metadata": {},
   "outputs": [],
   "source": [
    "# get a handle to the workspace\n",
    "ml_client = MLClient(\n",
    "    DefaultAzureCredential(), subscription_id, resource_group, workspace\n",
    ")"
   ]
  },
  {
   "cell_type": "code",
   "execution_count": 9,
   "metadata": {},
   "outputs": [],
   "source": [
    "# Define an endpoint name\n",
    "endpoint_name = \"basic-chat-endpoint-1\"\n",
    "\n",
    "# create an online endpoint\n",
    "endpoint = ManagedOnlineEndpoint(\n",
    "    name = endpoint_name, \n",
    "    description=\"this is a sample endpoint\",\n",
    "    auth_mode=\"key\"\n",
    ")"
   ]
  },
  {
   "cell_type": "code",
   "execution_count": 10,
   "metadata": {},
   "outputs": [
    {
     "ename": "FileNotFoundError",
     "evalue": "[Errno 2] No such file or directory: 'D:\\\\Github\\\\ms-promptflow\\\\docs\\\\media\\\\deploy-to-aml-code\\\\model-1\\\\model\\\\sklearn_regression_model.pkl'",
     "output_type": "error",
     "traceback": [
      "\u001b[1;31m---------------------------------------------------------------------------\u001b[0m",
      "\u001b[1;31mFileNotFoundError\u001b[0m                         Traceback (most recent call last)",
      "Cell \u001b[1;32mIn[10], line 1\u001b[0m\n\u001b[1;32m----> 1\u001b[0m model \u001b[39m=\u001b[39m Model(path\u001b[39m=\u001b[39;49m\u001b[39m\"\u001b[39;49m\u001b[39m../model-1/model/sklearn_regression_model.pkl\u001b[39;49m\u001b[39m\"\u001b[39;49m)\n\u001b[0;32m      2\u001b[0m env \u001b[39m=\u001b[39m Environment(\n\u001b[0;32m      3\u001b[0m     conda_file\u001b[39m=\u001b[39m\u001b[39m\"\u001b[39m\u001b[39m../model-1/environment/conda.yml\u001b[39m\u001b[39m\"\u001b[39m,\n\u001b[0;32m      4\u001b[0m     image\u001b[39m=\u001b[39m\u001b[39m\"\u001b[39m\u001b[39mmcr.microsoft.com/azureml/openmpi4.1.0-ubuntu20.04:latest\u001b[39m\u001b[39m\"\u001b[39m,\n\u001b[0;32m      5\u001b[0m )\n\u001b[0;32m      7\u001b[0m blue_deployment \u001b[39m=\u001b[39m ManagedOnlineDeployment(\n\u001b[0;32m      8\u001b[0m     name\u001b[39m=\u001b[39m\u001b[39m\"\u001b[39m\u001b[39mblue\u001b[39m\u001b[39m\"\u001b[39m,\n\u001b[0;32m      9\u001b[0m     endpoint_name\u001b[39m=\u001b[39mendpoint_name,\n\u001b[1;32m   (...)\u001b[0m\n\u001b[0;32m     16\u001b[0m     instance_count\u001b[39m=\u001b[39m\u001b[39m1\u001b[39m,\n\u001b[0;32m     17\u001b[0m )\n",
      "File \u001b[1;32md:\\Anaconda3\\envs\\pf-examples\\lib\\site-packages\\azure\\ai\\ml\\entities\\_assets\\_artifacts\\model.py:96\u001b[0m, in \u001b[0;36mModel.__init__\u001b[1;34m(self, name, version, type, path, utc_time_created, flavors, description, tags, properties, stage, **kwargs)\u001b[0m\n\u001b[0;32m     94\u001b[0m \u001b[39mif\u001b[39;00m \u001b[39mself\u001b[39m\u001b[39m.\u001b[39m_is_anonymous \u001b[39mand\u001b[39;00m \u001b[39mself\u001b[39m\u001b[39m.\u001b[39mpath:\n\u001b[0;32m     95\u001b[0m     _ignore_file \u001b[39m=\u001b[39m get_ignore_file(\u001b[39mself\u001b[39m\u001b[39m.\u001b[39mpath)\n\u001b[1;32m---> 96\u001b[0m     _upload_hash \u001b[39m=\u001b[39m get_object_hash(\u001b[39mself\u001b[39;49m\u001b[39m.\u001b[39;49mpath, _ignore_file)\n\u001b[0;32m     97\u001b[0m     \u001b[39mself\u001b[39m\u001b[39m.\u001b[39mname \u001b[39m=\u001b[39m get_md5_string(_upload_hash)\n",
      "File \u001b[1;32md:\\Anaconda3\\envs\\pf-examples\\lib\\site-packages\\azure\\ai\\ml\\_utils\\_asset_utils.py:265\u001b[0m, in \u001b[0;36mget_object_hash\u001b[1;34m(path, ignore_file)\u001b[0m\n\u001b[0;32m    263\u001b[0m     \u001b[39mif\u001b[39;00m os\u001b[39m.\u001b[39mpath\u001b[39m.\u001b[39mislink(path):  \u001b[39m# ensure we're hashing the contents of the linked file\u001b[39;00m\n\u001b[0;32m    264\u001b[0m         path \u001b[39m=\u001b[39m Path(os\u001b[39m.\u001b[39mreadlink(convert_windows_path_to_unix(path)))\n\u001b[1;32m--> 265\u001b[0m     object_hash \u001b[39m=\u001b[39m _get_file_hash(filename\u001b[39m=\u001b[39;49mpath, _hash\u001b[39m=\u001b[39;49m_hash)\n\u001b[0;32m    266\u001b[0m \u001b[39mreturn\u001b[39;00m \u001b[39mstr\u001b[39m(object_hash\u001b[39m.\u001b[39mhexdigest())\n",
      "File \u001b[1;32md:\\Anaconda3\\envs\\pf-examples\\lib\\site-packages\\azure\\ai\\ml\\_utils\\_asset_utils.py:214\u001b[0m, in \u001b[0;36m_get_file_hash\u001b[1;34m(filename, _hash)\u001b[0m\n\u001b[0;32m    213\u001b[0m \u001b[39mdef\u001b[39;00m \u001b[39m_get_file_hash\u001b[39m(filename: Union[\u001b[39mstr\u001b[39m, Path], _hash: hash_type) \u001b[39m-\u001b[39m\u001b[39m>\u001b[39m hash_type:\n\u001b[1;32m--> 214\u001b[0m     \u001b[39mwith\u001b[39;00m \u001b[39mopen\u001b[39;49m(\u001b[39mstr\u001b[39;49m(filename), \u001b[39m\"\u001b[39;49m\u001b[39mrb\u001b[39;49m\u001b[39m\"\u001b[39;49m) \u001b[39mas\u001b[39;00m f:\n\u001b[0;32m    215\u001b[0m         \u001b[39mfor\u001b[39;00m chunk \u001b[39min\u001b[39;00m \u001b[39miter\u001b[39m(\u001b[39mlambda\u001b[39;00m: f\u001b[39m.\u001b[39mread(CHUNK_SIZE), \u001b[39mb\u001b[39m\u001b[39m\"\u001b[39m\u001b[39m\"\u001b[39m):\n\u001b[0;32m    216\u001b[0m             _hash\u001b[39m.\u001b[39mupdate(chunk)\n",
      "\u001b[1;31mFileNotFoundError\u001b[0m: [Errno 2] No such file or directory: 'D:\\\\Github\\\\ms-promptflow\\\\docs\\\\media\\\\deploy-to-aml-code\\\\model-1\\\\model\\\\sklearn_regression_model.pkl'"
     ]
    }
   ],
   "source": [
    "model = Model(path=\"../model-1/model/sklearn_regression_model.pkl\",\n",
    "              properties={\"azureml.promptflow.source_flow_id\": \"basic-chat\", \n",
    "                          \"azureml.promptflow.mode\": \"chat\",\n",
    "                          \"azureml.promptflow.chat_input\": \"question\",\n",
    "                          \"azureml.promptflow.chat_output\": \"answer\"\n",
    "                          })\n",
    "env = Environment(\n",
    "    image=\"mmcr.microsoft.com/azureml/promptflow/promptflow-runtime:20230801.v1\",\n",
    "    inference_config={\n",
    "            \"liveness_route\": {\"path\": \"/health\", \"port\": 8080},\n",
    "            \"readiness_route\": {\"path\": \"/health\", \"port\": 8080},\n",
    "            \"scoring_route\": {\"path\": \"/score\", \"port\": 8080},\n",
    "        },\n",
    ")\n",
    "\n",
    "blue_deployment = ManagedOnlineDeployment(\n",
    "    name=\"blue\",\n",
    "    endpoint_name=endpoint_name,\n",
    "    model=model,\n",
    "    environment=env,\n",
    "    instance_type=\"Standard_E16s_v3\",\n",
    "    instance_count=1,\n",
    "    environment_variables={\"PROMPTFLOW_RUN_MODE\": \"serving\",\n",
    "                           \"PRT_CONFIG_OVERRIDE\": \"deployment.subscription_id=ee85ed72-2b26-48f6-a0e8-cb5bcf98fbd9,deployment.resource_group=keli19-aml,deployment.workspace_name=keli19-eastus,deployment.endpoint_name=basic-chat-endpoint-1,deployment.deployment_name=blue\"\n",
    "                           },\n",
    ")"
   ]
  }
 ],
 "metadata": {
  "kernelspec": {
   "display_name": "pf-examples",
   "language": "python",
   "name": "python3"
  },
  "language_info": {
   "codemirror_mode": {
    "name": "ipython",
    "version": 3
   },
   "file_extension": ".py",
   "mimetype": "text/x-python",
   "name": "python",
   "nbconvert_exporter": "python",
   "pygments_lexer": "ipython3",
   "version": "3.9.17"
  },
  "orig_nbformat": 4
 },
 "nbformat": 4,
 "nbformat_minor": 2
}
