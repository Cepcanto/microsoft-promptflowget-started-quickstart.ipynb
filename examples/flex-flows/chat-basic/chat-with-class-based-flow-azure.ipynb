{
 "cells": [
  {
   "cell_type": "markdown",
   "metadata": {},
   "source": [
    "# Chat with class based flex flow in Azure"
   ]
  },
  {
   "cell_type": "markdown",
   "metadata": {},
   "source": [
    "**Learning Objectives** - Upon completing this tutorial, you should be able to:\n",
    "\n",
    "- Submit batch run with a flow defined with python class and evaluate it in azure.\n",
    "\n",
    "## 0. Install dependent packages"
   ]
  },
  {
   "cell_type": "code",
   "execution_count": null,
   "metadata": {},
   "outputs": [],
   "source": [
    "import os\n",
    "\n",
    "os.environ[\"PF_ENABLE_MULTI_CONTAINER\"] = \"true\""
   ]
  },
  {
   "cell_type": "markdown",
   "metadata": {},
   "source": [
    "## 1. Connection to workspace"
   ]
  },
  {
   "cell_type": "markdown",
   "metadata": {},
   "source": [
    "### Configure credential\n",
    "\n",
    "We are using `DefaultAzureCredential` to get access to workspace. \n",
    "`DefaultAzureCredential` should be capable of handling most Azure SDK authentication scenarios. \n",
    "\n",
    "Reference for more available credentials if it does not work for you: [configure credential example](https://github.com/microsoft/promptflow/blob/main/examples/configuration.ipynb), [azure-identity reference doc](https://docs.microsoft.com/en-us/python/api/azure-identity/azure.identity?view=azure-python)."
   ]
  },
  {
   "cell_type": "code",
   "execution_count": 1,
   "metadata": {},
   "outputs": [],
   "source": [
    "from azure.identity import DefaultAzureCredential, InteractiveBrowserCredential\n",
    "\n",
    "try:\n",
    "    credential = DefaultAzureCredential()\n",
    "    # Check if given credential can get token successfully.\n",
    "    credential.get_token(\"https://management.azure.com/.default\")\n",
    "except Exception as ex:\n",
    "    # Fall back to InteractiveBrowserCredential in case DefaultAzureCredential not work\n",
    "    credential = InteractiveBrowserCredential()"
   ]
  },
  {
   "cell_type": "markdown",
   "metadata": {},
   "source": [
    "### Get a handle to the workspace\n",
    "\n",
    "We use config file to connect to a workspace. "
   ]
  },
  {
   "cell_type": "code",
   "execution_count": 2,
   "metadata": {},
   "outputs": [
    {
     "name": "stderr",
     "output_type": "stream",
     "text": [
      "Found the config file in: C:\\code\\promptflow\\examples\\flex-flows\\config.json\n"
     ]
    }
   ],
   "source": [
    "from promptflow.azure import PFClient\n",
    "\n",
    "# Get a handle to workspace\n",
    "pf = PFClient.from_config(credential=credential)"
   ]
  },
  {
   "cell_type": "markdown",
   "metadata": {},
   "source": [
    "### Create necessary connections\n",
    "Connection helps securely store and manage secret keys or other sensitive credentials required for interacting with LLM and other external tools for example Azure Content Safety.\n",
    "\n",
    "In this notebook, we will use flow `basic` flex flow which uses connection `open_ai_connection` inside, we need to set up the connection if we haven't added it before.\n",
    "\n",
    "Prepare your Azure OpenAI resource follow this [instruction](https://learn.microsoft.com/en-us/azure/cognitive-services/openai/how-to/create-resource?pivots=web-portal) and get your `api_key` if you don't have one.\n",
    "\n",
    "Please go to [workspace portal](https://ml.azure.com/), click `Prompt flow` -> `Connections` -> `Create`, then follow the instruction to create your own connections. \n",
    "Learn more on [connections](https://learn.microsoft.com/en-us/azure/machine-learning/prompt-flow/concept-connections?view=azureml-api-2)."
   ]
  },
  {
   "cell_type": "markdown",
   "metadata": {},
   "source": [
    "## 2. Batch run the function as flow with multi-line data\n",
    "\n",
    "Create a `flow.flex.yaml` file to define a flow which entry pointing to the python function we defined.\n"
   ]
  },
  {
   "cell_type": "code",
   "execution_count": 3,
   "metadata": {},
   "outputs": [
    {
     "name": "stdout",
     "output_type": "stream",
     "text": [
      "$schema: https://azuremlschemas.azureedge.net/promptflow/latest/Flow.schema.json\n",
      "entry: flow:ChatFlow\n",
      "environment:\n",
      "  python_requirements_txt: requirements.txt\n",
      "\n"
     ]
    }
   ],
   "source": [
    "# show the flow.flex.yaml content\n",
    "with open(\"flow.flex.yaml\") as fin:\n",
    "    print(fin.read())"
   ]
  },
  {
   "cell_type": "code",
   "execution_count": 4,
   "metadata": {},
   "outputs": [],
   "source": [
    "from promptflow.core import AzureOpenAIModelConfiguration\n",
    "\n",
    "# create the model config to be used in below flow calls\n",
    "config = AzureOpenAIModelConfiguration(\n",
    "    connection=\"open_ai_connection\", azure_deployment=\"gpt-35-turbo-0125\"\n",
    ")"
   ]
  },
  {
   "cell_type": "markdown",
   "metadata": {},
   "source": [
    "### Batch run with a data file (with multiple lines of test data)\n"
   ]
  },
  {
   "cell_type": "code",
   "execution_count": 5,
   "metadata": {},
   "outputs": [
    {
     "name": "stderr",
     "output_type": "stream",
     "text": [
      "\u001b[32mUploading chat-basic (0.05 MBs): 100%|##########| 48328/48328 [00:00<00:00, 59932.55it/s]\n",
      "\u001b[39m\n",
      "\n",
      "[2024-05-08 16:37:53,248][promptflow][WARNING] - You're using automatic runtime, if it's first time you're using it, it may take a while to build runtime and you may see 'NotStarted' status for a while. \n"
     ]
    },
    {
     "name": "stdout",
     "output_type": "stream",
     "text": [
      "Portal url: https://ml.azure.com/runs/chat_basic_variant_0_20240508_163744_986706?wsid=/subscriptions/96aede12-2f73-41cb-b983-6d11a904839b/resourcegroups/promptflow/providers/Microsoft.MachineLearningServices/workspaces/promptflow-eastus\n",
      "(Run status is 'NotStarted', continue streaming...)\n",
      "(Run status is 'NotStarted', continue streaming...)\n",
      "(Run status is 'NotStarted', continue streaming...)\n",
      "(Run status is 'NotStarted', continue streaming...)\n",
      "(Run status is 'NotStarted', continue streaming...)\n",
      "(Run status is 'NotStarted', continue streaming...)\n",
      "2024-05-08 08:42:51 +0000      24 promptflow-runtime INFO     [chat_basic_variant_0_20240508_163744_986706] Receiving v2 bulk run request d8d78174-f162-4784-8149-2aaa0876e38d: {\"flow_id\": \"chat_basic_variant_0_20240508_163744_986706\", \"flow_run_id\": \"chat_basic_variant_0_20240508_163744_986706\", \"flow_source\": {\"flow_source_type\": 1, \"flow_source_info\": {\"snapshot_id\": \"e3236a46-3ed7-4361-b0ef-d2ffab06470e\"}, \"flow_dag_file\": \"flow.flex.yaml\"}, \"log_path\": \"https://promptfloweast4063704120.blob.core.windows.net/azureml/ExperimentRun/dcid.chat_basic_variant_0_20240508_163744_986706/logs/azureml/executionlogs.txt?sv=2019-07-07&sr=b&sig=**data_scrubbed**&skoid=55b92eba-d7c7-4afd-ab76-7bb1cd345283&sktid=72f988bf-86f1-41af-91ab-2d7cd011db47&skt=2024-05-08T03%3A57%3A37Z&ske=2024-05-09T12%3A07%3A37Z&sks=b&skv=2019-07-07&st=2024-05-08T08%3A32%3A50Z&se=2024-05-08T16%3A42%3A50Z&sp=rcw\", \"app_insights_instrumentation_key\": \"InstrumentationKey=**data_scrubbed**;IngestionEndpoint=https://eastus-6.in.applicationinsights.azure.com/;LiveEndpoint=https://eastus.livediagnostics.monitor.azure.com/\", \"flow_name\": \"chat_basic_variant_0_20240508_163744_986706\", \"batch_timeout_sec\": 36000, \"data_inputs\": {\"data\": \"azureml://datastores/workspaceblobstore/paths/LocalUpload/a5b1da8eabe697917bf8d7b46be987a2/data.jsonl\"}, \"inputs_mapping\": {\"question\": \"${data.question}\", \"chat_history\": \"${data.chat_history}\"}, \"azure_storage_setting\": {\"azure_storage_mode\": 1, \"storage_account_name\": \"promptfloweast4063704120\", \"blob_container_name\": \"azureml-blobstore-3e123da1-f9a5-4c91-9234-8d9ffbb39ff5\", \"flow_artifacts_root_path\": \"promptflow/PromptFlowArtifacts/chat_basic_variant_0_20240508_163744_986706\", \"blob_container_sas_token\": \"?sv=2019-07-07&sr=c&sig=**data_scrubbed**&skoid=55b92eba-d7c7-4afd-ab76-7bb1cd345283&sktid=72f988bf-86f1-41af-91ab-2d7cd011db47&skt=2024-05-08T08%3A42%3A50Z&ske=2024-05-15T08%3A42%3A50Z&sks=b&skv=2019-07-07&se=2024-05-15T08%3A42%3A50Z&sp=racwl\", \"output_datastore_name\": \"workspaceblobstore\"}, \"init_kwargs\": {\"model_config\": {\"azure_deployment\": \"gpt-35-turbo-0125\", \"azure_endpoint\": null, \"api_version\": null, \"api_key\": null, \"connection\": \"open_ai_connection\"}}}\n",
      "2024-05-08 08:42:51 +0000      24 promptflow-runtime INFO     Runtime version: 20240429.v8. PromptFlow version: 1.10.0rc11\n",
      "2024-05-08 08:42:51 +0000      24 promptflow-runtime INFO     Updating chat_basic_variant_0_20240508_163744_986706 to Status.Preparing...\n",
      "2024-05-08 08:42:51 +0000      24 promptflow-runtime INFO     Downloading snapshot to /mnt/host/service/app/42749/requests/chat_basic_variant_0_20240508_163744_986706\n",
      "2024-05-08 08:42:51 +0000      24 promptflow-runtime INFO     Get snapshot sas url for e3236a46-3ed7-4361-b0ef-d2ffab06470e.\n",
      "2024-05-08 08:42:51 +0000      24 promptflow-runtime INFO     Snapshot e3236a46-3ed7-4361-b0ef-d2ffab06470e contains 19 files.\n",
      "2024-05-08 08:42:52 +0000      24 promptflow-runtime INFO     Download snapshot e3236a46-3ed7-4361-b0ef-d2ffab06470e completed.\n",
      "2024-05-08 08:42:52 +0000      24 promptflow-runtime INFO     Successfully download snapshot to /mnt/host/service/app/42749/requests/chat_basic_variant_0_20240508_163744_986706\n",
      "2024-05-08 08:42:52 +0000      24 promptflow-runtime INFO     About to execute a python flow.\n",
      "2024-05-08 08:42:52 +0000      24 promptflow-runtime INFO     Use spawn method to start child process.\n",
      "2024-05-08 08:42:52 +0000      24 promptflow-runtime INFO     Starting to check process 733 status for run chat_basic_variant_0_20240508_163744_986706\n",
      "2024-05-08 08:42:52 +0000      24 promptflow-runtime INFO     Start checking run status for run chat_basic_variant_0_20240508_163744_986706\n",
      "(Run status is 'Running', continue streaming...)\n",
      "2024-05-08 08:42:57 +0000     733 promptflow-runtime INFO     [24--733] Start processing flowV2......\n",
      "2024-05-08 08:42:57 +0000     733 promptflow-runtime INFO     Runtime version: 20240429.v8. PromptFlow version: 1.10.0rc11\n",
      "2024-05-08 08:42:57 +0000     733 promptflow-runtime INFO     Setting mlflow tracking uri...\n",
      "2024-05-08 08:42:57 +0000     733 promptflow-runtime INFO     Validating 'AzureML Data Scientist' user authentication...\n",
      "2024-05-08 08:42:58 +0000     733 promptflow-runtime INFO     Successfully validated 'AzureML Data Scientist' user authentication.\n",
      "2024-05-08 08:42:58 +0000     733 promptflow-runtime INFO     Using AzureMLRunStorageV2\n",
      "2024-05-08 08:42:58 +0000     733 promptflow-runtime INFO     Setting mlflow tracking uri to 'azureml://eastus.api.azureml.ms/mlflow/v1.0/subscriptions/96aede12-2f73-41cb-b983-6d11a904839b/resourceGroups/promptflow/providers/Microsoft.MachineLearningServices/workspaces/promptflow-eastus'\n",
      "2024-05-08 08:42:58 +0000     733 promptflow-runtime INFO     Setting mlflow tracking uri to 'azureml://eastus.api.azureml.ms/mlflow/v1.0/subscriptions/96aede12-2f73-41cb-b983-6d11a904839b/resourceGroups/promptflow/providers/Microsoft.MachineLearningServices/workspaces/promptflow-eastus'\n",
      "2024-05-08 08:42:58 +0000     733 promptflow-runtime INFO     Creating unregistered output Asset for Run chat_basic_variant_0_20240508_163744_986706...\n",
      "2024-05-08 08:42:59 +0000     733 promptflow-runtime INFO     Created debug_info Asset: azureml://locations/eastus/workspaces/3e123da1-f9a5-4c91-9234-8d9ffbb39ff5/data/azureml_chat_basic_variant_0_20240508_163744_986706_output_data_debug_info/versions/1\n",
      "2024-05-08 08:42:59 +0000     733 promptflow-runtime INFO     Creating unregistered output Asset for Run chat_basic_variant_0_20240508_163744_986706...\n",
      "2024-05-08 08:42:59 +0000     733 promptflow-runtime INFO     Created flow_outputs output Asset: azureml://locations/eastus/workspaces/3e123da1-f9a5-4c91-9234-8d9ffbb39ff5/data/azureml_chat_basic_variant_0_20240508_163744_986706_output_data_flow_outputs/versions/1\n",
      "2024-05-08 08:42:59 +0000     733 promptflow-runtime INFO     Patching chat_basic_variant_0_20240508_163744_986706...\n",
      "2024-05-08 08:43:02 +0000     733 promptflow-runtime INFO     Resolve data from url finished in 0.9863254180002059 seconds\n",
      "2024-05-08 08:43:02 +0000     733 promptflow-runtime INFO     Starting the aml run 'chat_basic_variant_0_20240508_163744_986706'...\n",
      "2024-05-08 08:43:03 +0000     733 execution.bulk     INFO     The timeout for the batch run is 36000 seconds.\n",
      "2024-05-08 08:43:03 +0000     733 execution.bulk     INFO     Set process count to 3 by taking the minimum value among the factors of {'default_worker_count': 4, 'row_count': 3}.\n",
      "2024-05-08 08:43:09 +0000     733 execution.bulk     INFO     Process name(ForkProcess-6:2:2)-Process id(885)-Line number(0) start execution.\n",
      "2024-05-08 08:43:09 +0000     733 execution.bulk     INFO     Process name(ForkProcess-6:2:1)-Process id(874)-Line number(1) start execution.\n",
      "2024-05-08 08:43:09 +0000     733 execution.bulk     INFO     Process name(ForkProcess-6:2:3)-Process id(893)-Line number(2) start execution.\n",
      "2024-05-08 08:43:10 +0000     733 execution.bulk     INFO     Process name(ForkProcess-6:2:3)-Process id(893)-Line number(2) completed.\n",
      "2024-05-08 08:43:10 +0000     733 execution.bulk     INFO     Finished 1 / 3 lines.\n",
      "2024-05-08 08:43:10 +0000     733 execution.bulk     INFO     Average execution time for completed lines: 7.01 seconds. Estimated time for incomplete lines: 14.02 seconds.\n",
      "2024-05-08 08:43:10 +0000     733 execution.bulk     INFO     Process name(ForkProcess-6:2:1)-Process id(874)-Line number(1) completed.\n",
      "2024-05-08 08:43:10 +0000     733 execution.bulk     INFO     Process name(ForkProcess-6:2:2)-Process id(885)-Line number(0) completed.\n",
      "2024-05-08 08:43:11 +0000     733 execution.bulk     INFO     Finished 3 / 3 lines.\n",
      "2024-05-08 08:43:11 +0000     733 execution.bulk     INFO     Average execution time for completed lines: 2.68 seconds. Estimated time for incomplete lines: 0.0 seconds.\n",
      "2024-05-08 08:43:11 +0000     733 execution.bulk     INFO     The thread monitoring the process [893-ForkProcess-6:2:3] will be terminated.\n",
      "2024-05-08 08:43:11 +0000     733 execution.bulk     INFO     The thread monitoring the process [885-ForkProcess-6:2:2] will be terminated.\n",
      "2024-05-08 08:43:11 +0000     733 execution.bulk     INFO     The thread monitoring the process [874-ForkProcess-6:2:1] will be terminated.\n",
      "2024-05-08 08:43:11 +0000     893 execution.bulk     INFO     The process [893] has received a terminate signal.\n",
      "2024-05-08 08:43:11 +0000     874 execution.bulk     INFO     The process [874] has received a terminate signal.\n",
      "2024-05-08 08:43:11 +0000     885 execution.bulk     INFO     The process [885] has received a terminate signal.\n",
      "2024-05-08 08:43:13 +0000     733 promptflow-runtime INFO     Post processing batch result...\n",
      "2024-05-08 08:43:14 +0000     733 execution.bulk     INFO     Upload status summary metrics for run chat_basic_variant_0_20240508_163744_986706 finished in 0.6825895230001606 seconds\n",
      "2024-05-08 08:43:14 +0000     733 promptflow-runtime INFO     Successfully write run properties {\"_azureml.evaluate_artifacts\": \"[{\\\"path\\\": \\\"instance_results.jsonl\\\", \\\"type\\\": \\\"table\\\"}]\", \"azureml.promptflow.total_tokens\": 0, \"azureml.promptflow.completion_tokens\": 0, \"azureml.promptflow.prompt_tokens\": 0} with run id 'chat_basic_variant_0_20240508_163744_986706'\n",
      "2024-05-08 08:43:14 +0000     733 execution.bulk     INFO     Upload RH properties for run chat_basic_variant_0_20240508_163744_986706 finished in 0.07529307800018614 seconds\n",
      "2024-05-08 08:43:14 +0000     733 promptflow-runtime INFO     Creating Artifact for Run chat_basic_variant_0_20240508_163744_986706...\n",
      "2024-05-08 08:43:14 +0000     733 promptflow-runtime INFO     Created instance_results.jsonl Artifact.\n",
      "2024-05-08 08:43:14 +0000     733 promptflow-runtime INFO     Ending the aml run 'chat_basic_variant_0_20240508_163744_986706' with status 'Completed'...\n",
      "======= Run Summary =======\n",
      "Run name: \"chat_basic_variant_0_20240508_163744_986706\"\n",
      "Run status: \"Completed\"\n",
      "Start time: \"2024-05-08 08:43:02.587990+00:00\"\n",
      "Duration: \"0:00:11.759073\"\n",
      "Run url: \"https://ml.azure.com/runs/chat_basic_variant_0_20240508_163744_986706?wsid=/subscriptions/96aede12-2f73-41cb-b983-6d11a904839b/resourcegroups/promptflow/providers/Microsoft.MachineLearningServices/workspaces/promptflow-eastus\""
     ]
    }
   ],
   "source": [
    "flow = \".\"  # path to the flow directory\n",
    "data = \"./data.jsonl\"  # path to the data file\n",
    "\n",
    "# create run with the flow and data\n",
    "base_run = pf.run(\n",
    "    flow=flow,\n",
    "    init={\n",
    "        \"model_config\": config,\n",
    "    },\n",
    "    data=data,\n",
    "    column_mapping={\n",
    "        \"question\": \"${data.question}\",\n",
    "        \"chat_history\": \"${data.chat_history}\",\n",
    "    },\n",
    "    stream=True,\n",
    ")"
   ]
  },
  {
   "cell_type": "code",
   "execution_count": 6,
   "metadata": {},
   "outputs": [
    {
     "data": {
      "text/html": [
       "<div>\n",
       "<style scoped>\n",
       "    .dataframe tbody tr th:only-of-type {\n",
       "        vertical-align: middle;\n",
       "    }\n",
       "\n",
       "    .dataframe tbody tr th {\n",
       "        vertical-align: top;\n",
       "    }\n",
       "\n",
       "    .dataframe thead th {\n",
       "        text-align: right;\n",
       "    }\n",
       "</style>\n",
       "<table border=\"1\" class=\"dataframe\">\n",
       "  <thead>\n",
       "    <tr style=\"text-align: right;\">\n",
       "      <th></th>\n",
       "      <th>inputs.question</th>\n",
       "      <th>inputs.chat_history</th>\n",
       "      <th>inputs.line_number</th>\n",
       "      <th>outputs.answer</th>\n",
       "    </tr>\n",
       "    <tr>\n",
       "      <th>outputs.line_number</th>\n",
       "      <th></th>\n",
       "      <th></th>\n",
       "      <th></th>\n",
       "      <th></th>\n",
       "    </tr>\n",
       "  </thead>\n",
       "  <tbody>\n",
       "    <tr>\n",
       "      <th>0</th>\n",
       "      <td>What is Prompt flow?</td>\n",
       "      <td>[]</td>\n",
       "      <td>0</td>\n",
       "      <td>Prompt flow refers to the sequence or progress...</td>\n",
       "    </tr>\n",
       "    <tr>\n",
       "      <th>1</th>\n",
       "      <td>What is ChatGPT? Please explain with consise s...</td>\n",
       "      <td>[]</td>\n",
       "      <td>1</td>\n",
       "      <td>ChatGPT is an AI language model developed by O...</td>\n",
       "    </tr>\n",
       "    <tr>\n",
       "      <th>2</th>\n",
       "      <td>How many questions did user ask?</td>\n",
       "      <td>[{'role': 'user', 'content': 'where is the nea...</td>\n",
       "      <td>2</td>\n",
       "      <td>You have asked two questions so far. How can I...</td>\n",
       "    </tr>\n",
       "  </tbody>\n",
       "</table>\n",
       "</div>"
      ],
      "text/plain": [
       "                                                       inputs.question  \\\n",
       "outputs.line_number                                                      \n",
       "0                                                 What is Prompt flow?   \n",
       "1                    What is ChatGPT? Please explain with consise s...   \n",
       "2                                     How many questions did user ask?   \n",
       "\n",
       "                                                   inputs.chat_history  \\\n",
       "outputs.line_number                                                      \n",
       "0                                                                   []   \n",
       "1                                                                   []   \n",
       "2                    [{'role': 'user', 'content': 'where is the nea...   \n",
       "\n",
       "                     inputs.line_number  \\\n",
       "outputs.line_number                       \n",
       "0                                     0   \n",
       "1                                     1   \n",
       "2                                     2   \n",
       "\n",
       "                                                        outputs.answer  \n",
       "outputs.line_number                                                     \n",
       "0                    Prompt flow refers to the sequence or progress...  \n",
       "1                    ChatGPT is an AI language model developed by O...  \n",
       "2                    You have asked two questions so far. How can I...  "
      ]
     },
     "execution_count": 6,
     "metadata": {},
     "output_type": "execute_result"
    }
   ],
   "source": [
    "details = pf.get_details(base_run)\n",
    "details.head(10)"
   ]
  },
  {
   "cell_type": "markdown",
   "metadata": {},
   "source": [
    "## 3. Evaluate your flow\n",
    "Then you can use an evaluation method to evaluate your flow. The evaluation methods are also flows which usually using LLM assert the produced output matches certain expectation. "
   ]
  },
  {
   "cell_type": "markdown",
   "metadata": {},
   "source": [
    "### Run evaluation on the previous batch run\n",
    "The **base_run** is the batch run we completed in step 2 above, for web-classification flow with \"data.jsonl\" as input."
   ]
  },
  {
   "cell_type": "code",
   "execution_count": 7,
   "metadata": {},
   "outputs": [
    {
     "name": "stderr",
     "output_type": "stream",
     "text": [
      "[2024-05-08 16:43:46,854][promptflow][WARNING] - You're using automatic runtime, if it's first time you're using it, it may take a while to build runtime and you may see 'NotStarted' status for a while. \n"
     ]
    },
    {
     "name": "stdout",
     "output_type": "stream",
     "text": [
      "Portal url: https://ml.azure.com/runs/eval_checklist_variant_0_20240508_164339_681688?wsid=/subscriptions/96aede12-2f73-41cb-b983-6d11a904839b/resourcegroups/promptflow/providers/Microsoft.MachineLearningServices/workspaces/promptflow-eastus\n",
      "2024-05-08 08:43:52 +0000     121 promptflow-runtime INFO     [eval_checklist_variant_0_20240508_164339_681688] Receiving v2 bulk run request b9efa898-bd52-4c3f-b26e-e0afb3716c99: {\"flow_id\": \"eval_checklist_variant_0_20240508_164339_681688\", \"flow_run_id\": \"eval_checklist_variant_0_20240508_164339_681688\", \"flow_source\": {\"flow_source_type\": 1, \"flow_source_info\": {\"snapshot_id\": \"8d4605b6-1238-4d9f-b4a6-bfa523ee0408\"}, \"flow_dag_file\": \"flow.flex.yaml\"}, \"log_path\": \"https://promptfloweast4063704120.blob.core.windows.net/azureml/ExperimentRun/dcid.eval_checklist_variant_0_20240508_164339_681688/logs/azureml/executionlogs.txt?sv=2019-07-07&sr=b&sig=**data_scrubbed**&skoid=55b92eba-d7c7-4afd-ab76-7bb1cd345283&sktid=72f988bf-86f1-41af-91ab-2d7cd011db47&skt=2024-05-08T04%3A11%3A16Z&ske=2024-05-09T12%3A21%3A16Z&sks=b&skv=2019-07-07&st=2024-05-08T08%3A33%3A51Z&se=2024-05-08T16%3A43%3A51Z&sp=rcw\", \"app_insights_instrumentation_key\": \"InstrumentationKey=**data_scrubbed**;IngestionEndpoint=https://eastus-6.in.applicationinsights.azure.com/;LiveEndpoint=https://eastus.livediagnostics.monitor.azure.com/\", \"flow_name\": \"eval_checklist_variant_0_20240508_164339_681688\", \"batch_timeout_sec\": 36000, \"data_inputs\": {\"data\": \"azureml://datastores/workspaceblobstore/paths/LocalUpload/a5b1da8eabe697917bf8d7b46be987a2/data.jsonl\", \"run.outputs\": \"azureml:/subscriptions/96aede12-2f73-41cb-b983-6d11a904839b/resourceGroups/promptflow/providers/Microsoft.MachineLearningServices/workspaces/promptflow-eastus/data/azureml_chat_basic_variant_0_20240508_163744_986706_output_data_flow_outputs/versions/1\"}, \"inputs_mapping\": {\"answer\": \"${run.outputs.answer}\", \"statements\": \"${data.statements}\"}, \"azure_storage_setting\": {\"azure_storage_mode\": 1, \"storage_account_name\": \"promptfloweast4063704120\", \"blob_container_name\": \"azureml-blobstore-3e123da1-f9a5-4c91-9234-8d9ffbb39ff5\", \"flow_artifacts_root_path\": \"promptflow/PromptFlowArtifacts/eval_checklist_variant_0_20240508_164339_681688\", \"blob_container_sas_token\": \"?sv=2019-07-07&sr=c&sig=**data_scrubbed**&skoid=55b92eba-d7c7-4afd-ab76-7bb1cd345283&sktid=72f988bf-86f1-41af-91ab-2d7cd011db47&skt=2024-05-08T08%3A43%3A51Z&ske=2024-05-15T08%3A43%3A51Z&sks=b&skv=2019-07-07&se=2024-05-15T08%3A43%3A51Z&sp=racwl\", \"output_datastore_name\": \"workspaceblobstore\"}, \"variant_run_id\": \"chat_basic_variant_0_20240508_163744_986706\", \"init_kwargs\": {\"model_config\": {\"azure_deployment\": \"gpt-35-turbo-0125\", \"azure_endpoint\": null, \"api_version\": null, \"api_key\": null, \"connection\": \"open_ai_connection\"}}}\n",
      "2024-05-08 08:43:52 +0000     121 promptflow-runtime INFO     Runtime version: 20240429.v8. PromptFlow version: 1.10.0rc11\n",
      "2024-05-08 08:43:52 +0000     121 promptflow-runtime INFO     Updating eval_checklist_variant_0_20240508_164339_681688 to Status.Preparing...\n",
      "2024-05-08 08:43:52 +0000     121 promptflow-runtime INFO     Downloading snapshot to /mnt/host/service/app/46221/requests/eval_checklist_variant_0_20240508_164339_681688\n",
      "2024-05-08 08:43:53 +0000     121 promptflow-runtime INFO     Get snapshot sas url for 8d4605b6-1238-4d9f-b4a6-bfa523ee0408.\n",
      "2024-05-08 08:43:53 +0000     121 promptflow-runtime INFO     Snapshot 8d4605b6-1238-4d9f-b4a6-bfa523ee0408 contains 9 files.\n",
      "2024-05-08 08:43:53 +0000     121 promptflow-runtime INFO     Download snapshot 8d4605b6-1238-4d9f-b4a6-bfa523ee0408 completed.\n",
      "2024-05-08 08:43:53 +0000     121 promptflow-runtime INFO     Successfully download snapshot to /mnt/host/service/app/46221/requests/eval_checklist_variant_0_20240508_164339_681688\n",
      "2024-05-08 08:43:53 +0000     121 promptflow-runtime INFO     About to execute a python flow.\n",
      "2024-05-08 08:43:54 +0000     121 promptflow-runtime INFO     Use spawn method to start child process.\n",
      "2024-05-08 08:43:54 +0000     121 promptflow-runtime INFO     Starting to check process 1007 status for run eval_checklist_variant_0_20240508_164339_681688\n",
      "2024-05-08 08:43:54 +0000     121 promptflow-runtime INFO     Start checking run status for run eval_checklist_variant_0_20240508_164339_681688\n",
      "2024-05-08 08:43:59 +0000    1007 promptflow-runtime INFO     [121--1007] Start processing flowV2......\n",
      "2024-05-08 08:43:59 +0000    1007 promptflow-runtime INFO     Runtime version: 20240429.v8. PromptFlow version: 1.10.0rc11\n",
      "2024-05-08 08:43:59 +0000    1007 promptflow-runtime INFO     Setting mlflow tracking uri...\n",
      "2024-05-08 08:43:59 +0000    1007 promptflow-runtime INFO     Validating 'AzureML Data Scientist' user authentication...\n",
      "2024-05-08 08:44:00 +0000    1007 promptflow-runtime INFO     Successfully validated 'AzureML Data Scientist' user authentication.\n",
      "2024-05-08 08:44:00 +0000    1007 promptflow-runtime INFO     Using AzureMLRunStorageV2\n",
      "2024-05-08 08:44:00 +0000    1007 promptflow-runtime INFO     Setting mlflow tracking uri to 'azureml://eastus.api.azureml.ms/mlflow/v1.0/subscriptions/96aede12-2f73-41cb-b983-6d11a904839b/resourceGroups/promptflow/providers/Microsoft.MachineLearningServices/workspaces/promptflow-eastus'\n",
      "2024-05-08 08:44:00 +0000    1007 promptflow-runtime INFO     Setting mlflow tracking uri to 'azureml://eastus.api.azureml.ms/mlflow/v1.0/subscriptions/96aede12-2f73-41cb-b983-6d11a904839b/resourceGroups/promptflow/providers/Microsoft.MachineLearningServices/workspaces/promptflow-eastus'\n",
      "2024-05-08 08:44:00 +0000    1007 promptflow-runtime INFO     Creating unregistered output Asset for Run eval_checklist_variant_0_20240508_164339_681688...\n",
      "2024-05-08 08:44:00 +0000    1007 promptflow-runtime INFO     Created debug_info Asset: azureml://locations/eastus/workspaces/3e123da1-f9a5-4c91-9234-8d9ffbb39ff5/data/azureml_eval_checklist_variant_0_20240508_164339_681688_output_data_debug_info/versions/1\n",
      "2024-05-08 08:44:00 +0000    1007 promptflow-runtime INFO     Creating unregistered output Asset for Run eval_checklist_variant_0_20240508_164339_681688...\n",
      "2024-05-08 08:44:00 +0000    1007 promptflow-runtime INFO     Created flow_outputs output Asset: azureml://locations/eastus/workspaces/3e123da1-f9a5-4c91-9234-8d9ffbb39ff5/data/azureml_eval_checklist_variant_0_20240508_164339_681688_output_data_flow_outputs/versions/1\n",
      "2024-05-08 08:44:00 +0000    1007 promptflow-runtime INFO     Patching eval_checklist_variant_0_20240508_164339_681688...\n",
      "2024-05-08 08:44:03 +0000    1007 promptflow-runtime INFO     Resolve data from url finished in 1.0221833209998294 seconds\n",
      "2024-05-08 08:44:05 +0000    1007 promptflow-runtime INFO     Resolve data from url finished in 1.5832924869998806 seconds\n",
      "2024-05-08 08:44:05 +0000    1007 promptflow-runtime INFO     Starting the aml run 'eval_checklist_variant_0_20240508_164339_681688'...\n",
      "2024-05-08 08:44:06 +0000    1007 execution.bulk     INFO     The timeout for the batch run is 36000 seconds.\n",
      "2024-05-08 08:44:06 +0000    1007 execution.bulk     INFO     Set process count to 3 by taking the minimum value among the factors of {'default_worker_count': 4, 'row_count': 3}.\n",
      "2024-05-08 08:44:12 +0000    1007 execution.bulk     INFO     Process name(ForkProcess-2:2:1)-Process id(1152)-Line number(1) start execution.\n",
      "2024-05-08 08:44:12 +0000    1007 execution.bulk     INFO     Process name(ForkProcess-2:2:2)-Process id(1163)-Line number(0) start execution.\n",
      "2024-05-08 08:44:12 +0000    1007 execution.bulk     INFO     Process name(ForkProcess-2:2:3)-Process id(1173)-Line number(2) start execution.\n",
      "2024-05-08 08:44:13 +0000    1007 execution.bulk     INFO     Process name(ForkProcess-2:2:2)-Process id(1163)-Line number(0) completed.\n",
      "2024-05-08 08:44:13 +0000    1007 execution.bulk     INFO     Process name(ForkProcess-2:2:1)-Process id(1152)-Line number(1) completed.\n",
      "2024-05-08 08:44:13 +0000    1007 execution.bulk     INFO     Process name(ForkProcess-2:2:3)-Process id(1173)-Line number(2) completed.\n",
      "2024-05-08 08:44:14 +0000    1007 execution.bulk     INFO     Finished 3 / 3 lines.\n",
      "2024-05-08 08:44:14 +0000    1007 execution.bulk     INFO     Average execution time for completed lines: 2.67 seconds. Estimated time for incomplete lines: 0.0 seconds.\n",
      "2024-05-08 08:44:14 +0000    1007 execution.bulk     INFO     The thread monitoring the process [1163-ForkProcess-2:2:2] will be terminated.\n",
      "2024-05-08 08:44:14 +0000    1007 execution.bulk     INFO     The thread monitoring the process [1152-ForkProcess-2:2:1] will be terminated.\n",
      "2024-05-08 08:44:14 +0000    1007 execution.bulk     INFO     The thread monitoring the process [1173-ForkProcess-2:2:3] will be terminated.\n",
      "2024-05-08 08:44:14 +0000    1163 execution.bulk     INFO     The process [1163] has received a terminate signal.\n",
      "2024-05-08 08:44:14 +0000    1152 execution.bulk     INFO     The process [1152] has received a terminate signal.\n",
      "2024-05-08 08:44:14 +0000    1173 execution.bulk     INFO     The process [1173] has received a terminate signal.\n",
      "2024-05-08 08:44:16 +0000    1007 execution.bulk     INFO     Executing aggregation function...\n",
      "2024-05-08 08:44:16 +0000    1007 execution.bulk     INFO     Finish executing aggregation function.\n",
      "2024-05-08 08:44:16 +0000    1007 promptflow-runtime INFO     Post processing batch result...\n",
      "2024-05-08 08:44:17 +0000    1007 execution.bulk     INFO     Upload status summary metrics for run eval_checklist_variant_0_20240508_164339_681688 finished in 0.6054888020000817 seconds\n",
      "2024-05-08 08:44:17 +0000    1007 execution.bulk     INFO     Upload metrics for run eval_checklist_variant_0_20240508_164339_681688 finished in 0.6293388930000674 seconds\n",
      "2024-05-08 08:44:17 +0000    1007 promptflow-runtime INFO     Successfully write run properties {\"_azureml.evaluate_artifacts\": \"[{\\\"path\\\": \\\"instance_results.jsonl\\\", \\\"type\\\": \\\"table\\\"}]\", \"azureml.promptflow.total_tokens\": 0, \"azureml.promptflow.completion_tokens\": 0, \"azureml.promptflow.prompt_tokens\": 0} with run id 'eval_checklist_variant_0_20240508_164339_681688'\n",
      "2024-05-08 08:44:17 +0000    1007 execution.bulk     INFO     Upload RH properties for run eval_checklist_variant_0_20240508_164339_681688 finished in 0.12492409500009671 seconds\n",
      "2024-05-08 08:44:17 +0000    1007 promptflow-runtime INFO     Creating Artifact for Run eval_checklist_variant_0_20240508_164339_681688...\n",
      "2024-05-08 08:44:18 +0000    1007 promptflow-runtime INFO     Created instance_results.jsonl Artifact.\n",
      "2024-05-08 08:44:18 +0000    1007 promptflow-runtime INFO     Ending the aml run 'eval_checklist_variant_0_20240508_164339_681688' with status 'Completed'...\n",
      "======= Run Summary =======\n",
      "Run name: \"eval_checklist_variant_0_20240508_164339_681688\"\n",
      "Run status: \"Completed\"\n",
      "Start time: \"2024-05-08 08:44:05.640833+00:00\"\n",
      "Duration: \"0:00:12.495402\"\n",
      "Run url: \"https://ml.azure.com/runs/eval_checklist_variant_0_20240508_164339_681688?wsid=/subscriptions/96aede12-2f73-41cb-b983-6d11a904839b/resourcegroups/promptflow/providers/Microsoft.MachineLearningServices/workspaces/promptflow-eastus\""
     ]
    }
   ],
   "source": [
    "eval_flow = \"../eval-checklist/flow.flex.yaml\"\n",
    "\n",
    "eval_run = pf.run(\n",
    "    flow=eval_flow,\n",
    "    init={\n",
    "        \"model_config\": config,\n",
    "    },\n",
    "    data=\"./data.jsonl\",  # path to the data file\n",
    "    run=base_run,  # specify base_run as the run you want to evaluate\n",
    "    column_mapping={\n",
    "        \"answer\": \"${run.outputs.answer}\",\n",
    "        \"statements\": \"${data.statements}\",\n",
    "    },\n",
    "    stream=True,\n",
    ")"
   ]
  },
  {
   "cell_type": "code",
   "execution_count": 8,
   "metadata": {},
   "outputs": [
    {
     "data": {
      "text/html": [
       "<div>\n",
       "<style scoped>\n",
       "    .dataframe tbody tr th:only-of-type {\n",
       "        vertical-align: middle;\n",
       "    }\n",
       "\n",
       "    .dataframe tbody tr th {\n",
       "        vertical-align: top;\n",
       "    }\n",
       "\n",
       "    .dataframe thead th {\n",
       "        text-align: right;\n",
       "    }\n",
       "</style>\n",
       "<table border=\"1\" class=\"dataframe\">\n",
       "  <thead>\n",
       "    <tr style=\"text-align: right;\">\n",
       "      <th></th>\n",
       "      <th>inputs.answer</th>\n",
       "      <th>inputs.statements</th>\n",
       "      <th>inputs.line_number</th>\n",
       "      <th>outputs.correctness</th>\n",
       "      <th>outputs.consise</th>\n",
       "    </tr>\n",
       "    <tr>\n",
       "      <th>outputs.line_number</th>\n",
       "      <th></th>\n",
       "      <th></th>\n",
       "      <th></th>\n",
       "      <th></th>\n",
       "      <th></th>\n",
       "    </tr>\n",
       "  </thead>\n",
       "  <tbody>\n",
       "    <tr>\n",
       "      <th>0</th>\n",
       "      <td>Prompt flow refers to the sequence or progress...</td>\n",
       "      <td>{'correctness': 'should explain what's 'Prompt...</td>\n",
       "      <td>0</td>\n",
       "      <td>{'score': '5', 'explanation': 'The statement i...</td>\n",
       "      <td>{'score': '4', 'explanation': 'The statement i...</td>\n",
       "    </tr>\n",
       "    <tr>\n",
       "      <th>1</th>\n",
       "      <td>ChatGPT is an AI language model developed by O...</td>\n",
       "      <td>{'correctness': 'should explain what's ChatGPT...</td>\n",
       "      <td>1</td>\n",
       "      <td>{'score': '5', 'explanation': 'The statement i...</td>\n",
       "      <td>{'score': '4', 'explanation': 'The statement i...</td>\n",
       "    </tr>\n",
       "    <tr>\n",
       "      <th>2</th>\n",
       "      <td>You have asked two questions so far. How can I...</td>\n",
       "      <td>{'correctness': 'result should be 2', 'consise...</td>\n",
       "      <td>2</td>\n",
       "      <td>{'score': 2, 'explanation': 'The statement sho...</td>\n",
       "      <td>{'score': '4', 'explanation': 'The statement i...</td>\n",
       "    </tr>\n",
       "  </tbody>\n",
       "</table>\n",
       "</div>"
      ],
      "text/plain": [
       "                                                         inputs.answer  \\\n",
       "outputs.line_number                                                      \n",
       "0                    Prompt flow refers to the sequence or progress...   \n",
       "1                    ChatGPT is an AI language model developed by O...   \n",
       "2                    You have asked two questions so far. How can I...   \n",
       "\n",
       "                                                     inputs.statements  \\\n",
       "outputs.line_number                                                      \n",
       "0                    {'correctness': 'should explain what's 'Prompt...   \n",
       "1                    {'correctness': 'should explain what's ChatGPT...   \n",
       "2                    {'correctness': 'result should be 2', 'consise...   \n",
       "\n",
       "                     inputs.line_number  \\\n",
       "outputs.line_number                       \n",
       "0                                     0   \n",
       "1                                     1   \n",
       "2                                     2   \n",
       "\n",
       "                                                   outputs.correctness  \\\n",
       "outputs.line_number                                                      \n",
       "0                    {'score': '5', 'explanation': 'The statement i...   \n",
       "1                    {'score': '5', 'explanation': 'The statement i...   \n",
       "2                    {'score': 2, 'explanation': 'The statement sho...   \n",
       "\n",
       "                                                       outputs.consise  \n",
       "outputs.line_number                                                     \n",
       "0                    {'score': '4', 'explanation': 'The statement i...  \n",
       "1                    {'score': '4', 'explanation': 'The statement i...  \n",
       "2                    {'score': '4', 'explanation': 'The statement i...  "
      ]
     },
     "execution_count": 8,
     "metadata": {},
     "output_type": "execute_result"
    }
   ],
   "source": [
    "details = pf.get_details(eval_run)\n",
    "details.head(10)"
   ]
  },
  {
   "cell_type": "code",
   "execution_count": 9,
   "metadata": {},
   "outputs": [
    {
     "name": "stdout",
     "output_type": "stream",
     "text": [
      "{\n",
      "    \"average_correctness\": 4.0,\n",
      "    \"total\": 3.0\n",
      "}\n"
     ]
    }
   ],
   "source": [
    "import json\n",
    "\n",
    "metrics = pf.get_metrics(eval_run)\n",
    "print(json.dumps(metrics, indent=4))"
   ]
  },
  {
   "cell_type": "code",
   "execution_count": 10,
   "metadata": {},
   "outputs": [
    {
     "name": "stdout",
     "output_type": "stream",
     "text": [
      "Web View: https://ml.azure.com/prompts/flow/bulkrun/runs/outputs?wsid=/subscriptions/96aede12-2f73-41cb-b983-6d11a904839b/resourceGroups/promptflow/providers/Microsoft.MachineLearningServices/workspaces/promptflow-eastus&runId=chat_basic_variant_0_20240508_163744_986706,eval_checklist_variant_0_20240508_164339_681688\n"
     ]
    }
   ],
   "source": [
    "pf.visualize([base_run, eval_run])"
   ]
  },
  {
   "cell_type": "markdown",
   "metadata": {},
   "source": [
    "## Next steps\n",
    "\n",
    "By now you've successfully run your chat flow and did evaluation on it. That's great!\n",
    "\n",
    "You can check out more examples:\n",
    "- [Stream Chat](https://github.com/microsoft/promptflow/tree/main/examples/flex-flows/chat-stream): demonstrates how to create a chatbot that can remember previous interactions and use the conversation history to generate next message."
   ]
  }
 ],
 "metadata": {
  "build_doc": {
   "author": [
    "D-W-@github.com",
    "wangchao1230@github.com"
   ],
   "category": "azure",
   "section": "Flow",
   "weight": 11
  },
  "description": "A quickstart tutorial to run a class based flex flow and evaluate it in azure.",
  "kernelspec": {
   "display_name": "prompt_flow",
   "language": "python",
   "name": "python3"
  },
  "language_info": {
   "codemirror_mode": {
    "name": "ipython",
    "version": 3
   },
   "file_extension": ".py",
   "mimetype": "text/x-python",
   "name": "python",
   "nbconvert_exporter": "python",
   "pygments_lexer": "ipython3",
   "version": "3.11.5"
  },
  "resources": "examples/requirements-azure.txt, examples/flex-flows/basic, examples/flex-flows/eval-checklist"
 },
 "nbformat": 4,
 "nbformat_minor": 2
}
