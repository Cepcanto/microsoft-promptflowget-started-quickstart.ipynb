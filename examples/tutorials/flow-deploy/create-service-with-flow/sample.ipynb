{
 "cells": [
  {
   "cell_type": "markdown",
   "metadata": {},
   "source": [
    "# Example1: Load flow as a function with inputs"
   ]
  },
  {
   "cell_type": "code",
   "execution_count": null,
   "metadata": {},
   "outputs": [],
   "source": [
    "from promptflow import load_flow\n",
    "\n",
    "\n",
    "flow_path=\"../../flows/standard/web-classification\"\n",
    "sample_url = \"https://www.youtube.com/watch?v=o5ZQyXaAv1g\"\n",
    "\n",
    "f = load_flow(source=flow_path)\n",
    "result = f(url=sample_url)\n",
    "\n",
    "print(result)"
   ]
  },
  {
   "cell_type": "markdown",
   "metadata": {},
   "source": [
    "# Example2: Load flow as a function with connection overwrite"
   ]
  },
  {
   "cell_type": "code",
   "execution_count": null,
   "metadata": {},
   "outputs": [],
   "source": [
    "f = load_flow(\n",
    "    source=flow_path,\n",
    ")\n",
    "# need to create the connection\n",
    "f.context.connections={\"classify_with_llm\": {\"connection\": \"new_ai_connection\"}}\n",
    "\n",
    "result = f(url=sample_url)\n",
    "\n",
    "print(result)"
   ]
  },
  {
   "cell_type": "markdown",
   "metadata": {},
   "source": [
    "## Example 3: Local flow as a function with flow inputs overwrite"
   ]
  },
  {
   "cell_type": "code",
   "execution_count": null,
   "metadata": {},
   "outputs": [],
   "source": [
    "from promptflow.entities import FlowContext\n",
    "\n",
    "f = load_flow(source=flow_path)\n",
    "f.context = FlowContext(\n",
    "    # node \"fetch_text_content_from_url\" will take inputs from the following command instead of from flow input\n",
    "    overrides={\"nodes.fetch_text_content_from_url.inputs.url\": sample_url},\n",
    ")\n",
    "# the url=\"unknown\" will not take effect\n",
    "result = f(url=\"unknown\")\n",
    "print(result)"
   ]
  },
  {
   "cell_type": "markdown",
   "metadata": {},
   "source": [
    "## Example 4: Load flow as a function with streaming output"
   ]
  },
  {
   "cell_type": "code",
   "execution_count": null,
   "metadata": {},
   "outputs": [],
   "source": [
    "f = load_flow(source=\"../../flows/chat/basic-chat\")\n",
    "f.context.streaming = True\n",
    "result = f(\n",
    "    chat_history=[\n",
    "        {\n",
    "            \"inputs\": {\"chat_input\": \"Hi\"}, \n",
    "            \"outputs\": {\"chat_output\": \"Hello! How can I assist you today?\"}\n",
    "        }\n",
    "    ]\n",
    ")\n",
    "\n",
    "# the result will be a generator, iterate it to get the result\n",
    "for r in result:\n",
    "    print(r)"
   ]
  }
 ],
 "metadata": {
  "kernelspec": {
   "display_name": "github_v2",
   "language": "python",
   "name": "python3"
  },
  "language_info": {
   "codemirror_mode": {
    "name": "ipython",
    "version": 3
   },
   "file_extension": ".py",
   "mimetype": "text/x-python",
   "name": "python",
   "nbconvert_exporter": "python",
   "pygments_lexer": "ipython3",
   "version": "3.8.13"
  }
 },
 "nbformat": 4,
 "nbformat_minor": 2
}
