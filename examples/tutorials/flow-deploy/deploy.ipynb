{
 "cells": [
  {
   "attachments": {},
   "cell_type": "markdown",
   "metadata": {},
   "source": [
    "# Flow Serve & Export\n",
    "Before we start, please ensure you have create the connection required by flow.\n",
    "See [connections](../../connections/) for more details about connection."
   ]
  },
  {
   "attachments": {},
   "cell_type": "markdown",
   "metadata": {},
   "source": [
    "The following CLI command allows you serve a flow as an endpoint.\n",
    "\n",
    "**Note**: Please open a terminal outside the notebook and run the command, as the endpoint will keep running until killing the process manually."
   ]
  },
  {
   "cell_type": "code",
   "execution_count": null,
   "metadata": {},
   "outputs": [],
   "source": [
    "!pf flow serve --source ../../flows/standard/basic-with-connection --port 8080 --host localhost"
   ]
  },
  {
   "attachments": {},
   "cell_type": "markdown",
   "metadata": {},
   "source": [
    "The following command can test the endpoint with flow inputs as data."
   ]
  },
  {
   "cell_type": "code",
   "execution_count": null,
   "metadata": {},
   "outputs": [],
   "source": [
    "!curl http://localhost:8080/score --data \"{\\\"text\\\":\\\"Hello world!\\\"}\"\n"
   ]
  }
 ],
 "metadata": {
  "kernelspec": {
   "display_name": "promptflow-sdk",
   "language": "python",
   "name": "python3"
  },
  "language_info": {
   "codemirror_mode": {
    "name": "ipython",
    "version": 3
   },
   "file_extension": ".py",
   "mimetype": "text/x-python",
   "name": "python",
   "nbconvert_exporter": "python",
   "pygments_lexer": "ipython3",
   "version": "3.9.7"
  },
  "orig_nbformat": 4
 },
 "nbformat": 4,
 "nbformat_minor": 2
}
