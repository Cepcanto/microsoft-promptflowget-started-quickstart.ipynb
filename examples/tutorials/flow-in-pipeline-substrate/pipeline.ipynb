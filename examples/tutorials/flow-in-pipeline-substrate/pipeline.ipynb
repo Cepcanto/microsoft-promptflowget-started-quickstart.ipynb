{
 "cells": [
  {
   "cell_type": "code",
   "execution_count": 1,
   "metadata": {},
   "outputs": [],
   "source": [
    "import json\n",
    "import promptflow as pf\n",
    "from promptflow.sdk.entities import AzureOpenAIConnection\n",
    "\n",
    "# client can help manage your runs and connections.\n",
    "client = pf.PFClient()"
   ]
  },
  {
   "cell_type": "code",
   "execution_count": 2,
   "metadata": {},
   "outputs": [],
   "source": [
    "flow = \"../../flows/standard/stewieleo\" # path to the flow directory\n",
    "data=\"./.intermediate/flow-input.jsonl\" # path to the data file\n",
    "\n",
    "# create batch run with default variant\n",
    "base_run = pf.run_batch(\n",
    "    flow=flow,\n",
    "    data=data,\n",
    "    output\n",
    ")"
   ]
  }
 ],
 "metadata": {
  "kernelspec": {
   "display_name": "Python 3",
   "language": "python",
   "name": "python3"
  },
  "language_info": {
   "codemirror_mode": {
    "name": "ipython",
    "version": 3
   },
   "file_extension": ".py",
   "mimetype": "text/x-python",
   "name": "python",
   "nbconvert_exporter": "python",
   "pygments_lexer": "ipython3",
   "version": "3.9.17"
  },
  "orig_nbformat": 4
 },
 "nbformat": 4,
 "nbformat_minor": 2
}
