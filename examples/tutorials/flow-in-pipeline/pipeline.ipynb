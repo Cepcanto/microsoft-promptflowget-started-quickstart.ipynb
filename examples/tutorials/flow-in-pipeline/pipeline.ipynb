{
 "cells": [
  {
   "cell_type": "markdown",
   "metadata": {},
   "source": [
    "# Use Flow in Pipeline\n",
    "\n",
    "**Requirements** - In order to benefit from this tutorial, you will need:\n",
    "- A basic understanding of Machine Learning\n",
    "- An Azure account with an active subscription - [Create an account for free](https://azure.microsoft.com/free/?WT.mc_id=A261C142F)\n",
    "- An Azure ML workspace - [Configure workspace](../../configuration.ipynb)\n",
    "- A python environment\n",
    "- Installed Azure Machine Learning Python SDK v2\n",
    "- Installed PromptFlow SDK\n",
    "\n",
    "**Learning Objectives** - By the end of this tutorial, you should be able to:\n",
    "- Connect to your AML workspace from the Python SDK\n",
    "- Load a flow as a `ParallelComponent`\n",
    "- Using the component along with other components loaded from yaml in one `PipelineJob`.\n",
    "\n",
    "**Motivations** - This guide will introduce how to use a flow along with other data processing steps in a pipeline.\n",
    "\n",
    "**Known issues** - This feature is not stable now and here are known issues we are actively fixing:\n",
    "- You must include a `.promptflow/flow.tools.json` in the flow directory first. This file will automatically generated when you run the flow locally.\n",
    "- Component of the same name (even with different version) can be created only once. An auto-generated component name based on hash will be used when component name & version are neither provided.\n",
    "- The flow nodes can only run on computer cluster with managed identity assigned Azure ML Data Scientist role.\n",
    "- connection/columns_mapping overwrite doesn't work for now.\n",
    "- This feature works on canary workspace only for now: [sample job link](https://ml.azure.com/experiments/id/9ce1a534-9d3d-4761-a5e7-5299dd6912f1/runs/clever_leek_4xh6x9z7s5?wsid=/subscriptions/96aede12-2f73-41cb-b983-6d11a904839b/resourcegroups/promptflow/workspaces/promptflow-canary-dev&tid=72f988bf-86f1-41af-91ab-2d7cd011db47)"
   ]
  },
  {
   "cell_type": "markdown",
   "metadata": {},
   "source": [
    "## 0. Install dependent packages\n",
    "\n",
    "Please follow [configuration.ipynb](../../configuration.ipynb) to install dependent packages and connect to a workspace first."
   ]
  },
  {
   "cell_type": "code",
   "execution_count": 1,
   "metadata": {},
   "outputs": [
    {
     "name": "stdout",
     "output_type": "stream",
     "text": [
      "Looking in indexes: https://pypi.org/simple, https://pkgs.dev.azure.com/azure-sdk/public/_packaging/azure-sdk-for-python/pypi/simple/\n",
      "Collecting azure-ai-ml==1.9.0a20230703002\n",
      "  Downloading https://pkgs.dev.azure.com/azure-sdk/29ec6040-b234-4e31-b139-33dc4287b756/_packaging/3572dbf9-b5ef-433b-9137-fc4d7768e7cc/pypi/download/azure-ai-ml/1.9a20230703002/azure_ai_ml-1.9.0a20230703002-py3-none-any.whl (6.2 MB)\n",
      "     ---------------------------------------- 6.2/6.2 MB 4.5 MB/s eta 0:00:00\n",
      "Requirement already satisfied: pyyaml<7.0.0,>=5.1.0 in c:\\users\\yigao\\scoop\\persist\\miniconda3\\envs\\pfexamples\\lib\\site-packages (from azure-ai-ml==1.9.0a20230703002) (6.0.1)\n",
      "Requirement already satisfied: msrest>=0.6.18 in c:\\users\\yigao\\scoop\\persist\\miniconda3\\envs\\pfexamples\\lib\\site-packages (from azure-ai-ml==1.9.0a20230703002) (0.7.1)\n",
      "Requirement already satisfied: azure-core<2.0.0,>=1.23.0 in c:\\users\\yigao\\scoop\\persist\\miniconda3\\envs\\pfexamples\\lib\\site-packages (from azure-ai-ml==1.9.0a20230703002) (1.26.4)\n",
      "Requirement already satisfied: azure-mgmt-core<2.0.0,>=1.3.0 in c:\\users\\yigao\\scoop\\persist\\miniconda3\\envs\\pfexamples\\lib\\site-packages (from azure-ai-ml==1.9.0a20230703002) (1.4.0)\n",
      "Requirement already satisfied: marshmallow<4.0.0,>=3.5 in c:\\users\\yigao\\scoop\\persist\\miniconda3\\envs\\pfexamples\\lib\\site-packages (from azure-ai-ml==1.9.0a20230703002) (3.20.1)\n",
      "Requirement already satisfied: jsonschema<5.0.0,>=4.0.0 in c:\\users\\yigao\\scoop\\persist\\miniconda3\\envs\\pfexamples\\lib\\site-packages (from azure-ai-ml==1.9.0a20230703002) (4.18.4)\n",
      "Requirement already satisfied: tqdm<5.0.0 in c:\\users\\yigao\\scoop\\persist\\miniconda3\\envs\\pfexamples\\lib\\site-packages (from azure-ai-ml==1.9.0a20230703002) (4.65.0)\n",
      "Requirement already satisfied: strictyaml<2.0.0 in c:\\users\\yigao\\scoop\\persist\\miniconda3\\envs\\pfexamples\\lib\\site-packages (from azure-ai-ml==1.9.0a20230703002) (1.7.3)\n",
      "Requirement already satisfied: colorama<0.5.0 in c:\\users\\yigao\\scoop\\persist\\miniconda3\\envs\\pfexamples\\lib\\site-packages (from azure-ai-ml==1.9.0a20230703002) (0.4.6)\n",
      "Requirement already satisfied: pyjwt<3.0.0 in c:\\users\\yigao\\scoop\\persist\\miniconda3\\envs\\pfexamples\\lib\\site-packages (from azure-ai-ml==1.9.0a20230703002) (2.4.0)\n",
      "Requirement already satisfied: azure-storage-blob<13.0.0,>=12.10.0 in c:\\users\\yigao\\scoop\\persist\\miniconda3\\envs\\pfexamples\\lib\\site-packages (from azure-ai-ml==1.9.0a20230703002) (12.13.0)\n",
      "Requirement already satisfied: azure-storage-file-share<13.0.0 in c:\\users\\yigao\\scoop\\persist\\miniconda3\\envs\\pfexamples\\lib\\site-packages (from azure-ai-ml==1.9.0a20230703002) (12.12.0)\n",
      "Requirement already satisfied: azure-storage-file-datalake<13.0.0 in c:\\users\\yigao\\scoop\\persist\\miniconda3\\envs\\pfexamples\\lib\\site-packages (from azure-ai-ml==1.9.0a20230703002) (12.8.0)\n",
      "Requirement already satisfied: pydash<6.0.0 in c:\\users\\yigao\\scoop\\persist\\miniconda3\\envs\\pfexamples\\lib\\site-packages (from azure-ai-ml==1.9.0a20230703002) (5.1.2)\n",
      "Requirement already satisfied: isodate in c:\\users\\yigao\\scoop\\persist\\miniconda3\\envs\\pfexamples\\lib\\site-packages (from azure-ai-ml==1.9.0a20230703002) (0.6.1)\n",
      "Requirement already satisfied: azure-common<2.0.0,>=1.1 in c:\\users\\yigao\\scoop\\persist\\miniconda3\\envs\\pfexamples\\lib\\site-packages (from azure-ai-ml==1.9.0a20230703002) (1.1.28)\n",
      "Requirement already satisfied: typing-extensions<5.0.0 in c:\\users\\yigao\\scoop\\persist\\miniconda3\\envs\\pfexamples\\lib\\site-packages (from azure-ai-ml==1.9.0a20230703002) (4.5.0)\n",
      "Requirement already satisfied: opencensus-ext-azure<2.0.0 in c:\\users\\yigao\\scoop\\persist\\miniconda3\\envs\\pfexamples\\lib\\site-packages (from azure-ai-ml==1.9.0a20230703002) (1.1.9)\n",
      "Requirement already satisfied: requests>=2.18.4 in c:\\users\\yigao\\scoop\\persist\\miniconda3\\envs\\pfexamples\\lib\\site-packages (from azure-core<2.0.0,>=1.23.0->azure-ai-ml==1.9.0a20230703002) (2.31.0)\n",
      "Requirement already satisfied: six>=1.11.0 in c:\\users\\yigao\\scoop\\persist\\miniconda3\\envs\\pfexamples\\lib\\site-packages (from azure-core<2.0.0,>=1.23.0->azure-ai-ml==1.9.0a20230703002) (1.16.0)\n",
      "Requirement already satisfied: cryptography>=2.1.4 in c:\\users\\yigao\\scoop\\persist\\miniconda3\\envs\\pfexamples\\lib\\site-packages (from azure-storage-blob<13.0.0,>=12.10.0->azure-ai-ml==1.9.0a20230703002) (41.0.0)\n",
      "Requirement already satisfied: attrs>=22.2.0 in c:\\users\\yigao\\scoop\\persist\\miniconda3\\envs\\pfexamples\\lib\\site-packages (from jsonschema<5.0.0,>=4.0.0->azure-ai-ml==1.9.0a20230703002) (23.1.0)\n",
      "Requirement already satisfied: jsonschema-specifications>=2023.03.6 in c:\\users\\yigao\\scoop\\persist\\miniconda3\\envs\\pfexamples\\lib\\site-packages (from jsonschema<5.0.0,>=4.0.0->azure-ai-ml==1.9.0a20230703002) (2023.7.1)\n",
      "Requirement already satisfied: referencing>=0.28.4 in c:\\users\\yigao\\scoop\\persist\\miniconda3\\envs\\pfexamples\\lib\\site-packages (from jsonschema<5.0.0,>=4.0.0->azure-ai-ml==1.9.0a20230703002) (0.30.0)\n",
      "Requirement already satisfied: rpds-py>=0.7.1 in c:\\users\\yigao\\scoop\\persist\\miniconda3\\envs\\pfexamples\\lib\\site-packages (from jsonschema<5.0.0,>=4.0.0->azure-ai-ml==1.9.0a20230703002) (0.9.2)\n",
      "Note: you may need to restart the kernel to use updated packages.Requirement already satisfied: packaging>=17.0 in c:\\users\\yigao\\scoop\\persist\\miniconda3\\envs\\pfexamples\\lib\\site-packages (from marshmallow<4.0.0,>=3.5->azure-ai-ml==1.9.0a20230703002) (23.0)\n",
      "Requirement already satisfied: certifi>=2017.4.17 in c:\\users\\yigao\\scoop\\persist\\miniconda3\\envs\\pfexamples\\lib\\site-packages (from msrest>=0.6.18->azure-ai-ml==1.9.0a20230703002) (2023.7.22)\n",
      "\n",
      "Requirement already satisfied: requests-oauthlib>=0.5.0 in c:\\users\\yigao\\scoop\\persist\\miniconda3\\envs\\pfexamples\\lib\\site-packages (from msrest>=0.6.18->azure-ai-ml==1.9.0a20230703002) (1.3.1)\n",
      "Requirement already satisfied: azure-identity<2.0.0,>=1.5.0 in c:\\users\\yigao\\scoop\\persist\\miniconda3\\envs\\pfexamples\\lib\\site-packages (from opencensus-ext-azure<2.0.0->azure-ai-ml==1.9.0a20230703002) (1.12.0)\n",
      "Requirement already satisfied: opencensus<1.0.0,>=0.11.2 in c:\\users\\yigao\\scoop\\persist\\miniconda3\\envs\\pfexamples\\lib\\site-packages (from opencensus-ext-azure<2.0.0->azure-ai-ml==1.9.0a20230703002) (0.11.2)\n",
      "Requirement already satisfied: psutil>=5.6.3 in c:\\users\\yigao\\scoop\\persist\\miniconda3\\envs\\pfexamples\\lib\\site-packages (from opencensus-ext-azure<2.0.0->azure-ai-ml==1.9.0a20230703002) (5.9.5)\n",
      "Requirement already satisfied: python-dateutil>=2.6.0 in c:\\users\\yigao\\scoop\\persist\\miniconda3\\envs\\pfexamples\\lib\\site-packages (from strictyaml<2.0.0->azure-ai-ml==1.9.0a20230703002) (2.8.2)\n",
      "Requirement already satisfied: msal<2.0.0,>=1.12.0 in c:\\users\\yigao\\scoop\\persist\\miniconda3\\envs\\pfexamples\\lib\\site-packages (from azure-identity<2.0.0,>=1.5.0->opencensus-ext-azure<2.0.0->azure-ai-ml==1.9.0a20230703002) (1.22.0)\n",
      "Requirement already satisfied: msal-extensions<2.0.0,>=0.3.0 in c:\\users\\yigao\\scoop\\persist\\miniconda3\\envs\\pfexamples\\lib\\site-packages (from azure-identity<2.0.0,>=1.5.0->opencensus-ext-azure<2.0.0->azure-ai-ml==1.9.0a20230703002) (1.0.0)\n",
      "Requirement already satisfied: cffi>=1.12 in c:\\users\\yigao\\scoop\\persist\\miniconda3\\envs\\pfexamples\\lib\\site-packages (from cryptography>=2.1.4->azure-storage-blob<13.0.0,>=12.10.0->azure-ai-ml==1.9.0a20230703002) (1.15.1)\n",
      "Requirement already satisfied: opencensus-context>=0.1.3 in c:\\users\\yigao\\scoop\\persist\\miniconda3\\envs\\pfexamples\\lib\\site-packages (from opencensus<1.0.0,>=0.11.2->opencensus-ext-azure<2.0.0->azure-ai-ml==1.9.0a20230703002) (0.1.3)\n",
      "Requirement already satisfied: google-api-core<3.0.0,>=1.0.0 in c:\\users\\yigao\\scoop\\persist\\miniconda3\\envs\\pfexamples\\lib\\site-packages (from opencensus<1.0.0,>=0.11.2->opencensus-ext-azure<2.0.0->azure-ai-ml==1.9.0a20230703002) (2.11.1)\n",
      "Requirement already satisfied: charset-normalizer<4,>=2 in c:\\users\\yigao\\scoop\\persist\\miniconda3\\envs\\pfexamples\\lib\\site-packages (from requests>=2.18.4->azure-core<2.0.0,>=1.23.0->azure-ai-ml==1.9.0a20230703002) (3.2.0)\n",
      "Requirement already satisfied: idna<4,>=2.5 in c:\\users\\yigao\\scoop\\persist\\miniconda3\\envs\\pfexamples\\lib\\site-packages (from requests>=2.18.4->azure-core<2.0.0,>=1.23.0->azure-ai-ml==1.9.0a20230703002) (3.4)\n",
      "Requirement already satisfied: urllib3<3,>=1.21.1 in c:\\users\\yigao\\scoop\\persist\\miniconda3\\envs\\pfexamples\\lib\\site-packages (from requests>=2.18.4->azure-core<2.0.0,>=1.23.0->azure-ai-ml==1.9.0a20230703002) (1.26.16)\n",
      "Requirement already satisfied: oauthlib>=3.0.0 in c:\\users\\yigao\\scoop\\persist\\miniconda3\\envs\\pfexamples\\lib\\site-packages (from requests-oauthlib>=0.5.0->msrest>=0.6.18->azure-ai-ml==1.9.0a20230703002) (3.2.2)\n",
      "Requirement already satisfied: pycparser in c:\\users\\yigao\\scoop\\persist\\miniconda3\\envs\\pfexamples\\lib\\site-packages (from cffi>=1.12->cryptography>=2.1.4->azure-storage-blob<13.0.0,>=12.10.0->azure-ai-ml==1.9.0a20230703002) (2.21)\n",
      "Requirement already satisfied: googleapis-common-protos<2.0.dev0,>=1.56.2 in c:\\users\\yigao\\scoop\\persist\\miniconda3\\envs\\pfexamples\\lib\\site-packages (from google-api-core<3.0.0,>=1.0.0->opencensus<1.0.0,>=0.11.2->opencensus-ext-azure<2.0.0->azure-ai-ml==1.9.0a20230703002) (1.59.1)\n",
      "Requirement already satisfied: protobuf!=3.20.0,!=3.20.1,!=4.21.0,!=4.21.1,!=4.21.2,!=4.21.3,!=4.21.4,!=4.21.5,<5.0.0.dev0,>=3.19.5 in c:\\users\\yigao\\scoop\\persist\\miniconda3\\envs\\pfexamples\\lib\\site-packages (from google-api-core<3.0.0,>=1.0.0->opencensus<1.0.0,>=0.11.2->opencensus-ext-azure<2.0.0->azure-ai-ml==1.9.0a20230703002) (4.23.4)\n",
      "Requirement already satisfied: google-auth<3.0.dev0,>=2.14.1 in c:\\users\\yigao\\scoop\\persist\\miniconda3\\envs\\pfexamples\\lib\\site-packages (from google-api-core<3.0.0,>=1.0.0->opencensus<1.0.0,>=0.11.2->opencensus-ext-azure<2.0.0->azure-ai-ml==1.9.0a20230703002) (2.22.0)\n",
      "Requirement already satisfied: portalocker<3,>=1.6 in c:\\users\\yigao\\scoop\\persist\\miniconda3\\envs\\pfexamples\\lib\\site-packages (from msal-extensions<2.0.0,>=0.3.0->azure-identity<2.0.0,>=1.5.0->opencensus-ext-azure<2.0.0->azure-ai-ml==1.9.0a20230703002) (2.7.0)\n",
      "Requirement already satisfied: cachetools<6.0,>=2.0.0 in c:\\users\\yigao\\scoop\\persist\\miniconda3\\envs\\pfexamples\\lib\\site-packages (from google-auth<3.0.dev0,>=2.14.1->google-api-core<3.0.0,>=1.0.0->opencensus<1.0.0,>=0.11.2->opencensus-ext-azure<2.0.0->azure-ai-ml==1.9.0a20230703002) (5.3.1)\n",
      "Requirement already satisfied: pyasn1-modules>=0.2.1 in c:\\users\\yigao\\scoop\\persist\\miniconda3\\envs\\pfexamples\\lib\\site-packages (from google-auth<3.0.dev0,>=2.14.1->google-api-core<3.0.0,>=1.0.0->opencensus<1.0.0,>=0.11.2->opencensus-ext-azure<2.0.0->azure-ai-ml==1.9.0a20230703002) (0.3.0)\n",
      "Requirement already satisfied: rsa<5,>=3.1.4 in c:\\users\\yigao\\scoop\\persist\\miniconda3\\envs\\pfexamples\\lib\\site-packages (from google-auth<3.0.dev0,>=2.14.1->google-api-core<3.0.0,>=1.0.0->opencensus<1.0.0,>=0.11.2->opencensus-ext-azure<2.0.0->azure-ai-ml==1.9.0a20230703002) (4.9)\n",
      "Requirement already satisfied: pywin32>=226 in c:\\users\\yigao\\scoop\\persist\\miniconda3\\envs\\pfexamples\\lib\\site-packages (from portalocker<3,>=1.6->msal-extensions<2.0.0,>=0.3.0->azure-identity<2.0.0,>=1.5.0->opencensus-ext-azure<2.0.0->azure-ai-ml==1.9.0a20230703002) (306)\n",
      "Requirement already satisfied: pyasn1<0.6.0,>=0.4.6 in c:\\users\\yigao\\scoop\\persist\\miniconda3\\envs\\pfexamples\\lib\\site-packages (from pyasn1-modules>=0.2.1->google-auth<3.0.dev0,>=2.14.1->google-api-core<3.0.0,>=1.0.0->opencensus<1.0.0,>=0.11.2->opencensus-ext-azure<2.0.0->azure-ai-ml==1.9.0a20230703002) (0.5.0)\n",
      "Installing collected packages: azure-ai-ml\n",
      "  Attempting uninstall: azure-ai-ml\n",
      "    Found existing installation: azure-ai-ml 1.7.0\n",
      "    Uninstalling azure-ai-ml-1.7.0:\n",
      "      Successfully uninstalled azure-ai-ml-1.7.0\n",
      "Successfully installed azure-ai-ml-1.9.0a20230703002\n"
     ]
    }
   ],
   "source": [
    "!pip install \"promptflow[azure]\" promptflow-tools--extra-index-url https://azuremlsdktestpypi.azureedge.net/promptflow/"
   ]
  },
  {
   "cell_type": "markdown",
   "metadata": {},
   "source": [
    "## 1. Connect to MLClient and create necessary connections\n",
    "Similar to other SDK in azure-ai-ml, you need to import related packages and prepare a ML client connecting to a specific workspace first."
   ]
  },
  {
   "cell_type": "code",
   "execution_count": 1,
   "metadata": {},
   "outputs": [
    {
     "name": "stderr",
     "output_type": "stream",
     "text": [
      "Found the config file in: C:\\github\\config.json\n"
     ]
    }
   ],
   "source": [
    "# Import required libraries\n",
    "from azure.identity import DefaultAzureCredential, InteractiveBrowserCredential\n",
    "\n",
    "from azure.ai.ml import MLClient, Input\n",
    "from azure.ai.ml.constants import AssetTypes\n",
    "from azure.ai.ml.dsl import pipeline\n",
    "from azure.ai.ml import load_component\n",
    "from promptflow.azure import PFClient\n",
    "\n",
    "try:\n",
    "    credential = DefaultAzureCredential()\n",
    "    # Check if given credential can get token successfully.\n",
    "    credential.get_token(\"https://management.azure.com/.default\")\n",
    "except Exception as ex:\n",
    "    # Fall back to InteractiveBrowserCredential in case DefaultAzureCredential not work\n",
    "    credential = InteractiveBrowserCredential()\n",
    "\n",
    "# Get a handle to workspace\n",
    "ml_client = MLClient.from_config(credential=credential)\n",
    "\n",
    "# Create PFClient connected to workspace\n",
    "pf = PFClient(ml_client)"
   ]
  },
  {
   "cell_type": "markdown",
   "metadata": {},
   "source": [
    "## 2. Load flow as a component\n",
    "\n",
    "Suppose you have already authored a flow, you can load it as component:"
   ]
  },
  {
   "cell_type": "code",
   "execution_count": 2,
   "metadata": {},
   "outputs": [
    {
     "name": "stderr",
     "output_type": "stream",
     "text": [
      "run_mode is not a known attribute of class <class 'promptflow.azure._restclient.flow.models._models_py3.LoadFlowAsComponentRequest'> and will be ignored\n"
     ]
    },
    {
     "name": "stdout",
     "output_type": "stream",
     "text": [
      "name: azureml_promptflow_3bea27d3_f880_ed1f_3caa_f1a06c099cf7\n",
      "version: '1'\n",
      "display_name: azureml_promptflow_3bea27d3_f880_ed1f_3caa_f1a06c099cf7\n",
      "type: parallel\n",
      "inputs:\n",
      "  data:\n",
      "    type: uri_folder\n",
      "    optional: false\n",
      "  run_outputs:\n",
      "    type: uri_folder\n",
      "    optional: true\n",
      "  url:\n",
      "    type: string\n",
      "    optional: false\n",
      "    default: ${data.url}\n",
      "  groundtruth:\n",
      "    type: string\n",
      "    optional: false\n",
      "    default: ${data.answer}\n",
      "  connections.classify_with_llm.connection:\n",
      "    type: string\n",
      "    optional: true\n",
      "    default: azure_open_ai_connection\n",
      "  connections.classify_with_llm.deployment_name:\n",
      "    type: string\n",
      "    optional: true\n",
      "    default: text-davinci-003\n",
      "  connections.summarize_text_content.connection:\n",
      "    type: string\n",
      "    optional: true\n",
      "    default: azure_open_ai_connection\n",
      "  connections.summarize_text_content.deployment_name:\n",
      "    type: string\n",
      "    optional: true\n",
      "    default: text-davinci-003\n",
      "outputs:\n",
      "  flow_outputs:\n",
      "    type: uri_folder\n",
      "  debug_info:\n",
      "    type: uri_folder\n",
      "task:\n",
      "  type: run_function\n",
      "  code: azureml:/subscriptions/96aede12-2f73-41cb-b983-6d11a904839b/resourceGroups/promptflow/providers/Microsoft.MachineLearningServices/workspaces/promptflow-eastus/codes/17e0fe77-bcfe-402f-941b-d3e0695e435a/versions/1\n",
      "  entry_script: driver/azureml_user/parallel_run/prompt_flow_entry.py\n",
      "  program_arguments: --amlbi_pf_enabled True --amlbi_pf_run_mode component --amlbi_mini_batch_rows\n",
      "    1 --amlbi_file_format jsonl $[[--amlbi_pf_run_outputs ${{inputs.run_outputs}}]]\n",
      "    --amlbi_pf_debug_info ${{outputs.debug_info}} --amlbi_pf_connections \"$[[classify_with_llm.connection=${{inputs.connections.classify_with_llm.connection}},]]$[[classify_with_llm.deployment_name=${{inputs.connections.classify_with_llm.deployment_name}},]]$[[summarize_text_content.connection=${{inputs.connections.summarize_text_content.connection}},]]$[[summarize_text_content.deployment_name=${{inputs.connections.summarize_text_content.deployment_name}},]]\"\n",
      "    --amlbi_pf_input_url ${{inputs.url}} --amlbi_pf_input_groundtruth ${{inputs.groundtruth}}\n",
      "  append_row_to: ${{outputs.flow_outputs}}\n",
      "  environment: azureml:/subscriptions/96aede12-2f73-41cb-b983-6d11a904839b/resourceGroups/promptflow/providers/Microsoft.MachineLearningServices/workspaces/promptflow-eastus/environments/promptflow-runtime/versions/20230726.v1\n",
      "mini_batch_error_threshold: 0\n",
      "creation_context:\n",
      "  created_at: '2023-08-02T03:33:36.611426+00:00'\n",
      "  created_by: Philip Gao\n",
      "  created_by_type: User\n",
      "  last_modified_at: '2023-08-02T03:33:36.712509+00:00'\n",
      "  last_modified_by: Philip Gao\n",
      "  last_modified_by_type: User\n",
      "input_data: ${{inputs.data}}\n",
      "is_deterministic: true\n",
      "mini_batch_size: '1'\n",
      "max_concurrency_per_instance: 1\n",
      "retry_settings:\n",
      "  timeout: 3600\n",
      "  max_retries: 2\n",
      "id: azureml:/subscriptions/96aede12-2f73-41cb-b983-6d11a904839b/resourceGroups/promptflow/providers/Microsoft.MachineLearningServices/workspaces/promptflow-eastus/components/azureml_promptflow_3bea27d3_f880_ed1f_3caa_f1a06c099cf7/versions/1\n",
      "error_threshold: -1\n",
      "logging_level: INFO\n",
      "\n"
     ]
    }
   ],
   "source": [
    "flow_component = pf.load_as_component(\n",
    "    \"../../flows/standard/web-classification/\",\n",
    "    columns_mapping={\n",
    "        \"url\": \"${data.url}\",\n",
    "        \"groundtruth\": \"${data.answer}\",\n",
    "    },\n",
    "    component_type=\"parallel\",\n",
    ")\n",
    "\n",
    "print(flow_component)"
   ]
  },
  {
   "cell_type": "markdown",
   "metadata": {},
   "source": [
    "## 3. Use the component in a pipeline\n",
    "\n",
    "Then you can use this component along with other components in a pipeline:"
   ]
  },
  {
   "cell_type": "code",
   "execution_count": 3,
   "metadata": {},
   "outputs": [
    {
     "name": "stderr",
     "output_type": "stream",
     "text": [
      "Class AutoDeleteSettingSchema: This is an experimental class, and may change at any time. Please see https://aka.ms/azuremlexperimental for more information.\n",
      "Class AutoDeleteConditionSchema: This is an experimental class, and may change at any time. Please see https://aka.ms/azuremlexperimental for more information.\n",
      "Class BaseAutoDeleteSettingSchema: This is an experimental class, and may change at any time. Please see https://aka.ms/azuremlexperimental for more information.\n",
      "Class IntellectualPropertySchema: This is an experimental class, and may change at any time. Please see https://aka.ms/azuremlexperimental for more information.\n",
      "Class ProtectionLevelSchema: This is an experimental class, and may change at any time. Please see https://aka.ms/azuremlexperimental for more information.\n",
      "Class BaseIntellectualPropertySchema: This is an experimental class, and may change at any time. Please see https://aka.ms/azuremlexperimental for more information.\n"
     ]
    }
   ],
   "source": [
    "tsv2jsonl_component = load_component(\"./tsv2jsonl-component/component_spec.yaml\")\n",
    "\n",
    "\n",
    "@pipeline\n",
    "def pipeline_with_flow(input_data):\n",
    "    data_transfer = tsv2jsonl_component(input_data=input_data)\n",
    "\n",
    "    flow_node = flow_component(\n",
    "        # this can be either a URI jsonl file or a URI folder containing multiple jsonl files\n",
    "        data=data_transfer.outputs.output_data,\n",
    "        # you can overwrite inputs mapping here\n",
    "        groundtruth=\"Channel\",\n",
    "        # this is to overwrite connection settings\n",
    "        connections={\n",
    "            # this is to overwrite connection related settings for a LLM node\n",
    "            # \"summarize_text_content\" is the node name\n",
    "            \"summarize_text_content\": {\n",
    "                \"deployment_name\": \"another_deployment_name\",\n",
    "            },\n",
    "            # you can overwrite custom connection input of a python node here\n",
    "            # \"convert_to_dict\": {\n",
    "            #     \"conn1\": \"another_connection\"\n",
    "            # }\n",
    "        },\n",
    "    )\n",
    "    # node level run settings for flow node is similar to `ParallelComponent`\n",
    "    flow_node.logging_level = \"DEBUG\"\n",
    "    flow_node.max_concurrency_per_instance = 2\n",
    "    return flow_node.outputs\n",
    "\n",
    "\n",
    "pipeline = pipeline_with_flow(\n",
    "    input_data=Input(path=\"./data.tsv\", type=AssetTypes.URI_FILE),\n",
    ")\n",
    "\n",
    "pipeline.settings.default_compute = \"cpu-cluster\"\n",
    "\n",
    "created_job = ml_client.jobs.create_or_update(pipeline)"
   ]
  },
  {
   "cell_type": "markdown",
   "metadata": {},
   "source": [
    "Like other pipeline jobs in azure-ai-ml, you can monitor the status of the job via `ml_client.jobs.stream`:"
   ]
  },
  {
   "cell_type": "code",
   "execution_count": 4,
   "metadata": {},
   "outputs": [
    {
     "name": "stdout",
     "output_type": "stream",
     "text": [
      "RunId: bright_ring_574b03b4qb\n",
      "Web View: https://ml.azure.com/runs/bright_ring_574b03b4qb?wsid=/subscriptions/96aede12-2f73-41cb-b983-6d11a904839b/resourcegroups/promptflow/workspaces/promptflow-eastus\n",
      "\n",
      "Streaming logs/azureml/executionlogs.txt\n",
      "========================================\n",
      "\n",
      "[2023-08-02 04:03:19Z] Submitting 1 runs, first five are: d5148e39:efbf785b-90cb-404c-a59b-6d8af9ae6235\n"
     ]
    }
   ],
   "source": [
    "ml_client.jobs.stream(created_job.name)"
   ]
  }
 ],
 "metadata": {
  "kernelspec": {
   "display_name": "venv",
   "language": "python",
   "name": "python3"
  },
  "language_info": {
   "codemirror_mode": {
    "name": "ipython",
    "version": 3
   },
   "file_extension": ".py",
   "mimetype": "text/x-python",
   "name": "python",
   "nbconvert_exporter": "python",
   "pygments_lexer": "ipython3",
   "version": "3.9.17"
  }
 },
 "nbformat": 4,
 "nbformat_minor": 2
}
