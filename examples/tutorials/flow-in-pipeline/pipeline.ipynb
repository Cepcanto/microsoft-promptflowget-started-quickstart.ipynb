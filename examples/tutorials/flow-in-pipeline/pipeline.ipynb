{
 "cells": [
  {
   "cell_type": "markdown",
   "metadata": {},
   "source": [
    "# Use Flow as Component in Pipeline\n",
    "[why we need use flow in AzureML pipeline]\n",
    "\n",
    "[typical user scenarios]\n",
    "\n",
    "[user benifits when use flow in pipeline]\n",
    "\n",
    "\n",
    "**Requirements** - In order to benefit from this tutorial, you will need:\n",
    "- A basic understanding of Machine Learning\n",
    "- An Azure account with an active subscription - [Create an account for free](https://azure.microsoft.com/free/?WT.mc_id=A261C142F)\n",
    "- An Azure ML workspace with computer cluster - [Configure workspace](../../configuration.ipynb)\n",
    "- A python environment\n",
    "- Installed Azure Machine Learning Python SDK v2 - [install instructions](../../../README.md) - check the getting started section\n",
    "\n",
    "**Learning Objectives** - By the end of this tutorial, you should be able to:\n",
    "- Connect to your AML workspace from the Python SDK\n",
    "- Create `Pipeline` with a component loaded from `flow.dag.yaml`\n",
    "\n",
    "**Motivations** - This notebook explains how to run a pipeline with distributed training component."
   ]
  },
  {
   "cell_type": "markdown",
   "metadata": {},
   "source": [
    "# 1. Connect to Azure Machine Learning Workspace\n",
    "\n",
    "The [workspace](https://docs.microsoft.com/en-us/azure/machine-learning/concept-workspace) is the top-level resource for Azure Machine Learning, providing a centralized place to work with all the artifacts you create when you use Azure Machine Learning. In this section we will connect to the workspace in which the job will be run.\n",
    "\n",
    "## 1.1 Import the required libraries"
   ]
  },
  {
   "cell_type": "code",
   "execution_count": null,
   "metadata": {},
   "outputs": [],
   "source": [
    "# import required libraries\n",
    "from azure.identity import DefaultAzureCredential, InteractiveBrowserCredential\n",
    "\n",
    "from azure.ai.ml import MLClient, load_component, Input\n",
    "from azure.ai.ml.constants import AssetTypes\n",
    "from azure.ai.ml.dsl import pipeline"
   ]
  },
  {
   "cell_type": "markdown",
   "metadata": {},
   "source": [
    "## 1.2 Configure credential\n",
    "\n",
    "We are using `DefaultAzureCredential` to get access to workspace. \n",
    "`DefaultAzureCredential` should be capable of handling most Azure SDK authentication scenarios. \n",
    "\n",
    "Reference for more available credentials if it does not work for you: [configure credential example](../../configuration.ipynb), [azure-identity reference doc](https://docs.microsoft.com/en-us/python/api/azure-identity/azure.identity?view=azure-python)."
   ]
  },
  {
   "cell_type": "code",
   "execution_count": null,
   "metadata": {},
   "outputs": [],
   "source": [
    "try:\n",
    "    credential = DefaultAzureCredential()\n",
    "    # Check if given credential can get token successfully.\n",
    "    credential.get_token(\"https://management.azure.com/.default\")\n",
    "except Exception as ex:\n",
    "    # Fall back to InteractiveBrowserCredential in case DefaultAzureCredential not work\n",
    "    credential = InteractiveBrowserCredential()"
   ]
  },
  {
   "cell_type": "markdown",
   "metadata": {},
   "source": [
    "## 1.3 Get a handle to the workspace\n",
    "\n",
    "We use config file to connect to a workspace. The Azure ML workspace should be configured with computer cluster. [Check this notebook for configure a workspace](../../configuration.ipynb)"
   ]
  },
  {
   "cell_type": "code",
   "execution_count": null,
   "metadata": {},
   "outputs": [],
   "source": [
    "# Get a handle to workspace\n",
    "ml_client = MLClient.from_config(credential=credential)\n",
    "\n",
    "# Retrieve an already attached Azure Machine Learning Compute.\n",
    "cluster_name = \"cpu-cluster\"\n",
    "print(ml_client.compute.get(cluster_name))"
   ]
  },
  {
   "cell_type": "markdown",
   "metadata": {},
   "source": [
    "# 2. Load flow as component\n",
    "\n",
    "We suppose that there has already been a flow authored with Promptflow SDK/CLI/portal. Then we can load its flow dag yaml as a component like regular component specs."
   ]
  },
  {
   "cell_type": "code",
   "execution_count": null,
   "metadata": {},
   "outputs": [],
   "source": [
    "flow_component = load_component(\"../../flows/standard/web-classification/flow.dag.yaml\")"
   ]
  },
  {
   "cell_type": "markdown",
   "metadata": {},
   "source": [
    "# 3. Pipeline job\n",
    "## 3.1 Build pipeline"
   ]
  },
  {
   "cell_type": "code",
   "execution_count": null,
   "metadata": {},
   "outputs": [],
   "source": [
    "data_input = Input(\n",
    "    path=\"../../flows/standard/web-classification/data.jsonl\", type=AssetTypes.URI_FILE\n",
    ")\n",
    "\n",
    "\n",
    "@pipeline()\n",
    "def pipeline_func_with_flow(data):\n",
    "    flow_node = flow_component(\n",
    "        data=data,\n",
    "        url=\"${data.url}\",\n",
    "        connections={\n",
    "            \"summarize_text_content\": {\n",
    "                \"connection\": \"azure_open_ai_connection\",\n",
    "                \"deployment_name\": \"gpt-35-turbo\",\n",
    "            },\n",
    "            \"classify_with_llm\": {\n",
    "                \"connection\": \"azure_open_ai_connection\",\n",
    "                \"deployment_name\": \"gpt-35-turbo\",\n",
    "            },\n",
    "        },\n",
    "    )\n",
    "    flow_node.compute = \"cpu-cluster\"\n",
    "\n",
    "\n",
    "# create pipeline instance\n",
    "pipeline_job = pipeline_func_with_flow(data=data_input)"
   ]
  },
  {
   "cell_type": "code",
   "execution_count": null,
   "metadata": {},
   "outputs": [],
   "source": [
    "data_input = Input(\n",
    "    path=\"../../flows/standard/web-classification/data.jsonl\", type=AssetTypes.URI_FILE\n",
    ")\n",
    "\n",
    "data_prep_component = load_component(\"./components/data-prep/data-prep.yaml\")\n",
    "result_parser_component = load_component(\"./components/result-parser/result-parser.yaml\")\n",
    "flow_component = load_component(\"../../flows/standard/web-classification/flow.dag.yaml\")\n",
    "@pipeline()\n",
    "def pipeline_func_with_flow(data):\n",
    "    data_prep_node = data_prep_component(\n",
    "        input_data_file=data,\n",
    "    )\n",
    "    data_prep_node.compute = \"cpu-cluster\"\n",
    "\n",
    "    flow_node = flow_component(\n",
    "        data=data_prep_node.outputs.output_data_folder,\n",
    "        url=\"${data.url}\",\n",
    "        connections={\n",
    "            \"summarize_text_content\": {\n",
    "                \"connection\": \"azure_open_ai_connection\",\n",
    "                \"deployment_name\": \"gpt-35-turbo\",\n",
    "            },\n",
    "            \"classify_with_llm\": {\n",
    "                \"connection\": \"azure_open_ai_connection\",\n",
    "                \"deployment_name\": \"gpt-35-turbo\",\n",
    "            },\n",
    "        },\n",
    "    )\n",
    "\n",
    "    flow_node.environment_variables = {\"PF_INPUT_FORMAT\": \"csv\"}\n",
    "    flow_node.compute = \"cpu-cluster\"\n",
    "    flow_node.resources = { 'instance_count': 3 }\n",
    "    flow_node.outputs.flow_outputs.mode = \"rw_mount\"\n",
    "\n",
    "    result_parser_node = result_parser_component(\n",
    "        source_data=data_prep_node.outputs.output_data_folder,\n",
    "        pf_output_data=flow_node.outputs.flow_outputs,\n",
    "    )\n",
    "    \n",
    "    result_parser_node.compute = \"cpu-cluster\"\n",
    "\n",
    "# create pipeline instance\n",
    "pipeline_job = pipeline_func_with_flow(data=data_input)"
   ]
  },
  {
   "cell_type": "markdown",
   "metadata": {},
   "source": [
    "## 3.2 Submit pipeline job"
   ]
  },
  {
   "cell_type": "code",
   "execution_count": 9,
   "metadata": {},
   "outputs": [
    {
     "data": {
      "text/html": [
       "<table style=\"width:100%\"><tr><th>Experiment</th><th>Name</th><th>Type</th><th>Status</th><th>Details Page</th></tr><tr><td>pipeline_samples</td><td>bubbly_room_jcsyk2wbts</td><td>pipeline</td><td>Preparing</td><td><a href=\"https://ml.azure.com/runs/bubbly_room_jcsyk2wbts?wsid=/subscriptions/ee85ed72-2b26-48f6-a0e8-cb5bcf98fbd9/resourcegroups/alainli-rg/workspaces/alainli-prs-eastUS2&amp;tid=72f988bf-86f1-41af-91ab-2d7cd011db47\" target=\"_blank\" rel=\"noopener\">Link to Azure Machine Learning studio</a></td></tr></table>"
      ],
      "text/plain": [
       "PipelineJob({'inputs': {'data': <azure.ai.ml.entities._job.pipeline._io.base.PipelineInput object at 0x0000027D5A854B80>}, 'outputs': {}, 'jobs': {}, 'component': PipelineComponent({'intellectual_property': None, 'auto_increment_version': False, 'source': 'REMOTE.WORKSPACE.JOB', 'is_anonymous': True, 'auto_delete_setting': None, 'name': 'azureml_anonymous', 'description': None, 'tags': {}, 'properties': {}, 'print_as_yaml': True, 'id': None, 'Resource__source_path': None, 'base_path': 'd:\\\\repo\\\\promptflow-1\\\\examples\\\\tutorials\\\\flow-in-pipeline', 'creation_context': None, 'serialize': <msrest.serialization.Serializer object at 0x0000027D5A857040>, 'version': '1', 'latest_version': None, 'schema': None, 'type': 'pipeline', 'display_name': 'pipeline_func_with_flow', 'is_deterministic': None, 'inputs': {'data': {}}, 'outputs': {}, 'yaml_str': None, 'other_parameter': {}, 'jobs': {'data_prep_node': Command({'parameters': {}, 'init': False, 'name': 'data_prep_node', 'type': 'command', 'status': None, 'log_files': None, 'description': None, 'tags': {}, 'properties': {}, 'print_as_yaml': True, 'id': None, 'Resource__source_path': None, 'base_path': 'd:\\\\repo\\\\promptflow-1\\\\examples\\\\tutorials\\\\flow-in-pipeline', 'creation_context': None, 'serialize': <msrest.serialization.Serializer object at 0x0000027D5A8548E0>, 'allowed_keys': {}, 'key_restriction': False, 'logger': <Logger attr_dict (WARNING)>, 'display_name': None, 'experiment_name': None, 'compute': 'cpu-cluster', 'services': None, 'comment': None, 'job_inputs': {'input_data_file': '${{parent.inputs.data}}'}, 'job_outputs': {}, 'inputs': {'input_data_file': <azure.ai.ml.entities._job.pipeline._io.base.NodeInput object at 0x0000027D5A854D90>}, 'outputs': {}, 'component': 'azureml_anonymous:fba4f463-5b78-4d51-95a3-689b821e046c', 'referenced_control_flow_node_instance_id': None, 'kwargs': {'services': None}, 'instance_id': '5eb46c31-0bfd-42ec-a5fc-0d179eef607a', 'source': 'REMOTE.WORKSPACE.COMPONENT', 'validate_required_input_not_provided': True, 'limits': None, 'identity': None, 'distribution': None, 'environment_variables': {}, 'environment': None, 'resources': None, 'queue_settings': None, 'swept': False}), 'flow_node': Parallel({'init': False, 'name': 'flow_node', 'type': 'parallel', 'status': None, 'log_files': None, 'description': None, 'tags': {}, 'properties': {}, 'print_as_yaml': True, 'id': None, 'Resource__source_path': None, 'base_path': 'd:\\\\repo\\\\promptflow-1\\\\examples\\\\tutorials\\\\flow-in-pipeline', 'creation_context': None, 'serialize': <msrest.serialization.Serializer object at 0x0000027D5A8545B0>, 'allowed_keys': {}, 'key_restriction': False, 'logger': <Logger attr_dict (WARNING)>, 'display_name': None, 'experiment_name': None, 'compute': 'cpu-cluster', 'services': None, 'comment': None, 'job_inputs': {'url': '${data.url}', 'connections.summarize_text_content.connection': 'azure_open_ai_connection', 'connections.summarize_text_content.deployment_name': 'gpt-35-turbo', 'connections.classify_with_llm.connection': 'azure_open_ai_connection', 'connections.classify_with_llm.deployment_name': 'gpt-35-turbo', 'data': '${{parent.jobs.data_prep_node.outputs.output_data_folder}}'}, 'job_outputs': {'flow_outputs': {'type': 'uri_folder', 'mode': 'rw_mount'}}, 'inputs': {'url': <azure.ai.ml.entities._job.pipeline._io.base.NodeInput object at 0x0000027D5A855180>, 'connections.summarize_text_content.connection': <azure.ai.ml.entities._job.pipeline._io.base.NodeInput object at 0x0000027D5A8544F0>, 'connections.summarize_text_content.deployment_name': <azure.ai.ml.entities._job.pipeline._io.base.NodeInput object at 0x0000027D5A856AD0>, 'connections.classify_with_llm.connection': <azure.ai.ml.entities._job.pipeline._io.base.NodeInput object at 0x0000027D5A855720>, 'connections.classify_with_llm.deployment_name': <azure.ai.ml.entities._job.pipeline._io.base.NodeInput object at 0x0000027D5A8541C0>, 'data': <azure.ai.ml.entities._job.pipeline._io.base.NodeInput object at 0x0000027D5A855480>}, 'outputs': {'flow_outputs': <azure.ai.ml.entities._job.pipeline._io.base.NodeOutput object at 0x0000027D5A8558D0>}, 'component': 'azureml_anonymous:19c2fb66-370d-4e1b-8368-ff6c1c036c71', 'referenced_control_flow_node_instance_id': None, 'kwargs': {}, 'instance_id': '0673d848-fa35-45b8-85e3-6c73c82b445e', 'source': 'REMOTE.WORKSPACE.COMPONENT', 'validate_required_input_not_provided': True, 'task': None, 'mini_batch_size': None, 'partition_keys': None, 'input_data': None, 'retry_settings': None, 'logging_level': None, 'max_concurrency_per_instance': None, 'error_threshold': None, 'mini_batch_error_threshold': None, 'resources': {'instance_count': 3}, 'environment_variables': {'PF_INPUT_FORMAT': 'csv'}}), 'result_parser_node': Command({'parameters': {}, 'init': False, 'name': 'result_parser_node', 'type': 'command', 'status': None, 'log_files': None, 'description': None, 'tags': {}, 'properties': {}, 'print_as_yaml': True, 'id': None, 'Resource__source_path': None, 'base_path': 'd:\\\\repo\\\\promptflow-1\\\\examples\\\\tutorials\\\\flow-in-pipeline', 'creation_context': None, 'serialize': <msrest.serialization.Serializer object at 0x0000027D5A854580>, 'allowed_keys': {}, 'key_restriction': False, 'logger': <Logger attr_dict (WARNING)>, 'display_name': None, 'experiment_name': None, 'compute': 'cpu-cluster', 'services': None, 'comment': None, 'job_inputs': {'source_data': '${{parent.jobs.data_prep_node.outputs.output_data_folder}}', 'pf_output_data': '${{parent.jobs.flow_node.outputs.flow_outputs}}'}, 'job_outputs': {}, 'inputs': {'source_data': <azure.ai.ml.entities._job.pipeline._io.base.NodeInput object at 0x0000027D5A855930>, 'pf_output_data': <azure.ai.ml.entities._job.pipeline._io.base.NodeInput object at 0x0000027D5A855BD0>}, 'outputs': {}, 'component': 'azureml_anonymous:54b23fe9-7df2-4bf7-b53b-25304196a4d9', 'referenced_control_flow_node_instance_id': None, 'kwargs': {'services': None}, 'instance_id': '8f4acfbc-d750-4415-9247-c4abf4d0c81f', 'source': 'REMOTE.WORKSPACE.COMPONENT', 'validate_required_input_not_provided': True, 'limits': None, 'identity': None, 'distribution': None, 'environment_variables': {}, 'environment': None, 'resources': None, 'queue_settings': None, 'swept': False})}, 'job_types': {'command': 2, 'parallel': 1}, 'job_sources': {'REMOTE.WORKSPACE.COMPONENT': 3}, 'source_job_id': None}), 'type': 'pipeline', 'status': 'Preparing', 'log_files': None, 'name': 'bubbly_room_jcsyk2wbts', 'description': None, 'tags': {}, 'properties': {'mlflow.source.git.repoURL': 'https://github.com/alainli0928/promptflow.git', 'mlflow.source.git.branch': 'main', 'mlflow.source.git.commit': 'e135490a86d8d1d9547e06310372cae1d64cd49a', 'azureml.git.dirty': 'True', 'azureml.DevPlatv2': 'true', 'azureml.DatasetAccessMode': 'Asset', 'azureml.runsource': 'azureml.PipelineRun', 'runSource': 'MFE', 'runType': 'HTTP', 'azureml.parameters': '{}', 'azureml.continue_on_step_failure': 'True', 'azureml.continue_on_failed_optional_input': 'True', 'azureml.enforceRerun': 'False', 'azureml.defaultDataStoreName': 'workspaceblobstore', 'azureml.pipelineComponent': 'pipelinerun'}, 'print_as_yaml': True, 'id': '/subscriptions/ee85ed72-2b26-48f6-a0e8-cb5bcf98fbd9/resourceGroups/alainli-rg/providers/Microsoft.MachineLearningServices/workspaces/alainli-prs-eastUS2/jobs/bubbly_room_jcsyk2wbts', 'Resource__source_path': None, 'base_path': 'd:\\\\repo\\\\promptflow-1\\\\examples\\\\tutorials\\\\flow-in-pipeline', 'creation_context': <azure.ai.ml.entities._system_data.SystemData object at 0x0000027D5A854BB0>, 'serialize': <msrest.serialization.Serializer object at 0x0000027D5A856140>, 'display_name': 'pipeline_func_with_flow', 'experiment_name': 'pipeline_samples', 'compute': None, 'services': {'Tracking': {'endpoint': 'azureml://eastus2.api.azureml.ms/mlflow/v1.0/subscriptions/ee85ed72-2b26-48f6-a0e8-cb5bcf98fbd9/resourceGroups/alainli-rg/providers/Microsoft.MachineLearningServices/workspaces/alainli-prs-eastUS2?', 'type': 'Tracking'}, 'Studio': {'endpoint': 'https://ml.azure.com/runs/bubbly_room_jcsyk2wbts?wsid=/subscriptions/ee85ed72-2b26-48f6-a0e8-cb5bcf98fbd9/resourcegroups/alainli-rg/workspaces/alainli-prs-eastUS2&tid=72f988bf-86f1-41af-91ab-2d7cd011db47', 'type': 'Studio'}}, 'settings': {}, 'identity': None, 'default_code': None, 'default_environment': None})"
      ]
     },
     "execution_count": 9,
     "metadata": {},
     "output_type": "execute_result"
    }
   ],
   "source": [
    "# submit job to workspace\n",
    "pipeline_job = ml_client.jobs.create_or_update(\n",
    "    pipeline_job, experiment_name=\"pipeline_samples\"\n",
    ")\n",
    "pipeline_job"
   ]
  },
  {
   "cell_type": "code",
   "execution_count": null,
   "metadata": {},
   "outputs": [],
   "source": [
    "# Wait until the job completes\n",
    "ml_client.jobs.stream(pipeline_job.name)"
   ]
  },
  {
   "cell_type": "markdown",
   "metadata": {},
   "source": [
    "# Next Steps\n",
    "You can see further examples of running a pipeline job [here](../)"
   ]
  },
  {
   "cell_type": "code",
   "execution_count": null,
   "metadata": {},
   "outputs": [],
   "source": [
    "# test section \n",
    "import pandas as pd\n",
    "\n",
    "input_data = pd.read_csv(\"./processed_data.csv\")\n",
    "output_data = pd.read_json(\"./parallel_run_step.jsonl\", lines=True)\n",
    "print(output_data.head())\n",
    "\n",
    "if len(input_data) != len(output_data):\n",
    "    raise Exception(\"Index mismatch between data source and result\")\n",
    "\n",
    "input_data = input_data.merge(output_data, how='left', left_index=True, right_on=\"line_number\", suffixes=('', '_predict'))\n",
    "\n",
    "print(input_data.head())\n",
    "\n",
    "with open(\"./processed_data_with_predictions.jsonl\", \"w\") as file:\n",
    "    file.write(input_data.to_json(orient=\"records\", lines=True))\n",
    "\n"
   ]
  }
 ],
 "metadata": {
  "description": "Create pipeline using components to run a distributed job with tensorflow",
  "kernelspec": {
   "display_name": "Python 3",
   "language": "python",
   "name": "python3"
  },
  "language_info": {
   "codemirror_mode": {
    "name": "ipython",
    "version": 3
   },
   "file_extension": ".py",
   "mimetype": "text/x-python",
   "name": "python",
   "nbconvert_exporter": "python",
   "pygments_lexer": "ipython3",
   "version": "3.10.13"
  },
  "resources": "examples/flows/standard/web-classification"
 },
 "nbformat": 4,
 "nbformat_minor": 2
}
