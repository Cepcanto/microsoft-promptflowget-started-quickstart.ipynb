{
 "cells": [
  {
   "cell_type": "markdown",
   "metadata": {},
   "source": [
    "# Flow with symlinks\n",
    "\n",
    "**Requirements**:\n",
    "-  For Windows user, please creating user permission to [create symbolic links](https://learn.microsoft.com/en-us/windows/security/threat-protection/security-policy-settings/create-symbolic-links).\n",
    "\n",
    "**Attention**:\n",
    "- TODO git push/pull\n",
    "- copy"
   ]
  },
  {
   "cell_type": "markdown",
   "metadata": {},
   "source": [
    "## 0. Create symbolic links in the flow"
   ]
  },
  {
   "cell_type": "code",
   "execution_count": null,
   "metadata": {},
   "outputs": [],
   "source": [
    "import os\n",
    "from pathlib import Path\n",
    "\n",
    "saved_path = os.getcwd()\n",
    "target_folder = Path(\"../../flows/standard/flow-with-symlinks\")\n",
    "os.chdir(target_folder)\n",
    "\n",
    "source_folder = Path(\"../web-classification\")\n",
    "for file_name in os.listdir(source_folder):\n",
    "    if not Path(file_name).exists():\n",
    "        os.symlink(\n",
    "            source_folder / file_name,\n",
    "            file_name\n",
    "        )\n",
    "\n",
    "os.chdir(saved_path)"
   ]
  },
  {
   "cell_type": "markdown",
   "metadata": {},
   "source": [
    "## 1. Test flow in local\n",
    "\n",
    "Execute promptflow CLI to test the flow in local."
   ]
  },
  {
   "cell_type": "code",
   "execution_count": 1,
   "metadata": {
    "vscode": {
     "languageId": "bat"
    }
   },
   "outputs": [
    {
     "name": "stderr",
     "output_type": "stream",
     "text": [
      "Traceback (most recent call last):\n",
      "  File \"D:\\Project\\PromptFlow\\src\\promptflow-sdk\\promptflow\\utils\\generate_tool_meta_utils.py\", line 131, in generate_python_tool\n",
      "    exec(content, m.__dict__)\n",
      "  File \"<string>\", line 4, in <module>\n",
      "ImportError: cannot import name 'tool' from 'promptflow' (unknown location)\n",
      "\n",
      "The above exception was the direct cause of the following exception:\n",
      "\n",
      "Traceback (most recent call last):\n",
      "  File \"C:\\Users\\zhrua\\Miniconda3\\envs\\prompt_sdk\\lib\\runpy.py\", line 194, in _run_module_as_main\n",
      "    return _run_code(code, main_globals, None,\n",
      "  File \"C:\\Users\\zhrua\\Miniconda3\\envs\\prompt_sdk\\lib\\runpy.py\", line 87, in _run_code\n",
      "    exec(code, run_globals)\n",
      "  File \"C:\\Users\\zhrua\\Miniconda3\\envs\\prompt_sdk\\Scripts\\pf.exe\\__main__.py\", line 7, in <module>\n",
      "  File \"D:\\Project\\PromptFlow\\src\\promptflow-sdk\\promptflow\\_cli\\pf.py\", line 91, in main\n",
      "    entry(command_args)\n",
      "  File \"D:\\Project\\PromptFlow\\src\\promptflow-sdk\\promptflow\\_cli\\pf.py\", line 42, in entry\n",
      "    dispatch_flow_commands(args)\n",
      "  File \"D:\\Project\\PromptFlow\\src\\promptflow-sdk\\promptflow\\_cli\\pf_local_flow.py\", line 59, in dispatch_flow_commands\n",
      "    test_flow(args)\n",
      "  File \"D:\\Project\\PromptFlow\\src\\promptflow-sdk\\promptflow\\_cli\\pf_local_flow.py\", line 419, in test_flow\n",
      "    executable_flow = flow._init_executable(tuning_node, variant)\n",
      "  File \"D:\\Project\\PromptFlow\\src\\promptflow-sdk\\promptflow\\sdk\\entities\\_flow.py\", line 122, in _init_executable\n",
      "    return ExecutableFlow.from_yaml(flow_file=flow.path, working_dir=flow.code)\n",
      "  File \"D:\\Project\\PromptFlow\\src\\promptflow-sdk\\promptflow\\contracts\\flow.py\", line 303, in from_yaml\n",
      "    tool = gen_tool_by_source(node.name, node.source, node.type, working_dir)\n",
      "  File \"D:\\Project\\PromptFlow\\src\\promptflow-sdk\\promptflow\\core\\tools_manager.py\", line 78, in gen_tool_by_source\n",
      "    return generate_python_tool(name, content)\n",
      "  File \"D:\\Project\\PromptFlow\\src\\promptflow-sdk\\promptflow\\utils\\generate_tool_meta_utils.py\", line 134, in generate_python_tool\n",
      "    raise PythonParsingError(msg) from e\n",
      "promptflow.utils.generate_tool_meta_utils.PythonParsingError: Parsing python got exception: cannot import name 'tool' from 'promptflow' (unknown location)\n"
     ]
    }
   ],
   "source": [
    "! pf flow test --flow ../../flows/standard/flow-with-symlinks"
   ]
  },
  {
   "cell_type": "markdown",
   "metadata": {},
   "source": [
    "## 2. Create a new batch run in local\n",
    "\n",
    "### 2.1 Create necessary connections\n",
    "Connection helps securely store and manage secret keys or other sensitive credentials required for interacting with LLM and other external tools for example Azure Content Safety.\n",
    "\n",
    "In this notebook, we will use flow `flow-with-symlinks` which uses connection `azure_open_ai_connection` inside, we need to set up the connection if we haven't added it before. After created, it's stored in local db and can be used in any flow."
   ]
  },
  {
   "cell_type": "code",
   "execution_count": 2,
   "metadata": {},
   "outputs": [
    {
     "ename": "AttributeError",
     "evalue": "module 'promptflow' has no attribute 'PFClient'",
     "output_type": "error",
     "traceback": [
      "\u001b[1;31m---------------------------------------------------------------------------\u001b[0m",
      "\u001b[1;31mAttributeError\u001b[0m                            Traceback (most recent call last)",
      "Cell \u001b[1;32mIn[2], line 5\u001b[0m\n\u001b[0;32m      2\u001b[0m \u001b[38;5;28;01mfrom\u001b[39;00m \u001b[38;5;21;01mpromptflow\u001b[39;00m\u001b[38;5;21;01m.\u001b[39;00m\u001b[38;5;21;01mconnections\u001b[39;00m \u001b[38;5;28;01mimport\u001b[39;00m AzureOpenAIConnection\n\u001b[0;32m      4\u001b[0m \u001b[38;5;66;03m# client can help manage your runs and connections.\u001b[39;00m\n\u001b[1;32m----> 5\u001b[0m client \u001b[38;5;241m=\u001b[39m \u001b[43mpf\u001b[49m\u001b[38;5;241;43m.\u001b[39;49m\u001b[43mPFClient\u001b[49m()\n\u001b[0;32m      7\u001b[0m \u001b[38;5;28;01mtry\u001b[39;00m:\n\u001b[0;32m      8\u001b[0m     conn_name \u001b[38;5;241m=\u001b[39m \u001b[38;5;124m\"\u001b[39m\u001b[38;5;124mazure_open_ai_connection\u001b[39m\u001b[38;5;124m\"\u001b[39m\n",
      "\u001b[1;31mAttributeError\u001b[0m: module 'promptflow' has no attribute 'PFClient'"
     ]
    }
   ],
   "source": [
    "import promptflow as pf\n",
    "from promptflow.connections import AzureOpenAIConnection\n",
    "\n",
    "# client can help manage your runs and connections.\n",
    "client = pf.PFClient()\n",
    "\n",
    "try:\n",
    "    conn_name = \"azure_open_ai_connection\"\n",
    "    conn = client.connections.get(name=conn_name)\n",
    "    print(\"using existing connection\")\n",
    "except:\n",
    "    connection = AzureOpenAIConnection(\n",
    "        name=conn_name,\n",
    "        api_key=\"b1bce849b20840948800d228524736c1\",\n",
    "        api_base=\"https://gpt-test-eus.openai.azure.com/\",\n",
    "        api_type=\"azure\",\n",
    "        api_version=\"2023-03-15-preview\",\n",
    "    )\n",
    "\n",
    "    conn = client.connections.create_or_update(connection)\n",
    "    print(\"successfully created connection\")\n",
    "\n",
    "print(conn)"
   ]
  },
  {
   "cell_type": "markdown",
   "metadata": {},
   "source": [
    "### 2.2 Create a new batch run"
   ]
  },
  {
   "cell_type": "code",
   "execution_count": null,
   "metadata": {},
   "outputs": [],
   "source": [
    "flow = \"../../flows/standard/flow-with-symlinks\" # path to the flow directory\n",
    "data = \"../../flows/standard/flow-with-symlinks/data.jsonl\" # path to the data file\n",
    "\n",
    "# create batch run with default variant\n",
    "base_run = pf.run_batch(\n",
    "    flow=flow,\n",
    "    data=data\n",
    ")\n",
    "\n",
    "pf.stream(base_run)"
   ]
  },
  {
   "cell_type": "code",
   "execution_count": null,
   "metadata": {},
   "outputs": [],
   "source": [
    "details = pf.get_details(base_run)\n",
    "details.head(10)"
   ]
  },
  {
   "cell_type": "markdown",
   "metadata": {},
   "source": [
    "## 3. Create a new branch run in azure\n",
    "\n",
    "### 3.1 Connect to Azure Machine Learning Workspace\n",
    "\n",
    "The [workspace](https://docs.microsoft.com/en-us/azure/machine-learning/concept-workspace) is the top-level resource for Azure Machine Learning, providing a centralized place to work with all the artifacts you create when you use Azure Machine Learning. In this section we will connect to the workspace in which the job will be run.\n"
   ]
  },
  {
   "cell_type": "code",
   "execution_count": null,
   "metadata": {},
   "outputs": [],
   "source": [
    "import json\n",
    "# Import required libraries\n",
    "from azure.identity import DefaultAzureCredential, InteractiveBrowserCredential\n",
    "from azure.ai.ml import MLClient\n",
    "# azure version promptflow apis\n",
    "import promptflow.azure as pf\n",
    "\n",
    "try:\n",
    "    credential = DefaultAzureCredential()\n",
    "    # Check if given credential can get token successfully.\n",
    "    credential.get_token(\"https://management.azure.com/.default\")\n",
    "except Exception as ex:\n",
    "    # Fall back to InteractiveBrowserCredential in case DefaultAzureCredential not work\n",
    "    credential = InteractiveBrowserCredential()"
   ]
  },
  {
   "cell_type": "markdown",
   "metadata": {},
   "source": [
    "### 3.2 Get a handle to the workspace\n",
    "\n",
    "We use config file to connect to a workspace. The Azure ML workspace should be configured with computer cluster. [Check this notebook for configure a workspace](../../configuration.ipynb)"
   ]
  },
  {
   "cell_type": "code",
   "execution_count": null,
   "metadata": {},
   "outputs": [],
   "source": [
    "# Get a handle to workspace\n",
    "ml_client = MLClient.from_config(credential=credential)\n",
    "\n",
    "# configure global setting pointing to workpsace ml_client\n",
    "pf.configure(ml_client)\n",
    "\n",
    "# create the prompt-flow client pointing to azureml workspace\n",
    "# client = pf.PFClient(ml_client=ml_client)\n",
    "\n",
    "runtime = \"demo-mir\" # TODO remove this after serverless ready"
   ]
  },
  {
   "cell_type": "markdown",
   "metadata": {},
   "source": [
    "### 3.3 Create a new batch run"
   ]
  },
  {
   "cell_type": "code",
   "execution_count": null,
   "metadata": {},
   "outputs": [],
   "source": [
    "flow = \"../../flows/standard/flow-with-symlinks\" # path to the flow directory\n",
    "data = \"../../flows/standard/flow-with-symlinks/data.jsonl\" # path to the data file\n",
    "\n",
    "# create batch run with default variant\n",
    "base_run = pf.run_batch(\n",
    "    flow=flow,\n",
    "    data=data,\n",
    "    runtime=runtime,\n",
    ")\n",
    "\n",
    "pf.stream(base_run)"
   ]
  },
  {
   "cell_type": "code",
   "execution_count": null,
   "metadata": {},
   "outputs": [],
   "source": [
    "details = pf.get_details(base_run)\n",
    "details.head(10)"
   ]
  }
 ],
 "metadata": {
  "kernelspec": {
   "display_name": "prompt_sdk",
   "language": "python",
   "name": "prompt_sdk"
  },
  "language_info": {
   "codemirror_mode": {
    "name": "ipython",
    "version": 3
   },
   "file_extension": ".py",
   "mimetype": "text/x-python",
   "name": "python",
   "nbconvert_exporter": "python",
   "pygments_lexer": "ipython3",
   "version": "3.8.16"
  }
 },
 "nbformat": 4,
 "nbformat_minor": 2
}
