{
 "cells": [
  {
   "cell_type": "markdown",
   "metadata": {},
   "source": [
    "# Flow with symlinks\n",
    "\n",
    "When there is a cross flow share scenario in the flow folder, although using symlink can facilitate development, it has the following limitations. It is recommended to use **additional include**.\n",
    "\n",
    "1. For Windows user, need to Administrator to create symbolic.\n",
    "2. For Windows user, directly copy the folder with symlinks, it will deep copy the contents to the location.\n",
    "3. Need to update the git config to support symlinks.\n",
    "\n",
    "\n",
    "**Requirements**:\n",
    "-  For Windows user, please creating user permission to [create symbolic links](https://learn.microsoft.com/en-us/windows/security/threat-protection/security-policy-settings/create-symbolic-links).\n",
    "    1. Open your `Local Security Policy`\n",
    "    2. Find `Local Policies` -> `User Rights Assignment` -> `Create symbolic links`\n",
    "    3. Add you user name to this policy then reboot the compute.\n",
    "\n",
    "**Attention**:\n",
    "- For git operations, need to set `git config core.symlinks true`"
   ]
  },
  {
   "cell_type": "markdown",
   "metadata": {},
   "source": [
    "## 0. Create symbolic links in the flow"
   ]
  },
  {
   "cell_type": "code",
   "execution_count": null,
   "metadata": {},
   "outputs": [],
   "source": [
    "! python ../../flows/standard/flow-with-symlinks/create_symlinks.py"
   ]
  },
  {
   "cell_type": "markdown",
   "metadata": {},
   "source": [
    "## 1. Test flow in local\n",
    "\n",
    "Execute promptflow CLI to test the flow in local."
   ]
  },
  {
   "cell_type": "code",
   "execution_count": null,
   "metadata": {
    "vscode": {
     "languageId": "bat"
    }
   },
   "outputs": [],
   "source": [
    "! pf flow test --flow ../../flows/standard/flow-with-symlinks"
   ]
  },
  {
   "cell_type": "markdown",
   "metadata": {},
   "source": [
    "## 2. Create a new batch run in local\n",
    "\n",
    "### 2.1 Create necessary connections\n",
    "Connection helps securely store and manage secret keys or other sensitive credentials required for interacting with LLM and other external tools for example Azure Content Safety.\n",
    "\n",
    "In this notebook, we will use flow `flow-with-symlinks` which uses connection `azure_open_ai_connection` inside, we need to set up the connection if we haven't added it before. After created, it's stored in local db and can be used in any flow."
   ]
  },
  {
   "cell_type": "code",
   "execution_count": null,
   "metadata": {},
   "outputs": [],
   "source": [
    "import promptflow as pf\n",
    "from promptflow.connections import AzureOpenAIConnection\n",
    "\n",
    "# client can help manage your runs and connections.\n",
    "client = pf.PFClient()\n",
    "\n",
    "try:\n",
    "    conn_name = \"azure_open_ai_connection\"\n",
    "    conn = client.connections.get(name=conn_name)\n",
    "    print(\"using existing connection\")\n",
    "except:\n",
    "    connection = AzureOpenAIConnection(\n",
    "        name=conn_name,\n",
    "        api_key=\"<test_key>\",\n",
    "        api_base=\"<test_base>\",\n",
    "        api_type=\"azure\",\n",
    "        api_version=\"<test_version>\",\n",
    "    )\n",
    "\n",
    "    conn = client.connections.create_or_update(connection)\n",
    "    print(\"successfully created connection\")\n",
    "\n",
    "print(conn)"
   ]
  },
  {
   "cell_type": "markdown",
   "metadata": {},
   "source": [
    "### 2.2 Create a new batch run"
   ]
  },
  {
   "cell_type": "code",
   "execution_count": null,
   "metadata": {},
   "outputs": [],
   "source": [
    "flow = \"../../flows/standard/flow-with-symlinks\" # path to the flow directory\n",
    "data = \"../../flows/standard/flow-with-symlinks/data.jsonl\" # path to the data file\n",
    "\n",
    "# create batch run with default variant\n",
    "base_run = pf.run(\n",
    "    flow=flow,\n",
    "    data=data\n",
    ")\n",
    "\n",
    "pf.stream(base_run)"
   ]
  },
  {
   "cell_type": "code",
   "execution_count": null,
   "metadata": {},
   "outputs": [],
   "source": [
    "details = pf.get_details(base_run)\n",
    "details.head(10)"
   ]
  },
  {
   "cell_type": "markdown",
   "metadata": {},
   "source": [
    "## 3. Create a new branch run in azure\n",
    "\n",
    "### 3.1 Connect to Azure Machine Learning Workspace\n",
    "\n",
    "The [workspace](https://docs.microsoft.com/en-us/azure/machine-learning/concept-workspace) is the top-level resource for Azure Machine Learning, providing a centralized place to work with all the artifacts you create when you use Azure Machine Learning. In this section we will connect to the workspace in which the job will be run.\n"
   ]
  },
  {
   "cell_type": "code",
   "execution_count": null,
   "metadata": {},
   "outputs": [],
   "source": [
    "# Import required libraries\n",
    "from azure.identity import DefaultAzureCredential, InteractiveBrowserCredential\n",
    "from azure.ai.ml import MLClient\n",
    "# azure version promptflow apis\n",
    "import promptflow.azure as pf\n",
    "\n",
    "try:\n",
    "    credential = DefaultAzureCredential()\n",
    "    # Check if given credential can get token successfully.\n",
    "    credential.get_token(\"https://management.azure.com/.default\")\n",
    "except Exception as ex:\n",
    "    # Fall back to InteractiveBrowserCredential in case DefaultAzureCredential not work\n",
    "    credential = InteractiveBrowserCredential()"
   ]
  },
  {
   "cell_type": "markdown",
   "metadata": {},
   "source": [
    "### 3.2 Get a handle to the workspace\n",
    "\n",
    "We use config file to connect to a workspace. The Azure ML workspace should be configured with computer cluster. [Check this notebook for configure a workspace](../../configuration.ipynb)"
   ]
  },
  {
   "cell_type": "code",
   "execution_count": null,
   "metadata": {},
   "outputs": [],
   "source": [
    "# Get a handle to workspace\n",
    "ml_client = MLClient.from_config(credential=credential)\n",
    "\n",
    "# configure global setting pointing to workpsace ml_client\n",
    "pf.configure(ml_client)\n",
    "runtime = \"demo-mir\" # TODO remove this after serverless ready"
   ]
  },
  {
   "cell_type": "markdown",
   "metadata": {},
   "source": [
    "### 3.3 Create a new batch run"
   ]
  },
  {
   "cell_type": "code",
   "execution_count": null,
   "metadata": {},
   "outputs": [],
   "source": [
    "flow = \"../../flows/standard/flow-with-symlinks\" # path to the flow directory\n",
    "data = \"../../flows/standard/flow-with-symlinks/data.jsonl\" # path to the data file\n",
    "\n",
    "# create batch run with default variant\n",
    "base_run = pf.run(\n",
    "    flow=\".\",\n",
    "    data=\"data.jsonl\",\n",
    "    runtime=runtime,\n",
    ")\n",
    "\n",
    "pf.stream(base_run)"
   ]
  },
  {
   "cell_type": "code",
   "execution_count": null,
   "metadata": {},
   "outputs": [],
   "source": [
    "details = pf.get_details(base_run)\n",
    "details.head(10)"
   ]
  }
 ],
 "metadata": {
  "kernelspec": {
   "display_name": "Python 3",
   "language": "python",
   "name": "python3"
  },
  "language_info": {
   "codemirror_mode": {
    "name": "ipython",
    "version": 3
   },
   "file_extension": ".py",
   "mimetype": "text/x-python",
   "name": "python",
   "nbconvert_exporter": "python",
   "pygments_lexer": "ipython3",
   "version": "3.8.16"
  }
 },
 "nbformat": 4,
 "nbformat_minor": 2
}
