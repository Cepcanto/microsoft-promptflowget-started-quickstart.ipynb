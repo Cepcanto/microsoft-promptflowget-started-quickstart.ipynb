{
 "cells": [
  {
   "cell_type": "markdown",
   "metadata": {},
   "source": [
    "# Run prompt flow in Azure AI\n",
    "\n",
    "**Requirements** - In order to benefit from this tutorial, you will need:\n",
    "- An Azure account with an active subscription - [Create an account for free](https://azure.microsoft.com/free/?WT.mc_id=A261C142F)\n",
    "- An Azure ML workspace - [Configure workspace](../../configuration.ipynb)\n",
    "- A python environment\n",
    "- Installed PromptFlow SDK\n",
    "\n",
    "**Learning Objectives** - By the end of this tutorial, you should be able to:\n",
    "- Connect to your Azure AI workspace from the Python SDK\n",
    "- Create and develop a new promptflow run\n",
    "- Evaluate the run with a evaluation flow\n",
    "\n",
    "**Motivations** - This guide will walk you through the main user journey of prompt flow code-first experience. You will learn how to create and develop your first prompt flow, test and evaluate it."
   ]
  },
  {
   "cell_type": "markdown",
   "metadata": {},
   "source": [
    "## 0. Install dependent packages"
   ]
  },
  {
   "cell_type": "code",
   "execution_count": 1,
   "metadata": {},
   "outputs": [
    {
     "name": "stdout",
     "output_type": "stream",
     "text": [
      "Looking in indexes: https://pypi.org/simple, https://azuremlsdktestpypi.azureedge.net/promptflow/\n",
      "Requirement already satisfied: promptflow[azure]==0.0.101903259 in d:\\dev\\anaconda\\envs\\pf-examples\\lib\\site-packages (from -r ../../requirements.txt (line 3)) (0.0.101903259)\n",
      "Requirement already satisfied: promptflow-tools==0.1.0.b3 in d:\\dev\\anaconda\\envs\\pf-examples\\lib\\site-packages (from -r ../../requirements.txt (line 4)) (0.1.0b3)\n",
      "Requirement already satisfied: python-dotenv in d:\\dev\\anaconda\\envs\\pf-examples\\lib\\site-packages (from -r ../../requirements.txt (line 5)) (1.0.0)\n",
      "Requirement already satisfied: langchain in d:\\dev\\anaconda\\envs\\pf-examples\\lib\\site-packages (from -r ../../requirements.txt (line 6)) (0.0.149)\n",
      "Requirement already satisfied: jinja2 in d:\\dev\\anaconda\\envs\\pf-examples\\lib\\site-packages (from -r ../../requirements.txt (line 7)) (3.0.1)\n",
      "Requirement already satisfied: bs4 in d:\\dev\\anaconda\\envs\\pf-examples\\lib\\site-packages (from -r ../../requirements.txt (line 8)) (0.0.1)\n",
      "Requirement already satisfied: openai<0.28.0,>=0.27.8 in d:\\dev\\anaconda\\envs\\pf-examples\\lib\\site-packages (from promptflow[azure]==0.0.101903259->-r ../../requirements.txt (line 3)) (0.27.8)\n",
      "Requirement already satisfied: flask<3.0.0,>=2.2.3 in d:\\dev\\anaconda\\envs\\pf-examples\\lib\\site-packages (from promptflow[azure]==0.0.101903259->-r ../../requirements.txt (line 3)) (2.2.3)\n",
      "Requirement already satisfied: dataset<2.0.0,>=1.6.0 in d:\\dev\\anaconda\\envs\\pf-examples\\lib\\site-packages (from promptflow[azure]==0.0.101903259->-r ../../requirements.txt (line 3)) (1.6.0)\n",
      "Requirement already satisfied: sqlalchemy<2.0.0,>=1.4.48 in d:\\dev\\anaconda\\envs\\pf-examples\\lib\\site-packages (from promptflow[azure]==0.0.101903259->-r ../../requirements.txt (line 3)) (1.4.48)\n",
      "Requirement already satisfied: pandas<2.0.0,>=1.5.3 in d:\\dev\\anaconda\\envs\\pf-examples\\lib\\site-packages (from promptflow[azure]==0.0.101903259->-r ../../requirements.txt (line 3)) (1.5.3)\n",
      "Requirement already satisfied: keyring<25.0.0,>=24.2.0 in d:\\dev\\anaconda\\envs\\pf-examples\\lib\\site-packages (from promptflow[azure]==0.0.101903259->-r ../../requirements.txt (line 3)) (24.2.0)\n",
      "Requirement already satisfied: pydash<6.0.0,>=5.1.2 in d:\\dev\\anaconda\\envs\\pf-examples\\lib\\site-packages (from promptflow[azure]==0.0.101903259->-r ../../requirements.txt (line 3)) (5.1.2)\n",
      "Requirement already satisfied: cryptography<42.0.0,>=41.0.2 in d:\\dev\\anaconda\\envs\\pf-examples\\lib\\site-packages (from promptflow[azure]==0.0.101903259->-r ../../requirements.txt (line 3)) (41.0.3)\n",
      "Requirement already satisfied: colorama<0.5.0,>=0.4.6 in d:\\dev\\anaconda\\envs\\pf-examples\\lib\\site-packages (from promptflow[azure]==0.0.101903259->-r ../../requirements.txt (line 3)) (0.4.6)\n",
      "Requirement already satisfied: tabulate<1.0.0,>=0.9.0 in d:\\dev\\anaconda\\envs\\pf-examples\\lib\\site-packages (from promptflow[azure]==0.0.101903259->-r ../../requirements.txt (line 3)) (0.9.0)\n",
      "Requirement already satisfied: filelock<4.0.0,>=3.4.0 in d:\\dev\\anaconda\\envs\\pf-examples\\lib\\site-packages (from promptflow[azure]==0.0.101903259->-r ../../requirements.txt (line 3)) (3.12.2)\n",
      "Requirement already satisfied: marshmallow<4.0.0,>=3.5 in d:\\dev\\anaconda\\envs\\pf-examples\\lib\\site-packages (from promptflow[azure]==0.0.101903259->-r ../../requirements.txt (line 3)) (3.19.0)\n",
      "Requirement already satisfied: pyyaml<7.0.0,>=5.1.0 in d:\\dev\\anaconda\\envs\\pf-examples\\lib\\site-packages (from promptflow[azure]==0.0.101903259->-r ../../requirements.txt (line 3)) (6.0)\n",
      "Requirement already satisfied: azure-core<2.0.0,>=1.26.4 in d:\\dev\\anaconda\\envs\\pf-examples\\lib\\site-packages (from promptflow[azure]==0.0.101903259->-r ../../requirements.txt (line 3)) (1.26.4)\n",
      "Requirement already satisfied: azure-storage-blob<13.0.0,>=12.13.0 in d:\\dev\\anaconda\\envs\\pf-examples\\lib\\site-packages (from promptflow[azure]==0.0.101903259->-r ../../requirements.txt (line 3)) (12.13.0)\n",
      "Requirement already satisfied: azure-identity<2.0.0,>=1.12.0 in d:\\dev\\anaconda\\envs\\pf-examples\\lib\\site-packages (from promptflow[azure]==0.0.101903259->-r ../../requirements.txt (line 3)) (1.12.0)\n",
      "Requirement already satisfied: azure-ai-ml<2.0.0,>=1.9.0 in d:\\dev\\anaconda\\envs\\pf-examples\\lib\\site-packages (from promptflow[azure]==0.0.101903259->-r ../../requirements.txt (line 3)) (1.9.0)\n",
      "Requirement already satisfied: pyjwt<3.0.0,>=2.4.0 in d:\\dev\\anaconda\\envs\\pf-examples\\lib\\site-packages (from promptflow[azure]==0.0.101903259->-r ../../requirements.txt (line 3)) (2.4.0)\n",
      "Requirement already satisfied: google-search-results==2.4.1 in d:\\dev\\anaconda\\envs\\pf-examples\\lib\\site-packages (from promptflow-tools==0.1.0.b3->-r ../../requirements.txt (line 4)) (2.4.1)\n",
      "Requirement already satisfied: requests in d:\\dev\\anaconda\\envs\\pf-examples\\lib\\site-packages (from google-search-results==2.4.1->promptflow-tools==0.1.0.b3->-r ../../requirements.txt (line 4)) (2.31.0)\n",
      "Requirement already satisfied: aiohttp<4.0.0,>=3.8.3 in d:\\dev\\anaconda\\envs\\pf-examples\\lib\\site-packages (from langchain->-r ../../requirements.txt (line 6)) (3.8.4)\n",
      "Requirement already satisfied: async-timeout<5.0.0,>=4.0.0 in d:\\dev\\anaconda\\envs\\pf-examples\\lib\\site-packages (from langchain->-r ../../requirements.txt (line 6)) (4.0.2)\n",
      "Requirement already satisfied: dataclasses-json<0.6.0,>=0.5.7 in d:\\dev\\anaconda\\envs\\pf-examples\\lib\\site-packages (from langchain->-r ../../requirements.txt (line 6)) (0.5.9)\n",
      "Requirement already satisfied: numexpr<3.0.0,>=2.8.4 in d:\\dev\\anaconda\\envs\\pf-examples\\lib\\site-packages (from langchain->-r ../../requirements.txt (line 6)) (2.8.4)\n",
      "Requirement already satisfied: numpy<2,>=1 in d:\\dev\\anaconda\\envs\\pf-examples\\lib\\site-packages (from langchain->-r ../../requirements.txt (line 6)) (1.25.1)\n",
      "Requirement already satisfied: openapi-schema-pydantic<2.0,>=1.2 in d:\\dev\\anaconda\\envs\\pf-examples\\lib\\site-packages (from langchain->-r ../../requirements.txt (line 6)) (1.2.4)\n",
      "Requirement already satisfied: pydantic<2,>=1 in d:\\dev\\anaconda\\envs\\pf-examples\\lib\\site-packages (from langchain->-r ../../requirements.txt (line 6)) (1.10.11)\n",
      "Requirement already satisfied: tenacity<9.0.0,>=8.1.0 in d:\\dev\\anaconda\\envs\\pf-examples\\lib\\site-packages (from langchain->-r ../../requirements.txt (line 6)) (8.2.2)\n",
      "Requirement already satisfied: tqdm>=4.48.0 in d:\\dev\\anaconda\\envs\\pf-examples\\lib\\site-packages (from langchain->-r ../../requirements.txt (line 6)) (4.65.0)\n",
      "Requirement already satisfied: MarkupSafe>=2.0 in d:\\dev\\anaconda\\envs\\pf-examples\\lib\\site-packages (from jinja2->-r ../../requirements.txt (line 7)) (2.1.3)\n",
      "Requirement already satisfied: beautifulsoup4 in d:\\dev\\anaconda\\envs\\pf-examples\\lib\\site-packages (from bs4->-r ../../requirements.txt (line 8)) (4.12.2)\n",
      "Requirement already satisfied: attrs>=17.3.0 in d:\\dev\\anaconda\\envs\\pf-examples\\lib\\site-packages (from aiohttp<4.0.0,>=3.8.3->langchain->-r ../../requirements.txt (line 6)) (23.1.0)\n",
      "Requirement already satisfied: charset-normalizer<4.0,>=2.0 in d:\\dev\\anaconda\\envs\\pf-examples\\lib\\site-packages (from aiohttp<4.0.0,>=3.8.3->langchain->-r ../../requirements.txt (line 6)) (3.2.0)\n",
      "Requirement already satisfied: multidict<7.0,>=4.5 in d:\\dev\\anaconda\\envs\\pf-examples\\lib\\site-packages (from aiohttp<4.0.0,>=3.8.3->langchain->-r ../../requirements.txt (line 6)) (6.0.4)\n",
      "Requirement already satisfied: yarl<2.0,>=1.0 in d:\\dev\\anaconda\\envs\\pf-examples\\lib\\site-packages (from aiohttp<4.0.0,>=3.8.3->langchain->-r ../../requirements.txt (line 6)) (1.9.2)\n",
      "Requirement already satisfied: frozenlist>=1.1.1 in d:\\dev\\anaconda\\envs\\pf-examples\\lib\\site-packages (from aiohttp<4.0.0,>=3.8.3->langchain->-r ../../requirements.txt (line 6)) (1.3.3)\n",
      "Requirement already satisfied: aiosignal>=1.1.2 in d:\\dev\\anaconda\\envs\\pf-examples\\lib\\site-packages (from aiohttp<4.0.0,>=3.8.3->langchain->-r ../../requirements.txt (line 6)) (1.3.1)\n",
      "Requirement already satisfied: msrest>=0.6.18 in d:\\dev\\anaconda\\envs\\pf-examples\\lib\\site-packages (from azure-ai-ml<2.0.0,>=1.9.0->promptflow[azure]==0.0.101903259->-r ../../requirements.txt (line 3)) (0.7.1)\n",
      "Requirement already satisfied: azure-mgmt-core<2.0.0,>=1.3.0 in d:\\dev\\anaconda\\envs\\pf-examples\\lib\\site-packages (from azure-ai-ml<2.0.0,>=1.9.0->promptflow[azure]==0.0.101903259->-r ../../requirements.txt (line 3)) (1.4.0)\n",
      "Requirement already satisfied: jsonschema<5.0.0,>=4.0.0 in d:\\dev\\anaconda\\envs\\pf-examples\\lib\\site-packages (from azure-ai-ml<2.0.0,>=1.9.0->promptflow[azure]==0.0.101903259->-r ../../requirements.txt (line 3)) (4.18.0)\n",
      "Requirement already satisfied: strictyaml<2.0.0 in d:\\dev\\anaconda\\envs\\pf-examples\\lib\\site-packages (from azure-ai-ml<2.0.0,>=1.9.0->promptflow[azure]==0.0.101903259->-r ../../requirements.txt (line 3)) (1.7.3)\n",
      "Requirement already satisfied: azure-storage-file-share<13.0.0 in d:\\dev\\anaconda\\envs\\pf-examples\\lib\\site-packages (from azure-ai-ml<2.0.0,>=1.9.0->promptflow[azure]==0.0.101903259->-r ../../requirements.txt (line 3)) (12.12.0)\n",
      "Requirement already satisfied: azure-storage-file-datalake<13.0.0 in d:\\dev\\anaconda\\envs\\pf-examples\\lib\\site-packages (from azure-ai-ml<2.0.0,>=1.9.0->promptflow[azure]==0.0.101903259->-r ../../requirements.txt (line 3)) (12.8.0)\n",
      "Requirement already satisfied: isodate in d:\\dev\\anaconda\\envs\\pf-examples\\lib\\site-packages (from azure-ai-ml<2.0.0,>=1.9.0->promptflow[azure]==0.0.101903259->-r ../../requirements.txt (line 3)) (0.6.1)\n",
      "Requirement already satisfied: azure-common<2.0.0,>=1.1 in d:\\dev\\anaconda\\envs\\pf-examples\\lib\\site-packages (from azure-ai-ml<2.0.0,>=1.9.0->promptflow[azure]==0.0.101903259->-r ../../requirements.txt (line 3)) (1.1.28)\n",
      "Requirement already satisfied: typing-extensions<5.0.0 in d:\\dev\\anaconda\\envs\\pf-examples\\lib\\site-packages (from azure-ai-ml<2.0.0,>=1.9.0->promptflow[azure]==0.0.101903259->-r ../../requirements.txt (line 3)) (4.5.0)\n",
      "Requirement already satisfied: opencensus-ext-azure<2.0.0 in d:\\dev\\anaconda\\envs\\pf-examples\\lib\\site-packages (from azure-ai-ml<2.0.0,>=1.9.0->promptflow[azure]==0.0.101903259->-r ../../requirements.txt (line 3)) (1.1.9)\n",
      "Requirement already satisfied: six>=1.11.0 in d:\\dev\\anaconda\\envs\\pf-examples\\lib\\site-packages (from azure-core<2.0.0,>=1.26.4->promptflow[azure]==0.0.101903259->-r ../../requirements.txt (line 3)) (1.16.0)\n",
      "Requirement already satisfied: msal<2.0.0,>=1.12.0 in d:\\dev\\anaconda\\envs\\pf-examples\\lib\\site-packages (from azure-identity<2.0.0,>=1.12.0->promptflow[azure]==0.0.101903259->-r ../../requirements.txt (line 3)) (1.22.0)\n",
      "Requirement already satisfied: msal-extensions<2.0.0,>=0.3.0 in d:\\dev\\anaconda\\envs\\pf-examples\\lib\\site-packages (from azure-identity<2.0.0,>=1.12.0->promptflow[azure]==0.0.101903259->-r ../../requirements.txt (line 3)) (1.0.0)\n",
      "Requirement already satisfied: cffi>=1.12 in d:\\dev\\anaconda\\envs\\pf-examples\\lib\\site-packages (from cryptography<42.0.0,>=41.0.2->promptflow[azure]==0.0.101903259->-r ../../requirements.txt (line 3)) (1.15.1)\n",
      "Requirement already satisfied: marshmallow-enum<2.0.0,>=1.5.1 in d:\\dev\\anaconda\\envs\\pf-examples\\lib\\site-packages (from dataclasses-json<0.6.0,>=0.5.7->langchain->-r ../../requirements.txt (line 6)) (1.5.1)\n",
      "Requirement already satisfied: typing-inspect>=0.4.0 in d:\\dev\\anaconda\\envs\\pf-examples\\lib\\site-packages (from dataclasses-json<0.6.0,>=0.5.7->langchain->-r ../../requirements.txt (line 6)) (0.9.0)\n",
      "Requirement already satisfied: alembic>=0.6.2 in d:\\dev\\anaconda\\envs\\pf-examples\\lib\\site-packages (from dataset<2.0.0,>=1.6.0->promptflow[azure]==0.0.101903259->-r ../../requirements.txt (line 3)) (1.10.4)\n",
      "Requirement already satisfied: banal>=1.0.1 in d:\\dev\\anaconda\\envs\\pf-examples\\lib\\site-packages (from dataset<2.0.0,>=1.6.0->promptflow[azure]==0.0.101903259->-r ../../requirements.txt (line 3)) (1.0.6)\n",
      "Requirement already satisfied: Werkzeug>=2.2.2 in d:\\dev\\anaconda\\envs\\pf-examples\\lib\\site-packages (from flask<3.0.0,>=2.2.3->promptflow[azure]==0.0.101903259->-r ../../requirements.txt (line 3)) (2.3.6)\n",
      "Requirement already satisfied: itsdangerous>=2.0 in d:\\dev\\anaconda\\envs\\pf-examples\\lib\\site-packages (from flask<3.0.0,>=2.2.3->promptflow[azure]==0.0.101903259->-r ../../requirements.txt (line 3)) (2.1.2)\n",
      "Requirement already satisfied: click>=8.0 in d:\\dev\\anaconda\\envs\\pf-examples\\lib\\site-packages (from flask<3.0.0,>=2.2.3->promptflow[azure]==0.0.101903259->-r ../../requirements.txt (line 3)) (8.1.4)\n",
      "Requirement already satisfied: importlib-metadata>=3.6.0 in d:\\dev\\anaconda\\envs\\pf-examples\\lib\\site-packages (from flask<3.0.0,>=2.2.3->promptflow[azure]==0.0.101903259->-r ../../requirements.txt (line 3)) (6.8.0)\n",
      "Requirement already satisfied: jaraco.classes in d:\\dev\\anaconda\\envs\\pf-examples\\lib\\site-packages (from keyring<25.0.0,>=24.2.0->promptflow[azure]==0.0.101903259->-r ../../requirements.txt (line 3)) (3.3.0)\n",
      "Requirement already satisfied: pywin32-ctypes>=0.2.0 in d:\\dev\\anaconda\\envs\\pf-examples\\lib\\site-packages (from keyring<25.0.0,>=24.2.0->promptflow[azure]==0.0.101903259->-r ../../requirements.txt (line 3)) (0.2.2)\n",
      "Requirement already satisfied: packaging>=17.0 in d:\\dev\\anaconda\\envs\\pf-examples\\lib\\site-packages (from marshmallow<4.0.0,>=3.5->promptflow[azure]==0.0.101903259->-r ../../requirements.txt (line 3)) (23.0)\n",
      "Requirement already satisfied: python-dateutil>=2.8.1 in d:\\dev\\anaconda\\envs\\pf-examples\\lib\\site-packages (from pandas<2.0.0,>=1.5.3->promptflow[azure]==0.0.101903259->-r ../../requirements.txt (line 3)) (2.8.2)\n",
      "Requirement already satisfied: pytz>=2020.1 in d:\\dev\\anaconda\\envs\\pf-examples\\lib\\site-packages (from pandas<2.0.0,>=1.5.3->promptflow[azure]==0.0.101903259->-r ../../requirements.txt (line 3)) (2023.3)\n",
      "Requirement already satisfied: idna<4,>=2.5 in d:\\dev\\anaconda\\envs\\pf-examples\\lib\\site-packages (from requests->google-search-results==2.4.1->promptflow-tools==0.1.0.b3->-r ../../requirements.txt (line 4)) (3.4)\n",
      "Requirement already satisfied: urllib3<3,>=1.21.1 in d:\\dev\\anaconda\\envs\\pf-examples\\lib\\site-packages (from requests->google-search-results==2.4.1->promptflow-tools==0.1.0.b3->-r ../../requirements.txt (line 4)) (1.26.16)\n",
      "Requirement already satisfied: certifi>=2017.4.17 in d:\\dev\\anaconda\\envs\\pf-examples\\lib\\site-packages (from requests->google-search-results==2.4.1->promptflow-tools==0.1.0.b3->-r ../../requirements.txt (line 4)) (2023.5.7)\n",
      "Requirement already satisfied: greenlet!=0.4.17 in d:\\dev\\anaconda\\envs\\pf-examples\\lib\\site-packages (from sqlalchemy<2.0.0,>=1.4.48->promptflow[azure]==0.0.101903259->-r ../../requirements.txt (line 3)) (2.0.2)\n",
      "Requirement already satisfied: soupsieve>1.2 in d:\\dev\\anaconda\\envs\\pf-examples\\lib\\site-packages (from beautifulsoup4->bs4->-r ../../requirements.txt (line 8)) (2.4.1)\n",
      "Requirement already satisfied: Mako in d:\\dev\\anaconda\\envs\\pf-examples\\lib\\site-packages (from alembic>=0.6.2->dataset<2.0.0,>=1.6.0->promptflow[azure]==0.0.101903259->-r ../../requirements.txt (line 3)) (1.2.4)\n",
      "Requirement already satisfied: pycparser in d:\\dev\\anaconda\\envs\\pf-examples\\lib\\site-packages (from cffi>=1.12->cryptography<42.0.0,>=41.0.2->promptflow[azure]==0.0.101903259->-r ../../requirements.txt (line 3)) (2.21)\n",
      "Requirement already satisfied: zipp>=0.5 in d:\\dev\\anaconda\\envs\\pf-examples\\lib\\site-packages (from importlib-metadata>=3.6.0->flask<3.0.0,>=2.2.3->promptflow[azure]==0.0.101903259->-r ../../requirements.txt (line 3)) (3.16.0)\n",
      "Requirement already satisfied: jsonschema-specifications>=2023.03.6 in d:\\dev\\anaconda\\envs\\pf-examples\\lib\\site-packages (from jsonschema<5.0.0,>=4.0.0->azure-ai-ml<2.0.0,>=1.9.0->promptflow[azure]==0.0.101903259->-r ../../requirements.txt (line 3)) (2023.6.1)\n",
      "Requirement already satisfied: referencing>=0.28.4 in d:\\dev\\anaconda\\envs\\pf-examples\\lib\\site-packages (from jsonschema<5.0.0,>=4.0.0->azure-ai-ml<2.0.0,>=1.9.0->promptflow[azure]==0.0.101903259->-r ../../requirements.txt (line 3)) (0.29.1)\n",
      "Requirement already satisfied: rpds-py>=0.7.1 in d:\\dev\\anaconda\\envs\\pf-examples\\lib\\site-packages (from jsonschema<5.0.0,>=4.0.0->azure-ai-ml<2.0.0,>=1.9.0->promptflow[azure]==0.0.101903259->-r ../../requirements.txt (line 3)) (0.8.10)\n",
      "Requirement already satisfied: portalocker<3,>=1.6 in d:\\dev\\anaconda\\envs\\pf-examples\\lib\\site-packages (from msal-extensions<2.0.0,>=0.3.0->azure-identity<2.0.0,>=1.12.0->promptflow[azure]==0.0.101903259->-r ../../requirements.txt (line 3)) (2.7.0)\n",
      "Requirement already satisfied: requests-oauthlib>=0.5.0 in d:\\dev\\anaconda\\envs\\pf-examples\\lib\\site-packages (from msrest>=0.6.18->azure-ai-ml<2.0.0,>=1.9.0->promptflow[azure]==0.0.101903259->-r ../../requirements.txt (line 3)) (1.3.1)\n",
      "Requirement already satisfied: opencensus<1.0.0,>=0.11.2 in d:\\dev\\anaconda\\envs\\pf-examples\\lib\\site-packages (from opencensus-ext-azure<2.0.0->azure-ai-ml<2.0.0,>=1.9.0->promptflow[azure]==0.0.101903259->-r ../../requirements.txt (line 3)) (0.11.2)\n",
      "Requirement already satisfied: psutil>=5.6.3 in d:\\dev\\anaconda\\envs\\pf-examples\\lib\\site-packages (from opencensus-ext-azure<2.0.0->azure-ai-ml<2.0.0,>=1.9.0->promptflow[azure]==0.0.101903259->-r ../../requirements.txt (line 3)) (5.9.0)\n",
      "Requirement already satisfied: mypy-extensions>=0.3.0 in d:\\dev\\anaconda\\envs\\pf-examples\\lib\\site-packages (from typing-inspect>=0.4.0->dataclasses-json<0.6.0,>=0.5.7->langchain->-r ../../requirements.txt (line 6)) (1.0.0)\n",
      "Requirement already satisfied: more-itertools in d:\\dev\\anaconda\\envs\\pf-examples\\lib\\site-packages (from jaraco.classes->keyring<25.0.0,>=24.2.0->promptflow[azure]==0.0.101903259->-r ../../requirements.txt (line 3)) (9.1.0)\n",
      "Requirement already satisfied: opencensus-context>=0.1.3 in d:\\dev\\anaconda\\envs\\pf-examples\\lib\\site-packages (from opencensus<1.0.0,>=0.11.2->opencensus-ext-azure<2.0.0->azure-ai-ml<2.0.0,>=1.9.0->promptflow[azure]==0.0.101903259->-r ../../requirements.txt (line 3)) (0.1.3)\n",
      "Requirement already satisfied: google-api-core<3.0.0,>=1.0.0 in d:\\dev\\anaconda\\envs\\pf-examples\\lib\\site-packages (from opencensus<1.0.0,>=0.11.2->opencensus-ext-azure<2.0.0->azure-ai-ml<2.0.0,>=1.9.0->promptflow[azure]==0.0.101903259->-r ../../requirements.txt (line 3)) (2.11.1)\n",
      "Requirement already satisfied: pywin32>=226 in d:\\dev\\anaconda\\envs\\pf-examples\\lib\\site-packages (from portalocker<3,>=1.6->msal-extensions<2.0.0,>=0.3.0->azure-identity<2.0.0,>=1.12.0->promptflow[azure]==0.0.101903259->-r ../../requirements.txt (line 3)) (305.1)\n",
      "Requirement already satisfied: oauthlib>=3.0.0 in d:\\dev\\anaconda\\envs\\pf-examples\\lib\\site-packages (from requests-oauthlib>=0.5.0->msrest>=0.6.18->azure-ai-ml<2.0.0,>=1.9.0->promptflow[azure]==0.0.101903259->-r ../../requirements.txt (line 3)) (3.2.2)\n",
      "Requirement already satisfied: googleapis-common-protos<2.0.dev0,>=1.56.2 in d:\\dev\\anaconda\\envs\\pf-examples\\lib\\site-packages (from google-api-core<3.0.0,>=1.0.0->opencensus<1.0.0,>=0.11.2->opencensus-ext-azure<2.0.0->azure-ai-ml<2.0.0,>=1.9.0->promptflow[azure]==0.0.101903259->-r ../../requirements.txt (line 3)) (1.59.1)\n",
      "Requirement already satisfied: protobuf!=3.20.0,!=3.20.1,!=4.21.0,!=4.21.1,!=4.21.2,!=4.21.3,!=4.21.4,!=4.21.5,<5.0.0.dev0,>=3.19.5 in d:\\dev\\anaconda\\envs\\pf-examples\\lib\\site-packages (from google-api-core<3.0.0,>=1.0.0->opencensus<1.0.0,>=0.11.2->opencensus-ext-azure<2.0.0->azure-ai-ml<2.0.0,>=1.9.0->promptflow[azure]==0.0.101903259->-r ../../requirements.txt (line 3)) (4.23.4)\n",
      "Requirement already satisfied: google-auth<3.0.dev0,>=2.14.1 in d:\\dev\\anaconda\\envs\\pf-examples\\lib\\site-packages (from google-api-core<3.0.0,>=1.0.0->opencensus<1.0.0,>=0.11.2->opencensus-ext-azure<2.0.0->azure-ai-ml<2.0.0,>=1.9.0->promptflow[azure]==0.0.101903259->-r ../../requirements.txt (line 3)) (2.21.0)\n",
      "Requirement already satisfied: cachetools<6.0,>=2.0.0 in d:\\dev\\anaconda\\envs\\pf-examples\\lib\\site-packages (from google-auth<3.0.dev0,>=2.14.1->google-api-core<3.0.0,>=1.0.0->opencensus<1.0.0,>=0.11.2->opencensus-ext-azure<2.0.0->azure-ai-ml<2.0.0,>=1.9.0->promptflow[azure]==0.0.101903259->-r ../../requirements.txt (line 3)) (5.3.1)\n",
      "Requirement already satisfied: pyasn1-modules>=0.2.1 in d:\\dev\\anaconda\\envs\\pf-examples\\lib\\site-packages (from google-auth<3.0.dev0,>=2.14.1->google-api-core<3.0.0,>=1.0.0->opencensus<1.0.0,>=0.11.2->opencensus-ext-azure<2.0.0->azure-ai-ml<2.0.0,>=1.9.0->promptflow[azure]==0.0.101903259->-r ../../requirements.txt (line 3)) (0.3.0)\n",
      "Requirement already satisfied: rsa<5,>=3.1.4 in d:\\dev\\anaconda\\envs\\pf-examples\\lib\\site-packages (from google-auth<3.0.dev0,>=2.14.1->google-api-core<3.0.0,>=1.0.0->opencensus<1.0.0,>=0.11.2->opencensus-ext-azure<2.0.0->azure-ai-ml<2.0.0,>=1.9.0->promptflow[azure]==0.0.101903259->-r ../../requirements.txt (line 3)) (4.9)\n",
      "Requirement already satisfied: pyasn1<0.6.0,>=0.4.6 in d:\\dev\\anaconda\\envs\\pf-examples\\lib\\site-packages (from pyasn1-modules>=0.2.1->google-auth<3.0.dev0,>=2.14.1->google-api-core<3.0.0,>=1.0.0->opencensus<1.0.0,>=0.11.2->opencensus-ext-azure<2.0.0->azure-ai-ml<2.0.0,>=1.9.0->promptflow[azure]==0.0.101903259->-r ../../requirements.txt (line 3)) (0.5.0)\n",
      "Note: you may need to restart the kernel to use updated packages.\n"
     ]
    },
    {
     "name": "stderr",
     "output_type": "stream",
     "text": [
      "WARNING: Ignoring invalid distribution -romptflow-sdk (d:\\dev\\anaconda\\envs\\pf-examples\\lib\\site-packages)\n",
      "WARNING: Ignoring invalid distribution -romptflow-sdk (d:\\dev\\anaconda\\envs\\pf-examples\\lib\\site-packages)\n"
     ]
    }
   ],
   "source": [
    "%pip install -r ../../requirements.txt"
   ]
  },
  {
   "cell_type": "markdown",
   "metadata": {},
   "source": [
    "# 1. Connect to Azure Machine Learning Workspace\n",
    "\n",
    "The [workspace](https://docs.microsoft.com/en-us/azure/machine-learning/concept-workspace) is the top-level resource for Azure Machine Learning, providing a centralized place to work with all the artifacts you create when you use Azure Machine Learning. In this section we will connect to the workspace in which the job will be run.\n",
    "\n",
    "## 1.1 Import the required libraries"
   ]
  },
  {
   "cell_type": "code",
   "execution_count": 2,
   "metadata": {},
   "outputs": [],
   "source": [
    "import json\n",
    "\n",
    "# Import required libraries\n",
    "from azure.identity import DefaultAzureCredential, InteractiveBrowserCredential\n",
    "from azure.ai.ml import MLClient\n",
    "\n",
    "# azure version promptflow apis\n",
    "from promptflow.azure import PFClient"
   ]
  },
  {
   "cell_type": "markdown",
   "metadata": {},
   "source": [
    "## 1.2 Configure credential\n",
    "\n",
    "We are using `DefaultAzureCredential` to get access to workspace. \n",
    "`DefaultAzureCredential` should be capable of handling most Azure SDK authentication scenarios. \n",
    "\n",
    "Reference for more available credentials if it does not work for you: [configure credential example](../../configuration.ipynb), [azure-identity reference doc](https://docs.microsoft.com/en-us/python/api/azure-identity/azure.identity?view=azure-python)."
   ]
  },
  {
   "cell_type": "code",
   "execution_count": 3,
   "metadata": {},
   "outputs": [],
   "source": [
    "try:\n",
    "    credential = DefaultAzureCredential()\n",
    "    # Check if given credential can get token successfully.\n",
    "    credential.get_token(\"https://management.azure.com/.default\")\n",
    "except Exception as ex:\n",
    "    # Fall back to InteractiveBrowserCredential in case DefaultAzureCredential not work\n",
    "    credential = InteractiveBrowserCredential()"
   ]
  },
  {
   "cell_type": "markdown",
   "metadata": {},
   "source": [
    "## 1.3 Get a handle to the workspace\n",
    "\n",
    "We use config file to connect to a workspace. The Azure ML workspace should be configured with computer cluster. [Check this notebook for configure a workspace](../../configuration.ipynb)"
   ]
  },
  {
   "cell_type": "code",
   "execution_count": 4,
   "metadata": {},
   "outputs": [
    {
     "name": "stderr",
     "output_type": "stream",
     "text": [
      "Found the config file in: D:\\enlistment\\aml\\promptflow\\prompt-flow\\examples\\.azureml\\config.json\n"
     ]
    }
   ],
   "source": [
    "# Get a handle to workspace\n",
    "ml_client = MLClient.from_config(credential=credential)\n",
    "\n",
    "pf = PFClient(ml_client)\n",
    "\n",
    "runtime = \"demo-mir\"  # TODO replace with your runtime name"
   ]
  },
  {
   "cell_type": "markdown",
   "metadata": {},
   "source": [
    "## 1.4 Create necessary connections\n",
    "Connection helps securely store and manage secret keys or other sensitive credentials required for interacting with LLM and other external tools for example Azure Content Safety.\n",
    "\n",
    "In this notebook, we will use flow `web-classification` which uses connection `azure_open_ai_connection` inside, we need to set up the connection if we haven't added it before.\n",
    "\n",
    "Prepare your Azure Open AI resource follow this [instruction](https://learn.microsoft.com/en-us/azure/cognitive-services/openai/how-to/create-resource?pivots=web-portal) and get your `api_key` if you don't have one.\n",
    "\n",
    "Please go to [workspace portal](https://ml.azure.com/), click `Prompt flow` -> `Connections` -> `Create`, then follow the instruction to create your own connections. \n",
    "Learn more on [connections](https://learn.microsoft.com/en-us/azure/machine-learning/prompt-flow/concept-connections?view=azureml-api-2)."
   ]
  },
  {
   "cell_type": "markdown",
   "metadata": {},
   "source": [
    "## 2. Create a new run\n",
    "\n",
    "`web-classification` is a flow demonstrating multi-class classification with LLM. Given an url, it will classify the url into one web category with just a few shots, simple summarization and classification prompts."
   ]
  },
  {
   "cell_type": "markdown",
   "metadata": {},
   "source": [
    "### Set flow path and input data"
   ]
  },
  {
   "cell_type": "code",
   "execution_count": 5,
   "metadata": {},
   "outputs": [],
   "source": [
    "# load flow\n",
    "flow = \"../../flows/standard/web-classification\"\n",
    "data = \"../../flows/standard/web-classification/data.jsonl\""
   ]
  },
  {
   "attachments": {},
   "cell_type": "markdown",
   "metadata": {},
   "source": [
    "### Submit run"
   ]
  },
  {
   "cell_type": "code",
   "execution_count": 6,
   "metadata": {},
   "outputs": [
    {
     "name": "stderr",
     "output_type": "stream",
     "text": [
      "\u001b[39m\n",
      "\n"
     ]
    },
    {
     "name": "stdout",
     "output_type": "stream",
     "text": [
      "Portal url: https://ml.azure.com/prompts/flow/bulkrun/run/web_classification_default_20230818_174622_330767/details?wsid=/subscriptions/96aede12-2f73-41cb-b983-6d11a904839b/resourceGroups/promptflow/providers/Microsoft.MachineLearningServices/workspaces/promptflow-eastus&flight=promptfilestorage,PFSourceRun=false\n",
      "name: web_classification_default_20230818_174622_330767\n",
      "created_on: '2023-08-18T09:46:37.489886+00:00'\n",
      "status: Running\n",
      "display_name: web_classification_default_20230818_174622_330767\n",
      "description: null\n",
      "tags: {}\n",
      "properties:\n",
      "  azureml.promptflow.runtime_name: demo-mir\n",
      "  azureml.promptflow.runtime_version: 20230808.v1\n",
      "  azureml.promptflow.definition_file_name: flow.dag.yaml\n",
      "  azureml.promptflow.snapshot_id: 773837e6-f837-4ca0-abce-8a1f7e143db2\n",
      "creation_context:\n",
      "  userObjectId: f7e94047-e084-4061-82ce-af31037a9d38\n",
      "  userPuId: 10037FFE8983B2EB\n",
      "  userIdp: null\n",
      "  userAltSecId: null\n",
      "  userIss: https://sts.windows.net/72f988bf-86f1-41af-91ab-2d7cd011db47/\n",
      "  userTenantId: 72f988bf-86f1-41af-91ab-2d7cd011db47\n",
      "  userName: Clement Wang\n",
      "  upn: null\n",
      "start_time: '2023-08-18T09:46:40.769985+00:00'\n",
      "end_time: null\n",
      "duration: null\n",
      "portal_url: https://ml.azure.com/prompts/flow/bulkrun/run/web_classification_default_20230818_174622_330767/details?wsid=/subscriptions/96aede12-2f73-41cb-b983-6d11a904839b/resourceGroups/promptflow/providers/Microsoft.MachineLearningServices/workspaces/promptflow-eastus&flight=promptfilestorage,PFSourceRun=false\n",
      "data: azureml://datastores/workspaceblobstore/paths/LocalUpload/70c38e61b28e21cb9ddcd67dbe209f05/data.jsonl\n",
      "data_portal_url: https://ml.azure.com/data/datastore/workspaceblobstore/edit?wsid=/subscriptions/96aede12-2f73-41cb-b983-6d11a904839b/resourceGroups/promptflow/providers/Microsoft.MachineLearningServices/workspaces/promptflow-eastus&activeFilePath=LocalUpload/70c38e61b28e21cb9ddcd67dbe209f05/data.jsonl#browseTab\n",
      "output: null\n",
      "output_portal_url: null\n",
      "\n"
     ]
    }
   ],
   "source": [
    "# create run\n",
    "base_run = pf.run(\n",
    "    flow=flow,\n",
    "    data=data,\n",
    "    runtime=runtime,\n",
    ")\n",
    "print(base_run)"
   ]
  },
  {
   "cell_type": "code",
   "execution_count": 7,
   "metadata": {},
   "outputs": [
    {
     "data": {
      "text/plain": [
       "<promptflow._sdk.entities._run.Run at 0x1c5649b62b0>"
      ]
     },
     "execution_count": 7,
     "metadata": {},
     "output_type": "execute_result"
    }
   ],
   "source": [
    "pf.stream(base_run)"
   ]
  },
  {
   "cell_type": "code",
   "execution_count": 8,
   "metadata": {},
   "outputs": [
    {
     "ename": "InvalidRunStatusError",
     "evalue": "Run 'web_classification_default_20230818_174622_330767' is not completed, the status is 'Running'. Please wait for its completion, or select other completed run(s).",
     "output_type": "error",
     "traceback": [
      "\u001b[1;31m---------------------------------------------------------------------------\u001b[0m",
      "\u001b[1;31mInvalidRunStatusError\u001b[0m                     Traceback (most recent call last)",
      "Cell \u001b[1;32mIn[8], line 1\u001b[0m\n\u001b[1;32m----> 1\u001b[0m details \u001b[39m=\u001b[39m pf\u001b[39m.\u001b[39;49mget_details(base_run)\n\u001b[0;32m      2\u001b[0m details\u001b[39m.\u001b[39mhead(\u001b[39m10\u001b[39m)\n",
      "File \u001b[1;32md:\\dev\\anaconda\\envs\\pf-examples\\lib\\site-packages\\promptflow\\azure\\_pf_client.py:150\u001b[0m, in \u001b[0;36mPFClient.get_details\u001b[1;34m(self, run)\u001b[0m\n\u001b[0;32m    148\u001b[0m \u001b[39mif\u001b[39;00m \u001b[39misinstance\u001b[39m(run, Run):\n\u001b[0;32m    149\u001b[0m     run \u001b[39m=\u001b[39m run\u001b[39m.\u001b[39mname\n\u001b[1;32m--> 150\u001b[0m \u001b[39mreturn\u001b[39;00m \u001b[39mself\u001b[39;49m\u001b[39m.\u001b[39;49mruns\u001b[39m.\u001b[39;49mget_details(run\u001b[39m=\u001b[39;49mrun)\n",
      "File \u001b[1;32md:\\dev\\anaconda\\envs\\pf-examples\\lib\\site-packages\\promptflow\\azure\\operations\\_run_operations.py:275\u001b[0m, in \u001b[0;36mRunOperations.get_details\u001b[1;34m(self, run, **kwargs)\u001b[0m\n\u001b[0;32m    267\u001b[0m \u001b[39m\u001b[39m\u001b[39m\"\"\"Get the details from the run.\u001b[39;00m\n\u001b[0;32m    268\u001b[0m \n\u001b[0;32m    269\u001b[0m \u001b[39m:param run: The run\u001b[39;00m\n\u001b[1;32m   (...)\u001b[0m\n\u001b[0;32m    272\u001b[0m \u001b[39m:rtype: pandas.DataFrame\u001b[39;00m\n\u001b[0;32m    273\u001b[0m \u001b[39m\"\"\"\u001b[39;00m\n\u001b[0;32m    274\u001b[0m run \u001b[39m=\u001b[39m Run\u001b[39m.\u001b[39m_validate_and_return_run_name(run)\n\u001b[1;32m--> 275\u001b[0m \u001b[39mself\u001b[39;49m\u001b[39m.\u001b[39;49m_check_cloud_run_completed(run_name\u001b[39m=\u001b[39;49mrun)\n\u001b[0;32m    276\u001b[0m child_runs \u001b[39m=\u001b[39m \u001b[39mself\u001b[39m\u001b[39m.\u001b[39m_get_child_runs_from_pfs(run)\n\u001b[0;32m    277\u001b[0m inputs, outputs \u001b[39m=\u001b[39m \u001b[39mself\u001b[39m\u001b[39m.\u001b[39m_get_inputs_outputs_from_child_runs(child_runs)\n",
      "File \u001b[1;32md:\\dev\\anaconda\\envs\\pf-examples\\lib\\site-packages\\promptflow\\azure\\operations\\_run_operations.py:294\u001b[0m, in \u001b[0;36mRunOperations._check_cloud_run_completed\u001b[1;34m(self, run_name)\u001b[0m\n\u001b[0;32m    292\u001b[0m \u001b[39m\u001b[39m\u001b[39m\"\"\"Check if the cloud run is completed.\"\"\"\u001b[39;00m\n\u001b[0;32m    293\u001b[0m run \u001b[39m=\u001b[39m \u001b[39mself\u001b[39m\u001b[39m.\u001b[39mget(run\u001b[39m=\u001b[39mrun_name)\n\u001b[1;32m--> 294\u001b[0m run\u001b[39m.\u001b[39;49m_check_run_status_is_completed()\n",
      "File \u001b[1;32md:\\dev\\anaconda\\envs\\pf-examples\\lib\\site-packages\\promptflow\\_sdk\\entities\\_run.py:430\u001b[0m, in \u001b[0;36mRun._check_run_status_is_completed\u001b[1;34m(self)\u001b[0m\n\u001b[0;32m    428\u001b[0m \u001b[39mif\u001b[39;00m \u001b[39mself\u001b[39m\u001b[39m.\u001b[39mstatus \u001b[39m!=\u001b[39m RunStatus\u001b[39m.\u001b[39mFAILED:\n\u001b[0;32m    429\u001b[0m     error_message \u001b[39m+\u001b[39m\u001b[39m=\u001b[39m \u001b[39m\"\u001b[39m\u001b[39m Please wait for its completion, or select other completed run(s).\u001b[39m\u001b[39m\"\u001b[39m\n\u001b[1;32m--> 430\u001b[0m \u001b[39mraise\u001b[39;00m InvalidRunStatusError(error_message)\n",
      "\u001b[1;31mInvalidRunStatusError\u001b[0m: Run 'web_classification_default_20230818_174622_330767' is not completed, the status is 'Running'. Please wait for its completion, or select other completed run(s)."
     ]
    }
   ],
   "source": [
    "details = pf.get_details(base_run)\n",
    "details.head(10)"
   ]
  },
  {
   "cell_type": "code",
   "execution_count": null,
   "metadata": {},
   "outputs": [],
   "source": [
    "pf.visualize(base_run)"
   ]
  },
  {
   "cell_type": "markdown",
   "metadata": {},
   "source": [
    "## 3. Evaluate your flow run result\n",
    "Then you can use an evaluation method to evaluate your flow. The evaluation methods are also flows which use Python or LLM etc., to calculate metrics like accuracy, relevance score.\n",
    "\n",
    "In this notebook, we use `classification-accuracy-eval` flow to evaluate. This is a flow illustrating how to evaluate the performance of a classification system. It involves comparing each prediction to the groundtruth and assigns a \"Correct\" or \"Incorrect\" grade, and aggregating the results to produce metrics such as accuracy, which reflects how good the system is at classifying the data."
   ]
  },
  {
   "cell_type": "code",
   "execution_count": null,
   "metadata": {},
   "outputs": [],
   "source": [
    "eval_run = pf.run(\n",
    "    flow=\"../../flows/evaluation/classification-accuracy-eval\",\n",
    "    data=data,\n",
    "    run=base_run,\n",
    "    column_mapping={\n",
    "        \"groundtruth\": \"${data.answer}\",\n",
    "        \"prediction\": \"${run.outputs.category}\",\n",
    "    },\n",
    "    runtime=runtime,\n",
    ")"
   ]
  },
  {
   "cell_type": "code",
   "execution_count": null,
   "metadata": {},
   "outputs": [],
   "source": [
    "pf.stream(eval_run)"
   ]
  },
  {
   "cell_type": "code",
   "execution_count": null,
   "metadata": {},
   "outputs": [],
   "source": [
    "details = pf.get_details(eval_run)\n",
    "details.head(10)"
   ]
  },
  {
   "cell_type": "code",
   "execution_count": null,
   "metadata": {},
   "outputs": [],
   "source": [
    "metrics = pf.get_metrics(eval_run)\n",
    "print(json.dumps(metrics, indent=4))"
   ]
  },
  {
   "cell_type": "code",
   "execution_count": null,
   "metadata": {},
   "outputs": [],
   "source": [
    "pf.visualize([base_run, eval_run])"
   ]
  },
  {
   "cell_type": "markdown",
   "metadata": {},
   "source": [
    "### Create another run with different variant node\n",
    "\n",
    "In this example, `web-classification`'s node `summarize_text_content` has two variants: `variant_0` and `variant_1`. The difference between them is the inputs parameters:\n",
    "\n",
    "variant_0:\n",
    "\n",
    "    - inputs:\n",
    "        - deployment_name: gpt-35-turbo\n",
    "        - max_tokens: '128'\n",
    "        - temperature: '0.2'\n",
    "        - text: ${fetch_text_content_from_url.output}\n",
    "\n",
    "variant_1:\n",
    "\n",
    "    - inputs:\n",
    "        - deployment_name: gpt-35-turbo\n",
    "        - max_tokens: '256'\n",
    "        - temperature: '0.3'\n",
    "        - text: ${fetch_text_content_from_url.output}\n",
    "\n",
    "\n",
    "You can check the whole flow definition at [flow.dag.yaml](../../flows/standard/web-classification/flow.dag.yaml)"
   ]
  },
  {
   "cell_type": "code",
   "execution_count": null,
   "metadata": {},
   "outputs": [],
   "source": [
    "# use the variant1 of the summarize_text_content node.\n",
    "variant_run = pf.run(\n",
    "    flow=flow,\n",
    "    data=data,\n",
    "    variant=\"${summarize_text_content.variant_1}\",  # here we specify node \"summarize_text_content\" to use variant 1 version.\n",
    "    runtime=runtime,\n",
    ")"
   ]
  },
  {
   "cell_type": "code",
   "execution_count": null,
   "metadata": {},
   "outputs": [],
   "source": [
    "pf.stream(variant_run)"
   ]
  },
  {
   "cell_type": "code",
   "execution_count": null,
   "metadata": {},
   "outputs": [],
   "source": [
    "details = pf.get_details(variant_run)\n",
    "details.head(10)"
   ]
  },
  {
   "cell_type": "markdown",
   "metadata": {},
   "source": [
    "### Run evaluation against variant run"
   ]
  },
  {
   "cell_type": "code",
   "execution_count": null,
   "metadata": {},
   "outputs": [],
   "source": [
    "eval_flow = \"../../flows/evaluation/classification-accuracy-eval\"\n",
    "\n",
    "eval_run_variant = pf.run(\n",
    "    flow=eval_flow,\n",
    "    data=\"../../flows/standard/web-classification/data.jsonl\",  # path to the data file\n",
    "    run=variant_run,  # use run as the variant\n",
    "    column_mapping={\n",
    "        # reference data\n",
    "        \"groundtruth\": \"${data.answer}\",\n",
    "        # reference the run's output\n",
    "        \"prediction\": \"${run.outputs.category}\",\n",
    "    },\n",
    "    runtime=runtime,\n",
    ")"
   ]
  },
  {
   "cell_type": "code",
   "execution_count": null,
   "metadata": {},
   "outputs": [],
   "source": [
    "pf.stream(eval_run_variant)"
   ]
  },
  {
   "cell_type": "code",
   "execution_count": null,
   "metadata": {},
   "outputs": [],
   "source": [
    "details = pf.get_details(eval_run_variant)\n",
    "details.head(10)"
   ]
  },
  {
   "cell_type": "code",
   "execution_count": null,
   "metadata": {},
   "outputs": [],
   "source": [
    "metrics = pf.get_metrics(eval_run_variant)\n",
    "print(json.dumps(metrics, indent=4))"
   ]
  },
  {
   "cell_type": "code",
   "execution_count": null,
   "metadata": {},
   "outputs": [],
   "source": [
    "pf.visualize([eval_run, eval_run_variant])"
   ]
  },
  {
   "cell_type": "markdown",
   "metadata": {},
   "source": [
    "# Next Steps\n",
    "\n",
    "Learn more on how to:\n",
    "- run the flow as a component in a azureml pipeline: [flow in pipeline](../flow-in-pipeline/pipeline.ipynb)."
   ]
  }
 ],
 "metadata": {
  "description": "A quickstart tutorial to run a flow in Azure AI and evaluate it.",
  "kernelspec": {
   "display_name": "promptflow",
   "language": "python",
   "name": "python3"
  },
  "language_info": {
   "codemirror_mode": {
    "name": "ipython",
    "version": 3
   },
   "file_extension": ".py",
   "mimetype": "text/x-python",
   "name": "python",
   "nbconvert_exporter": "python",
   "pygments_lexer": "ipython3",
   "version": "3.9.17"
  }
 },
 "nbformat": 4,
 "nbformat_minor": 2
}
