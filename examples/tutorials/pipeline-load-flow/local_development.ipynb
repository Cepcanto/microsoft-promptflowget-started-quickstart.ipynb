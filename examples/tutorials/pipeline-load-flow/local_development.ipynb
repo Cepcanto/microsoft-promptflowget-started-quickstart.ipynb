{
 "cells": [
  {
   "attachments": {},
   "cell_type": "markdown",
   "metadata": {},
   "source": [
    "# Flow development lifecycle\n",
    "\n",
    "**Goal** - This is a sample notebook to show how to development a prompt-flow then use it in a pipeline like a component. \n",
    "Please note the function is not fully ready. Currently it's just to show the E2E user experience."
   ]
  },
  {
   "attachments": {},
   "cell_type": "markdown",
   "metadata": {},
   "source": [
    "## 0. Learn prompt-flow knowledge and prepare environment through this\n",
    "\n",
    "Please follow [doc site](https://promptflow.azurewebsites.net/index.html) to learn the concepts and samples of prompt flow."
   ]
  },
  {
   "attachments": {},
   "cell_type": "markdown",
   "metadata": {},
   "source": [
    "## Flow Development Opetion 1: Debug locally\n",
    "You can author the promptflow and debug/run it locally."
   ]
  },
  {
   "attachments": {},
   "cell_type": "markdown",
   "metadata": {},
   "source": [
    "Flow local test and batch run in SDK:"
   ]
  },
  {
   "cell_type": "code",
   "execution_count": null,
   "metadata": {},
   "outputs": [],
   "source": [
    "import json\n",
    "from promptflow import PFClient\n",
    "\n",
    "# client can help manage your runs and connections.\n",
    "pf = PFClient()\n",
    "\n",
    "flow = \"../../flows/standard/standard-flow\"  # path to the flow directory\n",
    "\n",
    "flow_inputs =   {\n",
    "    \"text\": \"Hello World!\"\n",
    "  }\n",
    "\n",
    "flow_result = pf.test(flow=flow, inputs=flow_inputs)\n",
    "\n",
    "print(f\"Flow result: {flow_result}\")\n",
    "\n",
    "batch_run_inputs = \"../../flows/standard/standard-flow/data.jsonl\"\n",
    "\n",
    "batch_run = pf.run(\n",
    "    flow=flow, \n",
    "    data = batch_run_inputs, \n",
    "    inputs=batch_run_inputs, \n",
    "    column_mapping={\n",
    "        \"text\": \"${data.text}\",\n",
    "    },  \n",
    "    stream=True,\n",
    ")\n",
    "\n",
    "#pf.visualize(batch_run)\n",
    "\n"
   ]
  },
  {
   "attachments": {},
   "cell_type": "markdown",
   "metadata": {},
   "source": [
    "Flow local test and batch run in CLI:"
   ]
  },
  {
   "cell_type": "code",
   "execution_count": null,
   "metadata": {},
   "outputs": [],
   "source": [
    "# test with one line input\n",
    "!pf flow test --flow ../../flows/standard/standard-flow --inputs text=\"Hello CLI!\"\n",
    "\n",
    "# batch run with jsonl file locally\n",
    "!pf run create --flow ../../flows/standard/standard-flow --data ../../flows/standard/standard-flow/data.jsonl  --stream"
   ]
  },
  {
   "attachments": {},
   "cell_type": "markdown",
   "metadata": {},
   "source": [
    "## Flow Development Option 2: Debug in eyes-on environment\n",
    "Once the local debug is done, or you need to test the flow with data/connection in cloud, You can submit the run to eyes-on environment."
   ]
  },
  {
   "cell_type": "code",
   "execution_count": null,
   "metadata": {},
   "outputs": [],
   "source": [
    "# Import required libraries\n",
    "from azure.identity import DefaultAzureCredential, InteractiveBrowserCredential\n",
    "\n",
    "from azure.ai.ml import MLClient, Input\n",
    "from azure.ai.ml.constants import AssetTypes\n",
    "from azure.ai.ml.dsl import pipeline\n",
    "from azure.ai.ml import load_component\n",
    "from promptflow.azure import PFClient\n",
    "\n",
    "try:\n",
    "    credential = DefaultAzureCredential()\n",
    "    # Check if given credential can get token successfully.\n",
    "    credential.get_token(\"https://management.azure.com/.default\")\n",
    "except Exception as ex:\n",
    "    # Fall back to InteractiveBrowserCredential in case DefaultAzureCredential not work\n",
    "    credential = InteractiveBrowserCredential()\n",
    "\n",
    "# Get a handle to workspace\n",
    "ml_client = MLClient.from_config(credential=credential)\n",
    "\n",
    "# Create PFClient connected to workspace\n",
    "pf = PFClient(ml_client)\n",
    "\n",
    "flow = \"../../flows/standard/standard-flow\" \n",
    "batch_run_inputs = \"../../flows/standard/standard-flow/data.jsonl\"\n",
    "runtime= \"[SomeRuntimeName]\"\n",
    "batch_run = pf.run(flow=flow,data=batch_run_inputs,runtime=runtime)\n",
    "print(batch_run)"
   ]
  },
  {
   "attachments": {},
   "cell_type": "markdown",
   "metadata": {},
   "source": [
    "run in CLI:"
   ]
  },
  {
   "cell_type": "code",
   "execution_count": null,
   "metadata": {},
   "outputs": [],
   "source": [
    "!pfazure run create --flow ../../flows/standard/standard-flow --data ../../flows/standard/standard-flow/data.jsonl --runtime SomeRuntimeName"
   ]
  },
  {
   "attachments": {},
   "cell_type": "markdown",
   "metadata": {},
   "source": [
    "## Use the flow in a pipeline\n",
    "\n",
    "Then you can use the tested flow along with other components in a pipeline seamless:"
   ]
  },
  {
   "cell_type": "code",
   "execution_count": null,
   "metadata": {},
   "outputs": [],
   "source": [
    "from azure.ai.ml import load_component \n",
    "from azure.ai.ml import dsl \n",
    " \n",
    "flow_component = load_component(\"../../flows/standard/standard-flow/flow.dag.yaml\") \n",
    " \n",
    "@dsl.pipeline \n",
    "def pipeline_with_flow(job_input): \n",
    "    # you can use it as an anonymous component in dsl component directly \n",
    "    flow_node = flow_component(data=job_input) \n",
    "    flow_node.compute = \"cpu-cluster\" \n",
    "    flow_node.logging_level = \"DEBUG\" \n",
    "    return {\"job_output\": flow_node.outputs.flow_outputs} \n",
    " \n",
    "pipeline_job = pipeline_with_flow(job_input=Input(path=\"../../flows/standard/standard-flow/data.jsonl\")) \n",
    "ml_client.jobs.create_or_update(pipeline_job) \n",
    "\n",
    "created_job = ml_client.jobs.create_or_update(pipeline)"
   ]
  },
  {
   "attachments": {},
   "cell_type": "markdown",
   "metadata": {},
   "source": [
    "Register component to workspace"
   ]
  },
  {
   "cell_type": "code",
   "execution_count": null,
   "metadata": {},
   "outputs": [],
   "source": [
    "# you can also register this component with specific name & version \n",
    "# if name is not found in source files, it must be set before registration and will be validated \n",
    "flow_component.name = \"basic-standard-flow\" \n",
    "# version must be provided in registration \n",
    "ml_client.components.create_or_update(flow_component, version=\"2\") \n"
   ]
  }
 ],
 "metadata": {
  "kernelspec": {
   "display_name": "venv",
   "language": "python",
   "name": "python3"
  },
  "language_info": {
   "codemirror_mode": {
    "name": "ipython",
    "version": 3
   },
   "file_extension": ".py",
   "mimetype": "text/x-python",
   "name": "python",
   "nbconvert_exporter": "python",
   "pygments_lexer": "ipython3",
   "version": "3.9.17"
  }
 },
 "nbformat": 4,
 "nbformat_minor": 2
}
