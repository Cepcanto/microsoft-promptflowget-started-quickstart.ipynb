{
 "cells": [
  {
   "cell_type": "markdown",
   "metadata": {},
   "source": [
    "# Cloud Run Management\n",
    "- create run with remote data\n",
    "- manage runs via run.yaml\n",
    "- serverless runtime"
   ]
  },
  {
   "cell_type": "markdown",
   "metadata": {},
   "source": [
    "## Create run with remote data\n",
    "\n",
    "### Configure ml_client"
   ]
  },
  {
   "cell_type": "code",
   "execution_count": 2,
   "metadata": {},
   "outputs": [
    {
     "name": "stderr",
     "output_type": "stream",
     "text": [
      "Found the config file in: D:\\code\\prompt-flow\\config.json\n"
     ]
    },
    {
     "name": "stdout",
     "output_type": "stream",
     "text": [
      "MLClient(credential=<azure.identity._credentials.default.DefaultAzureCredential object at 0x0000018F40ED67C0>,\n",
      "         subscription_id=96aede12-2f73-41cb-b983-6d11a904839b,\n",
      "         resource_group_name=promptflow,\n",
      "         workspace_name=promptflow-eastus)\n"
     ]
    }
   ],
   "source": [
    "from azure.ai.ml import MLClient\n",
    "from azure.identity import DefaultAzureCredential, InteractiveBrowserCredential\n",
    "\n",
    "try:\n",
    "    credential = DefaultAzureCredential()\n",
    "    # Check if given credential can get token successfully.\n",
    "    credential.get_token(\"https://management.azure.com/.default\")\n",
    "except Exception as ex:\n",
    "    # Fall back to InteractiveBrowserCredential in case DefaultAzureCredential not work\n",
    "    # This will open a browser page for\n",
    "    credential = InteractiveBrowserCredential()\n",
    "\n",
    "try:\n",
    "    ml_client = MLClient.from_config(credential=credential)\n",
    "except Exception as ex:\n",
    "    # NOTE: Update following workspace information if not correctly configure before\n",
    "    client_config = {\n",
    "        \"subscription_id\": \"<SUBSCRIPTION_ID>\",\n",
    "        \"resource_group\": \"<RESOURCE_GROUP>\",\n",
    "        \"workspace_name\": \"<AML_WORKSPACE_NAME>\",\n",
    "    }\n",
    "\n",
    "    if client_config[\"subscription_id\"].startswith(\"<\"):\n",
    "        print(\n",
    "            \"please update your <SUBSCRIPTION_ID> <RESOURCE_GROUP> <AML_WORKSPACE_NAME> in notebook cell\"\n",
    "        )\n",
    "        raise ex\n",
    "    else:  # write and reload from config file\n",
    "        import json, os\n",
    "\n",
    "        config_path = \"../.azureml/config.json\"\n",
    "        os.makedirs(os.path.dirname(config_path), exist_ok=True)\n",
    "        with open(config_path, \"w\") as fo:\n",
    "            fo.write(json.dumps(client_config))\n",
    "        ml_client = MLClient.from_config(credential=credential, path=config_path)\n",
    "print(ml_client)"
   ]
  },
  {
   "cell_type": "markdown",
   "metadata": {},
   "source": [
    "### Create or update remote data"
   ]
  },
  {
   "cell_type": "code",
   "execution_count": 4,
   "metadata": {},
   "outputs": [],
   "source": [
    "from azure.ai.ml.entities import Data\n",
    "from azure.core.exceptions import ResourceNotFoundError\n",
    "\n",
    "data_name, data_version = \"flow_run_test_data\", \"1\"\n",
    "\n",
    "try:\n",
    "    data = ml_client.data.get(name=data_name, version=data_version)\n",
    "except ResourceNotFoundError:\n",
    "    data = Data(name=data_name, version=data_version, path=f\"../../flows/standard/web-classification/data.jsonl\", type=\"uri_file\")\n",
    "    data = ml_client.data.create_or_update(data)"
   ]
  },
  {
   "cell_type": "markdown",
   "metadata": {},
   "source": [
    "### Prepare remote data id"
   ]
  },
  {
   "cell_type": "code",
   "execution_count": 5,
   "metadata": {},
   "outputs": [
    {
     "name": "stdout",
     "output_type": "stream",
     "text": [
      "azureml:flow_run_test_data:1\n"
     ]
    }
   ],
   "source": [
    "data_id = f\"azureml:{data.name}:{data.version}\"\n",
    "print(data_id)"
   ]
  },
  {
   "cell_type": "markdown",
   "metadata": {},
   "source": [
    "### Create a flow run with remote data"
   ]
  },
  {
   "cell_type": "code",
   "execution_count": 7,
   "metadata": {},
   "outputs": [
    {
     "name": "stdout",
     "output_type": "stream",
     "text": [
      "Portal url: https://int.ml.azure.com/prompts/flow/bulkrun/run/web_classification_default_20230728_174553_495007/details?wsid=/subscriptions/96aede12-2f73-41cb-b983-6d11a904839b/resourceGroups/promptflow/providers/Microsoft.MachineLearningServices/workspaces/promptflow-eastus&flight=promptfilestorage,PFSourceRun=false\n"
     ]
    }
   ],
   "source": [
    "import promptflow.azure as pf\n",
    "\n",
    "# configure global setting pointing to workspace ml_client\n",
    "pf.configure(ml_client)\n",
    "\n",
    "# create run\n",
    "base_run = pf.run(\n",
    "    # local flow file\n",
    "    flow=\"../../flows/standard/web-classification\",\n",
    "    # remote data\n",
    "    data=data_id,\n",
    "    runtime=\"demo-mir\",\n",
    ")"
   ]
  },
  {
   "cell_type": "markdown",
   "metadata": {},
   "source": [
    "### Stream the flow run to make sure it runs successfully"
   ]
  },
  {
   "cell_type": "code",
   "execution_count": 11,
   "metadata": {},
   "outputs": [
    {
     "name": "stdout",
     "output_type": "stream",
     "text": [
      "2023-07-28 09:46:07 +0000     214 promptflow-runtime INFO     [web_classification_default_20230728_174553_495007] Receiving v2 bulk run request a516ac28-05af-4f49-b3c6-65af0e0d9ac0: {\"flow_id\": \"web_classification_default_20230728_174553_495007\", \"flow_run_id\": \"web_classification_default_20230728_174553_495007\", \"flow_source\": {\"flow_source_type\": 1, \"flow_source_info\": {\"snapshot_id\": \"c0b539cd-5975-4c2e-91f5-ce48028e5775\"}, \"flow_dag_file\": \"flow.dag.yaml\"}, \"connections\": \"**data_scrubbed**\", \"log_path\": \"https://promptfloweast4063704120.blob.core.windows.net/azureml/PromptflowLogs/web_classification_default_20230728_174553_495007.txt?sv=2021-10-04&se=2023-08-04T09%3A46%3A06Z&sr=b&sp=rw&sig=**data_scrubbed** \"app_insights_instrumentation_key\": \"InstrumentationKey=**data_scrubbed**;IngestionEndpoint=https://eastus-6.in.applicationinsights.azure.com/;LiveEndpoint=https://eastus.livediagnostics.monitor.azure.com/\", \"data_inputs\": {\"data\": \"azureml:/subscriptions/96aede12-2f73-41cb-b983-6d11a904839b/resourceGroups/promptflow/providers/Microsoft.MachineLearningServices/workspaces/promptflow-eastus/3e123da1-f9a5-4c91-9234-8d9ffbb39ff5/flow_run_test_data/versions/1\"}, \"azure_storage_setting\": {\"azure_storage_mode\": 1, \"storage_account_name\": \"promptfloweast4063704120\", \"blob_container_name\": \"azureml-blobstore-3e123da1-f9a5-4c91-9234-8d9ffbb39ff5\", \"flow_artifacts_root_path\": \"promptflow/PromptFlowArtifacts/web_classification_default_20230728_174553_495007\", \"blob_container_sas_token\": \"?sv=2019-07-07&sr=c&sig=**data_scrubbed**&skoid=55b92eba-d7c7-4afd-ab76-7bb1cd345283&sktid=72f988bf-86f1-41af-91ab-2d7cd011db47&skt=2023-07-28T09%3A46%3A07Z&ske=2023-08-04T09%3A46%3A07Z&sks=b&skv=2019-07-07&se=2023-08-04T09%3A46%3A07Z&sp=racwl\", \"output_datastore_name\": \"workspaceblobstore\"}}\n",
      "2023-07-28 09:46:07 +0000     214 promptflow-runtime INFO     Starting to check process 97369 status for run web_classification_default_20230728_174553_495007\n",
      "2023-07-28 09:46:07 +0000     214 promptflow-runtime INFO     Start checking run status for bulk run web_classification_default_20230728_174553_495007\n",
      "2023-07-28 09:46:07 +0000   97369 promptflow-runtime INFO     [214--97369] Start processing flowV2......\n",
      "2023-07-28 09:46:08 +0000     214 promptflow-runtime INFO     Running <function start_thread_to_monitor_request_V2_handler_process.<locals>.get_storage_from_config_with_retry at 0x7f8db8d55ca0>, 3 more tries to go.\n",
      "2023-07-28 09:46:08 +0000   97369 promptflow-runtime INFO     Setting mlflow tracking uri...\n",
      "2023-07-28 09:46:08 +0000     214 promptflow-runtime INFO     Start checking run status for run web_classification_default_20230728_174553_495007\n",
      "2023-07-28 09:46:08 +0000   97369 promptflow-runtime INFO     Validating 'AzureML Data Scientist' user authentication...\n",
      "2023-07-28 09:46:08 +0000   97369 promptflow-runtime INFO     Successfully validated 'AzureML Data Scientist' user authentication.\n",
      "2023-07-28 09:46:08 +0000   97369 promptflow-runtime INFO     Using AzureMLRunStorageV2\n",
      "2023-07-28 09:46:08 +0000   97369 promptflow-runtime INFO     Setting mlflow tracking uri to 'azureml://eastus.api.azureml.ms/mlflow/v1.0/subscriptions/96aede12-2f73-41cb-b983-6d11a904839b/resourceGroups/promptflow/providers/Microsoft.MachineLearningServices/workspaces/promptflow-eastus'\n",
      "2023-07-28 09:46:08 +0000   97369 promptflow-runtime INFO     Initialized blob service client for AzureMLRunTracker.\n",
      "2023-07-28 09:46:08 +0000   97369 promptflow-runtime INFO     Flow run is not terminated, skip persisting flow run record.\n",
      "2023-07-28 09:46:08 +0000   97369 promptflow-runtime INFO     Starting the aml run 'web_classification_default_20230728_174553_495007'...\n",
      "2023-07-28 09:46:08 +0000   97369 promptflow-runtime INFO     Running <function SnapshotsClient.download_snapshot at 0x7f8db8c57310>, 3 more tries to go.\n",
      "2023-07-28 09:46:08 +0000   97369 promptflow-runtime INFO     Get snapshot sas url for c0b539cd-5975-4c2e-91f5-ce48028e5775...\n",
      "2023-07-28 09:46:15 +0000   97369 promptflow-runtime INFO     Downloading snapshot c0b539cd-5975-4c2e-91f5-ce48028e5775 from uri https://promptfloweast4063704120.blob.core.windows.net/snapshotzips/promptflow-eastus:3e123da1-f9a5-4c91-9234-8d9ffbb39ff5:snapshotzip/c0b539cd-5975-4c2e-91f5-ce48028e5775.zip...\n",
      "2023-07-28 09:46:15 +0000   97369 promptflow-runtime INFO     Downloaded file requests/web_classification_default_20230728_174553_495007/c0b539cd-5975-4c2e-91f5-ce48028e5775.zip with size 6911 for snapshot c0b539cd-5975-4c2e-91f5-ce48028e5775.\n",
      "2023-07-28 09:46:15 +0000   97369 promptflow-runtime INFO     Downloade snapshot c0b539cd-5975-4c2e-91f5-ce48028e5775 completed.\n",
      "2023-07-28 09:46:16 +0000   97369 promptflow-runtime INFO     Resolve data from url finished in 0.7554148619965417 seconds\n",
      "2023-07-28 09:46:16 +0000   97369 promptflow-runtime INFO     Flow run is not terminated, skip persisting flow run record.\n",
      "2023-07-28 09:46:16 +0000   97369 promptflow-runtime INFO     Flow run is not terminated, skip persisting flow run record.\n",
      "2023-07-28 09:46:16 +0000   97369 promptflow-runtime INFO     Flow run is not terminated, skip persisting flow run record.\n",
      "2023-07-28 09:46:19 +0000   97369 execution.bulk     INFO     Finished 1 / 3 lines.\n",
      "2023-07-28 09:46:20 +0000   97369 execution.bulk     INFO     Finished 2 / 3 lines.\n",
      "2023-07-28 09:46:20 +0000   97369 execution.bulk     INFO     Finished 3 / 3 lines.\n",
      "2023-07-28 09:46:20 +0000   97369 promptflow-runtime INFO     Successfully write run properties {\"azureml.promptflow.total_tokens\": 3557} with run id 'web_classification_default_20230728_174553_495007'\n",
      "2023-07-28 09:46:20 +0000   97369 execution.bulk     INFO     Upload RH properties for run web_classification_default_20230728_174553_495007 finished in 0.07306027099548373 seconds\n",
      "2023-07-28 09:46:20 +0000   97369 promptflow-runtime INFO     Running <function AssetClient.create_unregistered_output at 0x7f8db8d55f70>, 3 more tries to go.\n",
      "2023-07-28 09:46:20 +0000   97369 promptflow-runtime INFO     Creating unregistered output Asset for Run web_classification_default_20230728_174553_495007...\n",
      "2023-07-28 09:46:20 +0000   97369 promptflow-runtime INFO     Created output Asset: azureml://locations/eastus/workspaces/3e123da1-f9a5-4c91-9234-8d9ffbb39ff5/data/azureml_web_classification_default_20230728_174553_495007_output_data_flow_outputs/versions/1\n",
      "2023-07-28 09:46:20 +0000   97369 promptflow-runtime INFO     Running <function RunHistoryClient.patch_run at 0x7f8db8d55790>, 3 more tries to go.\n",
      "2023-07-28 09:46:20 +0000   97369 promptflow-runtime INFO     Patching web_classification_default_20230728_174553_495007...\n",
      "2023-07-28 09:46:20 +0000   97369 promptflow-runtime INFO     Ending the aml run 'web_classification_default_20230728_174553_495007' with status 'Completed'...\n",
      "2023-07-28 09:46:21 +0000     214 promptflow-runtime INFO     Process 97369 finished\n",
      "2023-07-28 09:46:21 +0000     214 promptflow-runtime INFO     [214] Child process finished!\n",
      "2023-07-28 09:46:21 +0000     214 promptflow-runtime INFO     [web_classification_default_20230728_174553_495007] End processing bulk run\n",
      "2023-07-28 09:46:28 +0000     214 promptflow-runtime INFO     Running <function start_thread_to_monitor_request_V2_handler_process.<locals>.get_run_status_with_retry at 0x7f8db8d55040>, 3 more tries to go.\n",
      "2023-07-28 09:46:28 +0000     214 promptflow-runtime INFO     Run web_classification_default_20230728_174553_495007 is in progress, Execution status: Completed\n",
      "======= Run Summary =======\n",
      "Run name: \"web_classification_default_20230728_174553_495007\"\n",
      "Run status: \"Completed\"\n",
      "Start time: \"2023-07-28 09:46:08.770955+00:00\"\n",
      "Duration: \"0:00:12.183891\"\n",
      "Run url: \"https://int.ml.azure.com/prompts/flow/bulkrun/run/web_classification_default_20230728_174553_495007/details?wsid=/subscriptions/96aede12-2f73-41cb-b983-6d11a904839b/resourceGroups/promptflow/providers/Microsoft.MachineLearningServices/workspaces/promptflow-eastus&flight=promptfilestorage,PFSourceRun=false\""
     ]
    }
   ],
   "source": [
    "from promptflow.azure import PFClient\n",
    "\n",
    "pf_client = PFClient(ml_client)\n",
    "pf_client.runs.stream(base_run)"
   ]
  }
 ],
 "metadata": {
  "kernelspec": {
   "display_name": "github_v2",
   "language": "python",
   "name": "python3"
  },
  "language_info": {
   "codemirror_mode": {
    "name": "ipython",
    "version": 3
   },
   "file_extension": ".py",
   "mimetype": "text/x-python",
   "name": "python",
   "nbconvert_exporter": "python",
   "pygments_lexer": "ipython3",
   "version": "3.8.13"
  },
  "orig_nbformat": 4
 },
 "nbformat": 4,
 "nbformat_minor": 2
}
