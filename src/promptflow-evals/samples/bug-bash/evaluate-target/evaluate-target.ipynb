{
 "cells": [
  {
   "cell_type": "markdown",
   "id": "2e932e4c-5d55-461e-a313-3a087d8983b5",
   "metadata": {},
   "source": [
    "# Standard evaluators and target functions.\n",
    "In this notebook we will demonstrate how to use the target functions with the standard evaluators."
   ]
  },
  {
   "cell_type": "code",
   "execution_count": 1,
   "id": "257fd898-7ef2-4d89-872e-da9e426aaf0b",
   "metadata": {},
   "outputs": [],
   "source": [
    "import inspect\n",
    "import json\n",
    "import pandas as pd\n",
    "import os\n",
    "\n",
    "from pprint import pprint\n",
    "from promptflow.core import AzureOpenAIModelConfiguration\n",
    "from promptflow.evals.evaluate import evaluate\n",
    "from promptflow.evals.evaluators import F1ScoreEvaluator, RelevanceEvaluator"
   ]
  },
  {
   "cell_type": "markdown",
   "id": "8352b517-70b0-4f4f-a3ad-bc99eae67b2e",
   "metadata": {},
   "source": [
    "## Target function\n",
    "We will use a simple `Ask Wiki` application to get answers to questions from wikipedia. We will use `evaluate` API to evaluate `Ask Wiki` applicaton\n",
    "\n",
    "`Ask Wiki` needs following environment variables to be set\n",
    "\n",
    "- AZURE_OPENAI_API_KEY\n",
    "- AZURE_OPENAI_API_VERSION\n",
    "- AZURE_OPENAI_DEPLOYMENT\n",
    "- AZURE_OPENAI_ENDPOINT"
   ]
  },
  {
   "cell_type": "code",
   "execution_count": 2,
   "id": "fbfc3a3b",
   "metadata": {},
   "outputs": [],
   "source": [
    "# Use the following code to set the environment variables if not already set. If set, you can skip this step.\n",
    "\n",
    "os.environ[\"AZURE_OPENAI_API_KEY\"] = \"<api_key>\"\n",
    "os.environ[\"AZURE_OPENAI_API_VERSION\"] = \"<api_version>\"\n",
    "os.environ[\"AZURE_OPENAI_DEPLOYMENT\"] = \"<deployment>\"\n",
    "os.environ[\"AZURE_OPENAI_ENDPOINT\"] = \"<endpoint>\""
   ]
  },
  {
   "cell_type": "code",
   "execution_count": 3,
   "id": "cd9bb466-324f-42ce-924a-56e1bc52471e",
   "metadata": {},
   "outputs": [
    {
     "data": {
      "text/plain": [
       "{'answer': 'The capital of India is New Delhi.',\n",
       " 'context': 'Content: Capital punishment in India is a legal penalty for some crimes under the country\\'s main substantive penal legislation, the Indian Penal Code, as well as other laws. Executions are carried out by hanging as the primary method of execution per Section 354(5) of the Criminal Code of Procedure, 1973 is \"Hanging by the neck until dead\", and is imposed only in the \\'rarest of cases\\'.[1][2]. Currently, there are around 539 [3] prisoners on death row in India. The most recent executions in India took place in March 2020, when four of the 2012 Delhi gang rape and murder perpetrators were executed at the Tihar Jail in Delhi.[4]. In the Code of Criminal Procedure (CrPC), 1898 death was the default punishment for murder and required the concerned judges to give reasons in their judgment if they wanted to give life imprisonment instead.[5] By an amendment to the CrPC in 1955, the requirement of written reasons for not imposing the death penalty was removed, reflecting no legislative preference between the two punishments. In 1973, when the CrPC was amended further, life imprisonment became the norm and the death penalty was to be imposed only in exceptional cases, particularly if a heinous crime committed deems the perpetrator too dangerous to even be \\'considered\\' for paroled release into society after 20 years (life imprisonment without parole does not exist in India since it is too expensive to freely feed and house dangerous criminals all their lives, and eliminating the possibility of parole after a life sentence removes the positive and rehabilitative incentive to improve behaviour; all criminals sentenced to life imprisonment in India are automatically eligible for parole after serving 20 years, as per IPC 57), and required \\'special reasons\\'.[2] This significant change indicated a desire to limit the imposition of the death penalty in India. The CrPC, 1973 also bifurcated a criminal trial into two stages with separate hearings, one for conviction and another for sentencing.[6]. After the completion of proceedings as prescribed by the Code of Criminal Procedure, the judge pronounces the judgment in a case under Section 235.[30] In case of conviction of the accused, there shall be a mandatory pre-sentencing hearing as according to Section 235(2),[30] Code of Criminal Procedure. The Code of Criminal Procedure, 1973, also contains a provision regarding special reason for death sentence. Section 354(3) of the Code provides that the court must record \"Special reasons\" justifying the sentence and state as to why an alternative sentence would not meet the ends of justice in the case, according to the principle \\'Life imprisonment is the rule and death sentence is the exception\\'.[31].\\n\\nContent: Delhi,[a] officially the National Capital Territory (NCT) of Delhi, is a city and a union territory of India containing New Delhi, the capital of India. Lying on both sides of the Yamuna river, but chiefly to the west, or beyond its right bank, Delhi shares borders with the state of Uttar Pradesh in the east and with the state of Haryana in the remaining directions. Delhi became a union territory on 1 November 1956 and the NCT in 1995.[21] The NCT covers an area of 1,484 square kilometres (573\\xa0sq\\xa0mi).[5] According to the 2011 census, Delhi\\'s city proper population was over 11\\xa0million,[6][22] while the NCT\\'s population was about 16.8\\xa0million.[7]. Delhi\\'s urban agglomeration, which includes the satellite cities Ghaziabad, Faridabad, Gurgaon, Noida, Greater Noida and YEIDA city located in an area known as the National Capital Region (NCR), has an estimated population of over 28\\xa0million, making it the largest metropolitan area in India and the second-largest in the world (after Tokyo).[8]. The topography of the medieval fort Purana Qila on the banks of the river Yamuna matches the literary description of the citadel Indraprastha in the Sanskrit epic Mahabharata; however, excavations in the area have revealed no signs of an ancient built environment. From the early 13th century until the mid-19th century, Delhi was the capital of two major empires, the Delhi Sultanate and the Mughal Empire, which covered large parts of South Asia. All three UNESCO World Heritage Sites in the city, the Qutub Minar, Humayun\\'s Tomb, and the Red Fort, belong to this period. Delhi was the early centre of Sufism and Qawwali music. The names of Nizamuddin Auliya and Amir Khusrau are prominently associated with it. The Khariboli dialect of Delhi was part of a linguistic development that gave rise to the literature of Urdu and later Modern Standard Hindi.'}"
      ]
     },
     "execution_count": 3,
     "metadata": {},
     "output_type": "execute_result"
    }
   ],
   "source": [
    "from askwiki.askwiki import ask_wiki\n",
    "\n",
    "ask_wiki(\"What is the capital of India?\")\n"
   ]
  },
  {
   "cell_type": "markdown",
   "id": "0641385d-12d8-4ec2-b477-3b1aeed6e86c",
   "metadata": {},
   "source": [
    "## Data\n",
    "Reading existing dataset which has bunch of questions we can Ask Wiki"
   ]
  },
  {
   "cell_type": "code",
   "execution_count": 4,
   "id": "b47e777f-3889-49c2-bc53-25488dade7dc",
   "metadata": {},
   "outputs": [
    {
     "name": "stdout",
     "output_type": "stream",
     "text": [
      "                                      question   ground_truth\n",
      "0               When was United Stated found ?           1776\n",
      "1               What is the capital of France?          Paris\n",
      "2  Who is the best tennis player of all time ?  Roger Federer\n"
     ]
    }
   ],
   "source": [
    "df = pd.read_json('data/data.jsonl', lines=True)\n",
    "print(df.head())"
   ]
  },
  {
   "cell_type": "markdown",
   "id": "98713968-1307-4045-87cc-fd4ac1f70009",
   "metadata": {},
   "source": [
    "## Configuration\n",
    "To use Relevance Evaluator, we will Azure Open AI model details that can be passed as model config.\n"
   ]
  },
  {
   "cell_type": "code",
   "execution_count": 5,
   "id": "58f76d0c-2d44-44e0-8296-110477c7e559",
   "metadata": {},
   "outputs": [],
   "source": [
    "configuration = AzureOpenAIModelConfiguration(\n",
    "    azure_endpoint=os.environ[\"AZURE_OPENAI_ENDPOINT\"] ,\n",
    "    api_key=os.environ[\"AZURE_OPENAI_API_KEY\"],\n",
    "    api_version=os.environ[\"AZURE_OPENAI_API_VERSION\"],\n",
    "    azure_deployment=os.environ[\"AZURE_OPENAI_DEPLOYMENT\"],\n",
    ")"
   ]
  },
  {
   "cell_type": "markdown",
   "id": "44181407",
   "metadata": {},
   "source": [
    "## Running Relevance Evaluator to understand its input and output"
   ]
  },
  {
   "cell_type": "code",
   "execution_count": 6,
   "id": "f6f56605",
   "metadata": {},
   "outputs": [
    {
     "name": "stderr",
     "output_type": "stream",
     "text": [
      "[2024-05-01 11:58:13,006][flowinvoker][INFO] - Getting connections from pf client with provider from args: local...\n",
      "[2024-05-01 11:58:13,013][flowinvoker][INFO] - Promptflow get connections successfully. keys: dict_keys(['connection_5259131854148614271'])\n",
      "[2024-05-01 11:58:13,014][flowinvoker][INFO] - Promptflow executor starts initializing...\n",
      "[2024-05-01 11:58:13,328][flowinvoker][INFO] - Promptflow executor initiated successfully.\n",
      "[2024-05-01 11:58:13,330][flowinvoker][INFO] - Validating flow input with data {'question': 'What is the capital of India?', 'answer': 'New Delhi is Capital of India', 'context': 'India is a country in South Asia.'}\n",
      "[2024-05-01 11:58:13,331][flowinvoker][INFO] - Execute flow with data {'question': 'What is the capital of India?', 'answer': 'New Delhi is Capital of India', 'context': 'India is a country in South Asia.'}\n"
     ]
    },
    {
     "name": "stdout",
     "output_type": "stream",
     "text": [
      "2024-05-01 11:58:13 -0700   31040 execution.flow     INFO     Start executing nodes in thread pool mode.\n",
      "2024-05-01 11:58:13 -0700   31040 execution.flow     INFO     Start to run 3 nodes with concurrency level 16.\n",
      "2024-05-01 11:58:13 -0700   31040 execution.flow     INFO     Executing node validate_inputs. node run id: 3c31376b-a5c6-43c5-86bb-9b99ca67f124_validate_inputs_00755a06-7129-41c4-8053-41724904f606\n",
      "2024-05-01 11:58:13 -0700   31040 execution.flow     INFO     Node validate_inputs completes.\n",
      "2024-05-01 11:58:13 -0700   31040 execution.flow     INFO     The node 'query_llm' will be executed because the activate condition is met, i.e. '${validate_inputs.output}' is equal to 'True'.\n",
      "2024-05-01 11:58:13 -0700   31040 execution.flow     INFO     Executing node query_llm. node run id: 3c31376b-a5c6-43c5-86bb-9b99ca67f124_query_llm_7d9feebf-70c2-4d6e-9184-45b2a577f371\n",
      "2024-05-01 11:58:16 -0700   31040 execution.flow     INFO     Node query_llm completes.\n",
      "2024-05-01 11:58:16 -0700   31040 execution.flow     INFO     Executing node parse_score. node run id: 3c31376b-a5c6-43c5-86bb-9b99ca67f124_parse_score_2d1971b5-230e-4a89-a8c1-af03e0092086\n",
      "2024-05-01 11:58:16 -0700   31040 execution.flow     INFO     Node parse_score completes.\n"
     ]
    },
    {
     "data": {
      "text/plain": [
       "{'gpt_relevance': 5.0}"
      ]
     },
     "execution_count": 6,
     "metadata": {},
     "output_type": "execute_result"
    }
   ],
   "source": [
    "relevance_evaluator = RelevanceEvaluator(model_config=configuration)\n",
    "\n",
    "relevance_evaluator(question=\"What is the capital of India?\", answer=\"New Delhi is Capital of India\" ,context=\"India is a country in South Asia.\")"
   ]
  },
  {
   "cell_type": "markdown",
   "id": "b0b0d043",
   "metadata": {},
   "source": [
    "## Running custom evaluator **Perplexity**"
   ]
  },
  {
   "cell_type": "code",
   "execution_count": 7,
   "id": "69c16142",
   "metadata": {},
   "outputs": [
    {
     "data": {
      "text/plain": [
       "{'score': True}"
      ]
     },
     "execution_count": 7,
     "metadata": {},
     "output_type": "execute_result"
    }
   ],
   "source": [
    "# Note: The following evaluator is a defined in directory evaluators/blocklist\n",
    "\n",
    "from evaluators.blocklist.blocklist import BlocklistEvaluator\n",
    "\n",
    "blocklist_evaluator = BlocklistEvaluator(blocklist=\"bad, worst, terrible\")\n",
    "\n",
    "blocklist_evaluator(answer=\"New Delhi is Capital of India\")"
   ]
  },
  {
   "cell_type": "markdown",
   "id": "5c9b63dd-031d-469d-8232-84affd517f0f",
   "metadata": {},
   "source": [
    "## Run the evaluation"
   ]
  },
  {
   "cell_type": "code",
   "execution_count": 8,
   "id": "04d1dd39-f0a3-4392-bf99-14eecda3e2da",
   "metadata": {},
   "outputs": [
    {
     "name": "stderr",
     "output_type": "stream",
     "text": [
      "[2024-05-01 11:58:16,553][promptflow][WARNING] - Code path is not specified, use current working directory: c:/Users/anksing/AppData/Roaming/JetBrains/PyCharmCE2024.1/scratches/evaluate-target\n"
     ]
    },
    {
     "name": "stdout",
     "output_type": "stream",
     "text": [
      "Prompt flow service has started...\n"
     ]
    },
    {
     "name": "stderr",
     "output_type": "stream",
     "text": [
      "[2024-05-01 11:58:21,004][promptflow._sdk._orchestrator.run_submitter][INFO] - Submitting run evaluate_target_variant_0_20240501_115816_568127, log path: C:\\Users\\anksing\\.promptflow\\.runs\\evaluate_target_variant_0_20240501_115816_568127\\logs.txt\n"
     ]
    },
    {
     "name": "stdout",
     "output_type": "stream",
     "text": [
      "You can view the traces in local from http://localhost:23333/v1.0/ui/traces/?#run=evaluate_target_variant_0_20240501_115816_568127\n",
      "2024-05-01 11:58:21 -0700   31040 execution          WARNING  Starting run without column mapping may lead to unexpected results. Please consult the following documentation for more information: https://aka.ms/pf/column-mapping\n",
      "2024-05-01 11:58:21 -0700   31040 execution.bulk     INFO     Current system's available memory is 31773.09375MB, memory consumption of current process is 336.4375MB, estimated available worker count is 31773.09375/336.4375 = 94\n",
      "2024-05-01 11:58:21 -0700   31040 execution.bulk     INFO     Set process count to 3 by taking the minimum value among the factors of {'default_worker_count': 4, 'row_count': 3, 'estimated_worker_count_based_on_memory_usage': 94}.\n",
      "2024-05-01 11:58:23 -0700   31040 execution.bulk     INFO     Process name(SpawnProcess-2)-Process id(41492)-Line number(0) start execution.\n",
      "2024-05-01 11:58:23 -0700   31040 execution.bulk     INFO     Process name(SpawnProcess-3)-Process id(23584)-Line number(1) start execution.\n",
      "2024-05-01 11:58:23 -0700   31040 execution.bulk     INFO     Process name(SpawnProcess-4)-Process id(17896)-Line number(2) start execution.\n",
      "2024-05-01 11:58:31 -0700   31040 execution.bulk     INFO     Process name(SpawnProcess-2)-Process id(41492)-Line number(0) completed.\n",
      "2024-05-01 11:58:31 -0700   31040 execution.bulk     INFO     Finished 1 / 3 lines.\n",
      "2024-05-01 11:58:31 -0700   31040 execution.bulk     INFO     Average execution time for completed lines: 8.06 seconds. Estimated time for incomplete lines: 16.12 seconds.\n",
      "2024-05-01 11:58:31 -0700   31040 execution.bulk     INFO     Process name(SpawnProcess-3)-Process id(23584)-Line number(1) completed.\n",
      "2024-05-01 11:58:32 -0700   31040 execution.bulk     INFO     Finished 2 / 3 lines.\n",
      "2024-05-01 11:58:32 -0700   31040 execution.bulk     INFO     Average execution time for completed lines: 4.53 seconds. Estimated time for incomplete lines: 4.53 seconds.\n",
      "2024-05-01 11:58:33 -0700   31040 execution.bulk     INFO     Process name(SpawnProcess-4)-Process id(17896)-Line number(2) completed.\n",
      "2024-05-01 11:58:33 -0700   31040 execution.bulk     INFO     Finished 3 / 3 lines.\n",
      "2024-05-01 11:58:33 -0700   31040 execution.bulk     INFO     Average execution time for completed lines: 3.36 seconds. Estimated time for incomplete lines: 0.0 seconds.\n",
      "2024-05-01 11:58:33 -0700   31040 execution.bulk     INFO     The thread monitoring the process [23584-SpawnProcess-3] will be terminated.\n",
      "2024-05-01 11:58:33 -0700   31040 execution.bulk     INFO     The thread monitoring the process [17896-SpawnProcess-4] will be terminated.\n",
      "2024-05-01 11:58:33 -0700   31040 execution.bulk     INFO     The thread monitoring the process [41492-SpawnProcess-2] will be terminated.\n",
      "2024-05-01 11:58:33 -0700   23584 execution.bulk     INFO     The process [23584] has received a terminate signal.\n",
      "2024-05-01 11:58:33 -0700   17896 execution.bulk     INFO     The process [17896] has received a terminate signal.\n",
      "2024-05-01 11:58:33 -0700   41492 execution.bulk     INFO     The process [41492] has received a terminate signal.\n",
      "2024-05-01 11:58:34 -0700   31040 execution.bulk     INFO     Process 41492 terminated.\n",
      "2024-05-01 11:58:34 -0700   31040 execution.bulk     INFO     Process 23584 terminated.\n",
      "2024-05-01 11:58:35 -0700   31040 execution.bulk     INFO     Process 17896 terminated.\n",
      "======= Run Summary =======\n",
      "\n",
      "Run name: \"evaluate_target_variant_0_20240501_115816_568127\"\n",
      "Run status: \"Completed\"\n",
      "Start time: \"2024-05-01 11:58:16.568127\"\n",
      "Duration: \"0:00:22.453722\"\n",
      "Output path: \"C:\\Users\\anksing\\.promptflow\\.runs\\evaluate_target_variant_0_20240501_115816_568127\"\n",
      "\n",
      "Prompt flow service has started...\n"
     ]
    },
    {
     "name": "stderr",
     "output_type": "stream",
     "text": [
      "[2024-05-01 11:58:43,284][promptflow._sdk._orchestrator.run_submitter][INFO] - Submitting run evaluate_target_variant_0_20240501_115839_112646, log path: C:\\Users\\anksing\\.promptflow\\.runs\\evaluate_target_variant_0_20240501_115839_112646\\logs.txt\n"
     ]
    },
    {
     "name": "stdout",
     "output_type": "stream",
     "text": [
      "You can view the traces in local from http://localhost:23333/v1.0/ui/traces/?#run=evaluate_target_variant_0_20240501_115839_112646\n",
      "2024-05-01 11:58:43 -0700   31040 execution          WARNING  Starting run without column mapping may lead to unexpected results. Please consult the following documentation for more information: https://aka.ms/pf/column-mapping\n",
      "2024-05-01 11:58:43 -0700   31040 execution.bulk     INFO     Current system's available memory is 31774.84375MB, memory consumption of current process is 340.53125MB, estimated available worker count is 31774.84375/340.53125 = 93\n",
      "2024-05-01 11:58:43 -0700   31040 execution.bulk     INFO     Set process count to 3 by taking the minimum value among the factors of {'default_worker_count': 4, 'row_count': 3, 'estimated_worker_count_based_on_memory_usage': 93}.\n",
      "2024-05-01 11:58:46 -0700   31040 execution.bulk     INFO     Process name(SpawnProcess-8)-Process id(13812)-Line number(0) start execution.\n",
      "2024-05-01 11:58:46 -0700   31040 execution.bulk     INFO     Process name(SpawnProcess-9)-Process id(42768)-Line number(1) start execution.\n",
      "2024-05-01 11:58:46 -0700   31040 execution.bulk     INFO     Process name(SpawnProcess-10)-Process id(30076)-Line number(2) start execution.\n",
      "2024-05-01 11:58:46 -0700   31040 execution.bulk     INFO     Process name(SpawnProcess-8)-Process id(13812)-Line number(0) completed.\n",
      "2024-05-01 11:58:47 -0700   31040 execution.bulk     INFO     Finished 1 / 3 lines.\n",
      "2024-05-01 11:58:47 -0700   31040 execution.bulk     INFO     Average execution time for completed lines: 1.01 seconds. Estimated time for incomplete lines: 2.02 seconds.\n",
      "2024-05-01 11:58:48 -0700   31040 execution.bulk     INFO     Process name(SpawnProcess-9)-Process id(42768)-Line number(1) completed.\n",
      "2024-05-01 11:58:48 -0700   31040 execution.bulk     INFO     Process name(SpawnProcess-10)-Process id(30076)-Line number(2) completed.\n",
      "2024-05-01 11:58:49 -0700   31040 execution.bulk     INFO     Finished 3 / 3 lines.\n",
      "2024-05-01 11:58:49 -0700   31040 execution.bulk     INFO     Average execution time for completed lines: 1.01 seconds. Estimated time for incomplete lines: 0.0 seconds.\n",
      "2024-05-01 11:58:49 -0700   31040 execution.bulk     INFO     The thread monitoring the process [13812-SpawnProcess-8] will be terminated.\n",
      "2024-05-01 11:58:49 -0700   31040 execution.bulk     INFO     The thread monitoring the process [42768-SpawnProcess-9] will be terminated.\n",
      "2024-05-01 11:58:49 -0700   31040 execution.bulk     INFO     The thread monitoring the process [30076-SpawnProcess-10] will be terminated.\n",
      "2024-05-01 11:58:49 -0700   13812 execution.bulk     INFO     The process [13812] has received a terminate signal.\n",
      "2024-05-01 11:58:49 -0700   42768 execution.bulk     INFO     The process [42768] has received a terminate signal.\n",
      "2024-05-01 11:58:49 -0700   30076 execution.bulk     INFO     The process [30076] has received a terminate signal.\n",
      "2024-05-01 11:58:49 -0700   31040 execution.bulk     INFO     Process 13812 terminated.\n",
      "2024-05-01 11:58:51 -0700   31040 execution.bulk     INFO     Process 42768 terminated.\n",
      "2024-05-01 11:58:51 -0700   31040 execution.bulk     INFO     Process 30076 terminated.\n",
      "======= Run Summary =======\n",
      "\n",
      "Run name: \"evaluate_target_variant_0_20240501_115839_112646\"\n",
      "Run status: \"Completed\"\n",
      "Start time: \"2024-05-01 11:58:39.112646\"\n",
      "Duration: \"0:00:15.010339\"\n",
      "Output path: \"C:\\Users\\anksing\\.promptflow\\.runs\\evaluate_target_variant_0_20240501_115839_112646\"\n",
      "\n",
      "Prompt flow service has started...\n"
     ]
    },
    {
     "name": "stderr",
     "output_type": "stream",
     "text": [
      "[2024-05-01 11:58:58,518][promptflow._sdk._orchestrator.run_submitter][INFO] - Submitting run evaluate_target_variant_0_20240501_115854_376324, log path: C:\\Users\\anksing\\.promptflow\\.runs\\evaluate_target_variant_0_20240501_115854_376324\\logs.txt\n"
     ]
    },
    {
     "name": "stdout",
     "output_type": "stream",
     "text": [
      "You can view the traces in local from http://localhost:23333/v1.0/ui/traces/?#run=evaluate_target_variant_0_20240501_115854_376324\n",
      "2024-05-01 11:58:58 -0700   31040 execution          WARNING  Starting run without column mapping may lead to unexpected results. Please consult the following documentation for more information: https://aka.ms/pf/column-mapping\n",
      "2024-05-01 11:58:58 -0700   31040 execution.bulk     INFO     Current system's available memory is 31755.29296875MB, memory consumption of current process is 340.71484375MB, estimated available worker count is 31755.29296875/340.71484375 = 93\n",
      "2024-05-01 11:58:58 -0700   31040 execution.bulk     INFO     Set process count to 3 by taking the minimum value among the factors of {'default_worker_count': 4, 'row_count': 3, 'estimated_worker_count_based_on_memory_usage': 93}.\n",
      "2024-05-01 11:59:01 -0700   31040 execution.bulk     INFO     Process name(SpawnProcess-14)-Process id(43812)-Line number(0) start execution.\n",
      "2024-05-01 11:59:01 -0700   31040 execution.bulk     INFO     Process name(SpawnProcess-15)-Process id(6388)-Line number(1) start execution.\n",
      "2024-05-01 11:59:01 -0700   31040 execution.bulk     INFO     Process name(SpawnProcess-16)-Process id(4236)-Line number(2) start execution.\n",
      "2024-05-01 11:59:01 -0700   43812 execution          WARNING  [Flex in line 0 (index starts from 0)] stderr> [2024-05-01 11:59:01,367][flowinvoker][INFO] - Getting connections from pf client with provider from args: local...\n",
      "2024-05-01 11:59:01 -0700   43812 execution          WARNING  [Flex in line 0 (index starts from 0)] stderr> [2024-05-01 11:59:01,373][flowinvoker][INFO] - Promptflow get connections successfully. keys: dict_keys(['connection_5259131854148614271'])\n",
      "2024-05-01 11:59:01 -0700   43812 execution          WARNING  [Flex in line 0 (index starts from 0)] stderr> [2024-05-01 11:59:01,373][flowinvoker][INFO] - Promptflow executor starts initializing...\n",
      "2024-05-01 11:59:02 -0700   43812 execution          WARNING  [Flex in line 0 (index starts from 0)] stderr> [2024-05-01 11:59:02,137][flowinvoker][INFO] - Promptflow executor initiated successfully.\n",
      "2024-05-01 11:59:02 -0700   43812 execution          WARNING  [Flex in line 0 (index starts from 0)] stderr> [2024-05-01 11:59:02,138][flowinvoker][INFO] - Validating flow input with data {'question': 'When was United Stated found ?', 'answer': 'The United States was established after the War of Independence from Great Britain, which happened in the late 18th century. However, the exact date is often considered to be July 4, 1776, when the Declaration of Independence was signed.', 'context': 'Content: The Founding Fathers of the United States, commonly referred to as the Founding Fathers, were a group of late-18th-century American revolutionary leaders who united the Thirteen Colonies, oversaw the War of Independence from Great Britain, established the United States of America, and crafted a framework of government for the new nation.. America\\'s Founding Fathers include those who signed the United States Declaration of Independence, Articles of Confederation, and the United States Constitution, and others. In 1973, historian Richard B. Morris identified seven figures as key founders, based on what he called the \"triple tests\" of leadership, longevity, and statesmanship: John Adams, Benjamin Franklin, Alexander Hamilton, John Jay, Thomas Jefferson, James Madison, and George Washington.[2]. Most of the Founding Fathers hailed from English ancestry, though many had family roots extended across various regions of the British Isles, including Scotland, Wales, and Ireland. Additionally, some traced their lineage back to the early Dutch settlers of New York (New Netherland) during the colonial era, while others were descendants of French Huguenots who settled in the colonies, escaping religious persecution in France.[3][4][5]. Historian Richard Morris\\' selection of seven key founders was widely accepted through the 20th century.[7][8] John Adams, Thomas Jefferson, and Benjamin Franklin were members of the Committee of Five that were charged by the Second Continental Congress with drafting the Declaration of Independence. Franklin, Adams, and John Jay negotiated the 1783 Treaty of Paris, which established American independence and brought an end to the American Revolutionary War.[9] The constitutions drafted by Jay and Adams for their respective states of New York (1777) and Massachusetts (1780) proved influential in the language used in developing the U.S. Constitution.[10][11][12] The Federalist Papers, which advocated the ratification of the Constitution, were written by Alexander Hamilton, James Madison, and Jay. George Washington was Commander-in-Chief of the Continental Army and later president of the Constitutional Convention.[13][14].\\n\\nContent: In the United States, a state is a constituent political entity, of which there are 50. Bound together in a political union, each state holds governmental jurisdiction over a separate and defined geographic territory where it shares its sovereignty with the federal government. Due to this shared sovereignty, Americans are citizens both of the federal republic and of the state in which they reside.[3] State citizenship and residency are flexible, and no government approval is required to move between states, except for persons restricted by certain types of court orders (such as paroled convicts and children of divorced spouses who share child custody).. State governments in the U.S. are allocated power by the people (of each respective state) through their individual state constitutions. All are grounded in republican principles (this being required by the federal constitution), and each provides for a government, consisting of three branches, each with separate and independent powers: executive, legislative, and judicial.[4] States are divided into counties or county-equivalents, which may be assigned some local governmental authority but are not sovereign. County or county-equivalent structure varies widely by state, and states also create other local governments.. States, unlike U.S. territories, possess many powers and rights under the United States Constitution. States and their citizens are represented in the United States Congress, a bicameral legislature consisting of the Senate and the House of Representatives.'}\n",
      "2024-05-01 11:59:02 -0700   43812 execution          WARNING  [Flex in line 0 (index starts from 0)] stderr> [2024-05-01 11:59:02,139][flowinvoker][INFO] - Execute flow with data {'question': 'When was United Stated found ?', 'answer': 'The United States was established after the War of Independence from Great Britain, which happened in the late 18th century. However, the exact date is often considered to be July 4, 1776, when the Declaration of Independence was signed.', 'context': 'Content: The Founding Fathers of the United States, commonly referred to as the Founding Fathers, were a group of late-18th-century American revolutionary leaders who united the Thirteen Colonies, oversaw the War of Independence from Great Britain, established the United States of America, and crafted a framework of government for the new nation.. America\\'s Founding Fathers include those who signed the United States Declaration of Independence, Articles of Confederation, and the United States Constitution, and others. In 1973, historian Richard B. Morris identified seven figures as key founders, based on what he called the \"triple tests\" of leadership, longevity, and statesmanship: John Adams, Benjamin Franklin, Alexander Hamilton, John Jay, Thomas Jefferson, James Madison, and George Washington.[2]. Most of the Founding Fathers hailed from English ancestry, though many had family roots extended across various regions of the British Isles, including Scotland, Wales, and Ireland. Additionally, some traced their lineage back to the early Dutch settlers of New York (New Netherland) during the colonial era, while others were descendants of French Huguenots who settled in the colonies, escaping religious persecution in France.[3][4][5]. Historian Richard Morris\\' selection of seven key founders was widely accepted through the 20th century.[7][8] John Adams, Thomas Jefferson, and Benjamin Franklin were members of the Committee of Five that were charged by the Second Continental Congress with drafting the Declaration of Independence. Franklin, Adams, and John Jay negotiated the 1783 Treaty of Paris, which established American independence and brought an end to the American Revolutionary War.[9] The constitutions drafted by Jay and Adams for their respective states of New York (1777) and Massachusetts (1780) proved influential in the language used in developing the U.S. Constitution.[10][11][12] The Federalist Papers, which advocated the ratification of the Constitution, were written by Alexander Hamilton, James Madison, and Jay. George Washington was Commander-in-Chief of the Continental Army and later president of the Constitutional Convention.[13][14].\\n\\nContent: In the United States, a state is a constituent political entity, of which there are 50. Bound together in a political union, each state holds governmental jurisdiction over a separate and defined geographic territory where it shares its sovereignty with the federal government. Due to this shared sovereignty, Americans are citizens both of the federal republic and of the state in which they reside.[3] State citizenship and residency are flexible, and no government approval is required to move between states, except for persons restricted by certain types of court orders (such as paroled convicts and children of divorced spouses who share child custody).. State governments in the U.S. are allocated power by the people (of each respective state) through their individual state constitutions. All are grounded in republican principles (this being required by the federal constitution), and each provides for a government, consisting of three branches, each with separate and independent powers: executive, legislative, and judicial.[4] States are divided into counties or county-equivalents, which may be assigned some local governmental authority but are not sovereign. County or county-equivalent structure varies widely by state, and states also create other local governments.. States, unlike U.S. territories, possess many powers and rights under the United States Constitution. States and their citizens are represented in the United States Congress, a bicameral legislature consisting of the Senate and the House of Representatives.'}\n",
      "2024-05-01 11:59:03 -0700   31040 execution.bulk     INFO     Process name(SpawnProcess-14)-Process id(43812)-Line number(0) completed.\n",
      "2024-05-01 11:59:03 -0700   31040 execution.bulk     INFO     Finished 1 / 3 lines.\n",
      "2024-05-01 11:59:03 -0700   31040 execution.bulk     INFO     Average execution time for completed lines: 2.01 seconds. Estimated time for incomplete lines: 4.02 seconds.\n",
      "2024-05-01 11:59:03 -0700    6388 execution          WARNING  [Flex in line 1 (index starts from 0)] stderr> [2024-05-01 11:59:03,677][flowinvoker][INFO] - Getting connections from pf client with provider from args: local...\n",
      "2024-05-01 11:59:03 -0700    6388 execution          WARNING  [Flex in line 1 (index starts from 0)] stderr> [2024-05-01 11:59:03,681][flowinvoker][INFO] - Promptflow get connections successfully. keys: dict_keys(['connection_5259131854148614271'])\n",
      "2024-05-01 11:59:03 -0700    6388 execution          WARNING  [Flex in line 1 (index starts from 0)] stderr> [2024-05-01 11:59:03,682][flowinvoker][INFO] - Promptflow executor starts initializing...\n",
      "2024-05-01 11:59:03 -0700    4236 execution          WARNING  [Flex in line 2 (index starts from 0)] stderr> [2024-05-01 11:59:03,740][flowinvoker][INFO] - Getting connections from pf client with provider from args: local...\n",
      "2024-05-01 11:59:03 -0700    4236 execution          WARNING  [Flex in line 2 (index starts from 0)] stderr> [2024-05-01 11:59:03,745][flowinvoker][INFO] - Promptflow get connections successfully. keys: dict_keys(['connection_5259131854148614271'])\n",
      "2024-05-01 11:59:03 -0700    4236 execution          WARNING  [Flex in line 2 (index starts from 0)] stderr> [2024-05-01 11:59:03,746][flowinvoker][INFO] - Promptflow executor starts initializing...\n",
      "2024-05-01 11:59:04 -0700    6388 execution          WARNING  [Flex in line 1 (index starts from 0)] stderr> [2024-05-01 11:59:04,532][flowinvoker][INFO] - Promptflow executor initiated successfully.\n",
      "2024-05-01 11:59:04 -0700    6388 execution          WARNING  [Flex in line 1 (index starts from 0)] stderr> [2024-05-01 11:59:04,533][flowinvoker][INFO] - Validating flow input with data {'question': 'What is the capital of France?', 'answer': \"The document doesn't provide specific information about the capital of France.\", 'context': 'Content: A closed-ended question refers to any question for which a researcher provides research participants with options from which to choose a response.[1] Closed-ended questions are sometimes phrased as a statement which requires a response.. A closed-ended question contrasts with an open-ended question, which cannot easily be answered with specific information.. Examples of closed-ended questions which may elicit a \"yes\" or \"no\" response include:. Similarly, variants of the above closed-ended questions which possess specific responses are:. At the same time, there are closed-ended questions which are sometimes impossible to answer correctly with a yes or no without confusion, for example: \"Have you stopped taking heroin?\" (if you never took it) or \"Who told you to take heroin?\"; see \"loaded question\".. A study by the University of Cincinnati found 20 to 40 percent of Americans will provide an opinion when they do not have one because of social pressure, using context clues to select an answer they believe will please the questioner. A classic example of this phenomenon was the 1947 study of the fictional Metallic Metals Act.[2]. There are alternative names for the same concept. There is an entry in \"A Dictionary of Psychology - Oxford Reference[3]\" for \"closed question\" for the concept described here. Statistics for search queries[4] show \"closed question\" is coming more often than \"close ended question\" and \"closed-ended question\".\\n\\nContent: A capital city or just capital is the municipality holding primary status in a country, state, province, department, or other subnational division, usually as its seat of the government. A capital is typically a city that physically encompasses the government\\'s offices and meeting places; the status as capital is often designated by its law or constitution. In some jurisdictions, including several countries, different branches of government are in different settlements, sometimes meaning multiple official capitals. In some cases, a distinction is made between the official (constitutional) capital and the seat of government, which is in another place.. English-language news media often use the name of the capital city as an alternative name for the government of the country of which it is the capital, as a form of metonymy. For example, the \"relations between London and Washington\" refers to the \"relations between the United Kingdom and the United States\".[1]. The word capital derives from the Latin word caput (genitive capitis), meaning \\'head\\'.. In several English-speaking states, the terms county town and county seat are also used in lower administrative divisions. In some unitary states, subnational capitals may be known as \\'administrative centres\\'. The capital is often the largest city of its constituent, though not always..'}\n",
      "2024-05-01 11:59:04 -0700    6388 execution          WARNING  [Flex in line 1 (index starts from 0)] stderr> [2024-05-01 11:59:04,533][flowinvoker][INFO] - Execute flow with data {'question': 'What is the capital of France?', 'answer': \"The document doesn't provide specific information about the capital of France.\", 'context': 'Content: A closed-ended question refers to any question for which a researcher provides research participants with options from which to choose a response.[1] Closed-ended questions are sometimes phrased as a statement which requires a response.. A closed-ended question contrasts with an open-ended question, which cannot easily be answered with specific information.. Examples of closed-ended questions which may elicit a \"yes\" or \"no\" response include:. Similarly, variants of the above closed-ended questions which possess specific responses are:. At the same time, there are closed-ended questions which are sometimes impossible to answer correctly with a yes or no without confusion, for example: \"Have you stopped taking heroin?\" (if you never took it) or \"Who told you to take heroin?\"; see \"loaded question\".. A study by the University of Cincinnati found 20 to 40 percent of Americans will provide an opinion when they do not have one because of social pressure, using context clues to select an answer they believe will please the questioner. A classic example of this phenomenon was the 1947 study of the fictional Metallic Metals Act.[2]. There are alternative names for the same concept. There is an entry in \"A Dictionary of Psychology - Oxford Reference[3]\" for \"closed question\" for the concept described here. Statistics for search queries[4] show \"closed question\" is coming more often than \"close ended question\" and \"closed-ended question\".\\n\\nContent: A capital city or just capital is the municipality holding primary status in a country, state, province, department, or other subnational division, usually as its seat of the government. A capital is typically a city that physically encompasses the government\\'s offices and meeting places; the status as capital is often designated by its law or constitution. In some jurisdictions, including several countries, different branches of government are in different settlements, sometimes meaning multiple official capitals. In some cases, a distinction is made between the official (constitutional) capital and the seat of government, which is in another place.. English-language news media often use the name of the capital city as an alternative name for the government of the country of which it is the capital, as a form of metonymy. For example, the \"relations between London and Washington\" refers to the \"relations between the United Kingdom and the United States\".[1]. The word capital derives from the Latin word caput (genitive capitis), meaning \\'head\\'.. In several English-speaking states, the terms county town and county seat are also used in lower administrative divisions. In some unitary states, subnational capitals may be known as \\'administrative centres\\'. The capital is often the largest city of its constituent, though not always..'}\n",
      "2024-05-01 11:59:04 -0700    4236 execution          WARNING  [Flex in line 2 (index starts from 0)] stderr> [2024-05-01 11:59:04,602][flowinvoker][INFO] - Promptflow executor initiated successfully.\n",
      "2024-05-01 11:59:04 -0700    4236 execution          WARNING  [Flex in line 2 (index starts from 0)] stderr> [2024-05-01 11:59:04,603][flowinvoker][INFO] - Validating flow input with data {'question': 'Who is the best tennis player of all time ?', 'answer': 'The documents provided do not contain information on who is considered the best tennis player of all time.', 'context': 'Content: This article covers the period from 1877 to present. Before the beginning of the Open Era in April 1968, only amateurs were allowed to compete in established tennis tournaments, including the four Grand Slam tournaments (also known as the majors). Wimbledon, the oldest of the majors, was founded in 1877, followed by the US Open in 1881, the French Open in 1891 and the Australian Open in 1905. Beginning in 1905 and continuing to the present day, all four majors have been played yearly, with the exception of during the two World Wars, 1986 for the Australian Open, and 2020 for Wimbledon. The Australian Open is the first major of the year (January), followed by the French Open (May–June), Wimbledon (June–July) and the US Open (August–September). There was no prize money and players were compensated for travel expenses only. A player who wins all four majors, in singles or as part of a doubles team, in the same calendar year is said to have achieved a \"Grand Slam\". If the player wins all four consecutively, but not in the same calendar year, it is called a \"Non-Calendar Year Grand Slam\". Winning all four at some point in a career, even if not consecutively, is referred to as a \"Career Grand Slam\". Winning the four majors and a gold medal in tennis at the Summer Olympics in the same calendar year has been called a \"Golden Slam\" since 1988.[1] Winning all four majors plus an Olympic gold at some point in a career, even if not consecutively, is referred to as a \"Career Golden Slam\".\\n\\nContent: Challenger, Challengers, or The Challengers may refer to:. Main pageContentsCurrent eventsRandom articleAbout WikipediaContact usDonate. HelpLearn to editCommunity portalRecent changesUpload file. Create account. Log in. Create account Log in. (Top). 1Entertainment. Toggle Entertainment subsection. 1.1Comics and manga.'}\n",
      "2024-05-01 11:59:04 -0700    4236 execution          WARNING  [Flex in line 2 (index starts from 0)] stderr> [2024-05-01 11:59:04,604][flowinvoker][INFO] - Execute flow with data {'question': 'Who is the best tennis player of all time ?', 'answer': 'The documents provided do not contain information on who is considered the best tennis player of all time.', 'context': 'Content: This article covers the period from 1877 to present. Before the beginning of the Open Era in April 1968, only amateurs were allowed to compete in established tennis tournaments, including the four Grand Slam tournaments (also known as the majors). Wimbledon, the oldest of the majors, was founded in 1877, followed by the US Open in 1881, the French Open in 1891 and the Australian Open in 1905. Beginning in 1905 and continuing to the present day, all four majors have been played yearly, with the exception of during the two World Wars, 1986 for the Australian Open, and 2020 for Wimbledon. The Australian Open is the first major of the year (January), followed by the French Open (May–June), Wimbledon (June–July) and the US Open (August–September). There was no prize money and players were compensated for travel expenses only. A player who wins all four majors, in singles or as part of a doubles team, in the same calendar year is said to have achieved a \"Grand Slam\". If the player wins all four consecutively, but not in the same calendar year, it is called a \"Non-Calendar Year Grand Slam\". Winning all four at some point in a career, even if not consecutively, is referred to as a \"Career Grand Slam\". Winning the four majors and a gold medal in tennis at the Summer Olympics in the same calendar year has been called a \"Golden Slam\" since 1988.[1] Winning all four majors plus an Olympic gold at some point in a career, even if not consecutively, is referred to as a \"Career Golden Slam\".\\n\\nContent: Challenger, Challengers, or The Challengers may refer to:. Main pageContentsCurrent eventsRandom articleAbout WikipediaContact usDonate. HelpLearn to editCommunity portalRecent changesUpload file. Create account. Log in. Create account Log in. (Top). 1Entertainment. Toggle Entertainment subsection. 1.1Comics and manga.'}\n",
      "2024-05-01 11:59:05 -0700   31040 execution.bulk     INFO     Process name(SpawnProcess-16)-Process id(4236)-Line number(2) completed.\n",
      "2024-05-01 11:59:05 -0700   31040 execution.bulk     INFO     Process name(SpawnProcess-15)-Process id(6388)-Line number(1) completed.\n",
      "2024-05-01 11:59:06 -0700   31040 execution.bulk     INFO     Finished 3 / 3 lines.\n",
      "2024-05-01 11:59:06 -0700   31040 execution.bulk     INFO     Average execution time for completed lines: 1.68 seconds. Estimated time for incomplete lines: 0.0 seconds.\n",
      "2024-05-01 11:59:06 -0700   31040 execution.bulk     INFO     The thread monitoring the process [4236-SpawnProcess-16] will be terminated.\n",
      "2024-05-01 11:59:06 -0700   31040 execution.bulk     INFO     The thread monitoring the process [6388-SpawnProcess-15] will be terminated.\n",
      "2024-05-01 11:59:06 -0700   31040 execution.bulk     INFO     The thread monitoring the process [43812-SpawnProcess-14] will be terminated.\n",
      "2024-05-01 11:59:06 -0700    4236 execution.bulk     INFO     The process [4236] has received a terminate signal.\n",
      "2024-05-01 11:59:06 -0700    6388 execution.bulk     INFO     The process [6388] has received a terminate signal.\n",
      "2024-05-01 11:59:06 -0700   43812 execution.bulk     INFO     The process [43812] has received a terminate signal.\n",
      "2024-05-01 11:59:16 -0700   31040 execution.bulk     INFO     Process 4236 terminated.\n",
      "2024-05-01 11:59:16 -0700   31040 execution.bulk     INFO     Process 43812 terminated.\n",
      "2024-05-01 11:59:16 -0700   31040 execution.bulk     INFO     Process 6388 terminated.\n",
      "======= Run Summary =======\n",
      "\n",
      "Run name: \"evaluate_target_variant_0_20240501_115854_376324\"\n",
      "Run status: \"Completed\"\n",
      "Start time: \"2024-05-01 11:58:54.376324\"\n",
      "Duration: \"0:00:24.910073\"\n",
      "Output path: \"C:\\Users\\anksing\\.promptflow\\.runs\\evaluate_target_variant_0_20240501_115854_376324\"\n",
      "\n"
     ]
    }
   ],
   "source": [
    "results = evaluate(\n",
    "    data=\"data/data.jsonl\",\n",
    "    target=ask_wiki,\n",
    "    evaluators={\n",
    "        \"blocklist\": blocklist_evaluator,\n",
    "        \"relevance\": relevance_evaluator,\n",
    "    },\n",
    ")"
   ]
  },
  {
   "cell_type": "markdown",
   "id": "851d4569-4e1b-4b44-92ed-9063eccb68ae",
   "metadata": {},
   "source": [
    "View the results"
   ]
  },
  {
   "cell_type": "code",
   "execution_count": 9,
   "id": "72fa51e3",
   "metadata": {},
   "outputs": [
    {
     "name": "stdout",
     "output_type": "stream",
     "text": [
      "{'metrics': {'blocklist.score': 1.0, 'relevance.gpt_relevance': 5.0},\n",
      " 'rows': [{'inputs.ground_truth': '1776',\n",
      "           'inputs.question': 'When was United Stated found ?',\n",
      "           'outputs.answer': 'The United States was established after the War '\n",
      "                             'of Independence from Great Britain, which '\n",
      "                             'happened in the late 18th century. However, the '\n",
      "                             'exact date is often considered to be July 4, '\n",
      "                             '1776, when the Declaration of Independence was '\n",
      "                             'signed.',\n",
      "           'outputs.blocklist.score': True,\n",
      "           'outputs.context': 'Content: The Founding Fathers of the United '\n",
      "                              'States, commonly referred to as the Founding '\n",
      "                              'Fathers, were a group of late-18th-century '\n",
      "                              'American revolutionary leaders who united the '\n",
      "                              'Thirteen Colonies, oversaw the War of '\n",
      "                              'Independence from Great Britain, established '\n",
      "                              'the United States of America, and crafted a '\n",
      "                              'framework of government for the new nation.. '\n",
      "                              \"America's Founding Fathers include those who \"\n",
      "                              'signed the United States Declaration of '\n",
      "                              'Independence, Articles of Confederation, and '\n",
      "                              'the United States Constitution, and others. In '\n",
      "                              '1973, historian Richard B. Morris identified '\n",
      "                              'seven figures as key founders, based on what he '\n",
      "                              'called the \"triple tests\" of leadership, '\n",
      "                              'longevity, and statesmanship: John Adams, '\n",
      "                              'Benjamin Franklin, Alexander Hamilton, John '\n",
      "                              'Jay, Thomas Jefferson, James Madison, and '\n",
      "                              'George Washington.[2]. Most of the Founding '\n",
      "                              'Fathers hailed from English ancestry, though '\n",
      "                              'many had family roots extended across various '\n",
      "                              'regions of the British Isles, including '\n",
      "                              'Scotland, Wales, and Ireland. Additionally, '\n",
      "                              'some traced their lineage back to the early '\n",
      "                              'Dutch settlers of New York (New Netherland) '\n",
      "                              'during the colonial era, while others were '\n",
      "                              'descendants of French Huguenots who settled in '\n",
      "                              'the colonies, escaping religious persecution in '\n",
      "                              \"France.[3][4][5]. Historian Richard Morris' \"\n",
      "                              'selection of seven key founders was widely '\n",
      "                              'accepted through the 20th century.[7][8] John '\n",
      "                              'Adams, Thomas Jefferson, and Benjamin Franklin '\n",
      "                              'were members of the Committee of Five that were '\n",
      "                              'charged by the Second Continental Congress with '\n",
      "                              'drafting the Declaration of Independence. '\n",
      "                              'Franklin, Adams, and John Jay negotiated the '\n",
      "                              '1783 Treaty of Paris, which established '\n",
      "                              'American independence and brought an end to the '\n",
      "                              'American Revolutionary War.[9] The '\n",
      "                              'constitutions drafted by Jay and Adams for '\n",
      "                              'their respective states of New York (1777) and '\n",
      "                              'Massachusetts (1780) proved influential in the '\n",
      "                              'language used in developing the U.S. '\n",
      "                              'Constitution.[10][11][12] The Federalist '\n",
      "                              'Papers, which advocated the ratification of the '\n",
      "                              'Constitution, were written by Alexander '\n",
      "                              'Hamilton, James Madison, and Jay. George '\n",
      "                              'Washington was Commander-in-Chief of the '\n",
      "                              'Continental Army and later president of the '\n",
      "                              'Constitutional Convention.[13][14].\\n'\n",
      "                              '\\n'\n",
      "                              'Content: In the United States, a state is a '\n",
      "                              'constituent political entity, of which there '\n",
      "                              'are 50. Bound together in a political union, '\n",
      "                              'each state holds governmental jurisdiction over '\n",
      "                              'a separate and defined geographic territory '\n",
      "                              'where it shares its sovereignty with the '\n",
      "                              'federal government. Due to this shared '\n",
      "                              'sovereignty, Americans are citizens both of the '\n",
      "                              'federal republic and of the state in which they '\n",
      "                              'reside.[3] State citizenship and residency are '\n",
      "                              'flexible, and no government approval is '\n",
      "                              'required to move between states, except for '\n",
      "                              'persons restricted by certain types of court '\n",
      "                              'orders (such as paroled convicts and children '\n",
      "                              'of divorced spouses who share child custody).. '\n",
      "                              'State governments in the U.S. are allocated '\n",
      "                              'power by the people (of each respective state) '\n",
      "                              'through their individual state constitutions. '\n",
      "                              'All are grounded in republican principles (this '\n",
      "                              'being required by the federal constitution), '\n",
      "                              'and each provides for a government, consisting '\n",
      "                              'of three branches, each with separate and '\n",
      "                              'independent powers: executive, legislative, and '\n",
      "                              'judicial.[4] States are divided into counties '\n",
      "                              'or county-equivalents, which may be assigned '\n",
      "                              'some local governmental authority but are not '\n",
      "                              'sovereign. County or county-equivalent '\n",
      "                              'structure varies widely by state, and states '\n",
      "                              'also create other local governments.. States, '\n",
      "                              'unlike U.S. territories, possess many powers '\n",
      "                              'and rights under the United States '\n",
      "                              'Constitution. States and their citizens are '\n",
      "                              'represented in the United States Congress, a '\n",
      "                              'bicameral legislature consisting of the Senate '\n",
      "                              'and the House of Representatives.',\n",
      "           'outputs.relevance.gpt_relevance': 5},\n",
      "          {'inputs.ground_truth': 'Paris',\n",
      "           'inputs.question': 'What is the capital of France?',\n",
      "           'outputs.answer': \"The document doesn't provide specific \"\n",
      "                             'information about the capital of France.',\n",
      "           'outputs.blocklist.score': True,\n",
      "           'outputs.context': 'Content: A closed-ended question refers to any '\n",
      "                              'question for which a researcher provides '\n",
      "                              'research participants with options from which '\n",
      "                              'to choose a response.[1] Closed-ended questions '\n",
      "                              'are sometimes phrased as a statement which '\n",
      "                              'requires a response.. A closed-ended question '\n",
      "                              'contrasts with an open-ended question, which '\n",
      "                              'cannot easily be answered with specific '\n",
      "                              'information.. Examples of closed-ended '\n",
      "                              'questions which may elicit a \"yes\" or \"no\" '\n",
      "                              'response include:. Similarly, variants of the '\n",
      "                              'above closed-ended questions which possess '\n",
      "                              'specific responses are:. At the same time, '\n",
      "                              'there are closed-ended questions which are '\n",
      "                              'sometimes impossible to answer correctly with a '\n",
      "                              'yes or no without confusion, for example: \"Have '\n",
      "                              'you stopped taking heroin?\" (if you never took '\n",
      "                              'it) or \"Who told you to take heroin?\"; see '\n",
      "                              '\"loaded question\".. A study by the University '\n",
      "                              'of Cincinnati found 20 to 40 percent of '\n",
      "                              'Americans will provide an opinion when they do '\n",
      "                              'not have one because of social pressure, using '\n",
      "                              'context clues to select an answer they believe '\n",
      "                              'will please the questioner. A classic example '\n",
      "                              'of this phenomenon was the 1947 study of the '\n",
      "                              'fictional Metallic Metals Act.[2]. There are '\n",
      "                              'alternative names for the same concept. There '\n",
      "                              'is an entry in \"A Dictionary of Psychology - '\n",
      "                              'Oxford Reference[3]\" for \"closed question\" for '\n",
      "                              'the concept described here. Statistics for '\n",
      "                              'search queries[4] show \"closed question\" is '\n",
      "                              'coming more often than \"close ended question\" '\n",
      "                              'and \"closed-ended question\".\\n'\n",
      "                              '\\n'\n",
      "                              'Content: A capital city or just capital is the '\n",
      "                              'municipality holding primary status in a '\n",
      "                              'country, state, province, department, or other '\n",
      "                              'subnational division, usually as its seat of '\n",
      "                              'the government. A capital is typically a city '\n",
      "                              \"that physically encompasses the government's \"\n",
      "                              'offices and meeting places; the status as '\n",
      "                              'capital is often designated by its law or '\n",
      "                              'constitution. In some jurisdictions, including '\n",
      "                              'several countries, different branches of '\n",
      "                              'government are in different settlements, '\n",
      "                              'sometimes meaning multiple official capitals. '\n",
      "                              'In some cases, a distinction is made between '\n",
      "                              'the official (constitutional) capital and the '\n",
      "                              'seat of government, which is in another place.. '\n",
      "                              'English-language news media often use the name '\n",
      "                              'of the capital city as an alternative name for '\n",
      "                              'the government of the country of which it is '\n",
      "                              'the capital, as a form of metonymy. For '\n",
      "                              'example, the \"relations between London and '\n",
      "                              'Washington\" refers to the \"relations between '\n",
      "                              'the United Kingdom and the United States\".[1]. '\n",
      "                              'The word capital derives from the Latin word '\n",
      "                              \"caput (genitive capitis), meaning 'head'.. In \"\n",
      "                              'several English-speaking states, the terms '\n",
      "                              'county town and county seat are also used in '\n",
      "                              'lower administrative divisions. In some unitary '\n",
      "                              'states, subnational capitals may be known as '\n",
      "                              \"'administrative centres'. The capital is often \"\n",
      "                              'the largest city of its constituent, though not '\n",
      "                              'always..',\n",
      "           'outputs.relevance.gpt_relevance': 5},\n",
      "          {'inputs.ground_truth': 'Roger Federer',\n",
      "           'inputs.question': 'Who is the best tennis player of all time ?',\n",
      "           'outputs.answer': 'The documents provided do not contain '\n",
      "                             'information on who is considered the best tennis '\n",
      "                             'player of all time.',\n",
      "           'outputs.blocklist.score': True,\n",
      "           'outputs.context': 'Content: This article covers the period from '\n",
      "                              '1877 to present. Before the beginning of the '\n",
      "                              'Open Era in April 1968, only amateurs were '\n",
      "                              'allowed to compete in established tennis '\n",
      "                              'tournaments, including the four Grand Slam '\n",
      "                              'tournaments (also known as the majors). '\n",
      "                              'Wimbledon, the oldest of the majors, was '\n",
      "                              'founded in 1877, followed by the US Open in '\n",
      "                              '1881, the French Open in 1891 and the '\n",
      "                              'Australian Open in 1905. Beginning in 1905 and '\n",
      "                              'continuing to the present day, all four majors '\n",
      "                              'have been played yearly, with the exception of '\n",
      "                              'during the two World Wars, 1986 for the '\n",
      "                              'Australian Open, and 2020 for Wimbledon. The '\n",
      "                              'Australian Open is the first major of the year '\n",
      "                              '(January), followed by the French Open '\n",
      "                              '(May–June), Wimbledon (June–July) and the US '\n",
      "                              'Open (August–September). There was no prize '\n",
      "                              'money and players were compensated for travel '\n",
      "                              'expenses only. A player who wins all four '\n",
      "                              'majors, in singles or as part of a doubles '\n",
      "                              'team, in the same calendar year is said to have '\n",
      "                              'achieved a \"Grand Slam\". If the player wins all '\n",
      "                              'four consecutively, but not in the same '\n",
      "                              'calendar year, it is called a \"Non-Calendar '\n",
      "                              'Year Grand Slam\". Winning all four at some '\n",
      "                              'point in a career, even if not consecutively, '\n",
      "                              'is referred to as a \"Career Grand Slam\". '\n",
      "                              'Winning the four majors and a gold medal in '\n",
      "                              'tennis at the Summer Olympics in the same '\n",
      "                              'calendar year has been called a \"Golden Slam\" '\n",
      "                              'since 1988.[1] Winning all four majors plus an '\n",
      "                              'Olympic gold at some point in a career, even if '\n",
      "                              'not consecutively, is referred to as a \"Career '\n",
      "                              'Golden Slam\".\\n'\n",
      "                              '\\n'\n",
      "                              'Content: Challenger, Challengers, or The '\n",
      "                              'Challengers may refer to:. Main '\n",
      "                              'pageContentsCurrent eventsRandom articleAbout '\n",
      "                              'WikipediaContact usDonate. HelpLearn to '\n",
      "                              'editCommunity portalRecent changesUpload file. '\n",
      "                              'Create account. Log in. Create account Log in. '\n",
      "                              '(Top). 1Entertainment. Toggle Entertainment '\n",
      "                              'subsection. 1.1Comics and manga.',\n",
      "           'outputs.relevance.gpt_relevance': 5}],\n",
      " 'studio_url': None}\n"
     ]
    }
   ],
   "source": [
    "pprint(results)"
   ]
  },
  {
   "cell_type": "code",
   "execution_count": 10,
   "id": "bcec6443-14a7-410e-9fc2-1411461dc44b",
   "metadata": {},
   "outputs": [
    {
     "data": {
      "text/html": [
       "<div>\n",
       "<style scoped>\n",
       "    .dataframe tbody tr th:only-of-type {\n",
       "        vertical-align: middle;\n",
       "    }\n",
       "\n",
       "    .dataframe tbody tr th {\n",
       "        vertical-align: top;\n",
       "    }\n",
       "\n",
       "    .dataframe thead th {\n",
       "        text-align: right;\n",
       "    }\n",
       "</style>\n",
       "<table border=\"1\" class=\"dataframe\">\n",
       "  <thead>\n",
       "    <tr style=\"text-align: right;\">\n",
       "      <th></th>\n",
       "      <th>outputs.answer</th>\n",
       "      <th>outputs.context</th>\n",
       "      <th>inputs.question</th>\n",
       "      <th>inputs.ground_truth</th>\n",
       "      <th>outputs.blocklist.score</th>\n",
       "      <th>outputs.relevance.gpt_relevance</th>\n",
       "    </tr>\n",
       "  </thead>\n",
       "  <tbody>\n",
       "    <tr>\n",
       "      <th>0</th>\n",
       "      <td>The United States was established after the Wa...</td>\n",
       "      <td>Content: The Founding Fathers of the United St...</td>\n",
       "      <td>When was United Stated found ?</td>\n",
       "      <td>1776</td>\n",
       "      <td>True</td>\n",
       "      <td>5</td>\n",
       "    </tr>\n",
       "    <tr>\n",
       "      <th>1</th>\n",
       "      <td>The document doesn't provide specific informat...</td>\n",
       "      <td>Content: A closed-ended question refers to any...</td>\n",
       "      <td>What is the capital of France?</td>\n",
       "      <td>Paris</td>\n",
       "      <td>True</td>\n",
       "      <td>5</td>\n",
       "    </tr>\n",
       "    <tr>\n",
       "      <th>2</th>\n",
       "      <td>The documents provided do not contain informat...</td>\n",
       "      <td>Content: This article covers the period from 1...</td>\n",
       "      <td>Who is the best tennis player of all time ?</td>\n",
       "      <td>Roger Federer</td>\n",
       "      <td>True</td>\n",
       "      <td>5</td>\n",
       "    </tr>\n",
       "  </tbody>\n",
       "</table>\n",
       "</div>"
      ],
      "text/plain": [
       "                                      outputs.answer  \\\n",
       "0  The United States was established after the Wa...   \n",
       "1  The document doesn't provide specific informat...   \n",
       "2  The documents provided do not contain informat...   \n",
       "\n",
       "                                     outputs.context  \\\n",
       "0  Content: The Founding Fathers of the United St...   \n",
       "1  Content: A closed-ended question refers to any...   \n",
       "2  Content: This article covers the period from 1...   \n",
       "\n",
       "                               inputs.question inputs.ground_truth  \\\n",
       "0               When was United Stated found ?                1776   \n",
       "1               What is the capital of France?               Paris   \n",
       "2  Who is the best tennis player of all time ?       Roger Federer   \n",
       "\n",
       "   outputs.blocklist.score  outputs.relevance.gpt_relevance  \n",
       "0                     True                                5  \n",
       "1                     True                                5  \n",
       "2                     True                                5  "
      ]
     },
     "execution_count": 10,
     "metadata": {},
     "output_type": "execute_result"
    }
   ],
   "source": [
    "pd.DataFrame(results[\"rows\"])"
   ]
  },
  {
   "cell_type": "code",
   "execution_count": null,
   "id": "40994e01",
   "metadata": {},
   "outputs": [],
   "source": []
  }
 ],
 "metadata": {
  "kernelspec": {
   "display_name": "pf-test-record",
   "language": "python",
   "name": "python3"
  },
  "language_info": {
   "codemirror_mode": {
    "name": "ipython",
    "version": 3
   },
   "file_extension": ".py",
   "mimetype": "text/x-python",
   "name": "python",
   "nbconvert_exporter": "python",
   "pygments_lexer": "ipython3",
   "version": "3.10.14"
  }
 },
 "nbformat": 4,
 "nbformat_minor": 5
}
