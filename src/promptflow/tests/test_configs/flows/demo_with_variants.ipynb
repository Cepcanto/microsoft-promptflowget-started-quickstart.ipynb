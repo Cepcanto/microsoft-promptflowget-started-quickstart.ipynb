{
 "cells": [
  {
   "cell_type": "code",
   "execution_count": null,
   "metadata": {},
   "outputs": [],
   "source": [
    "import promptflow.azure as pf \n",
    "\n",
    "# configure azureml workspace ml_client\n",
    "from azure.ai.ml import MLClient\n",
    "from azure.identity import DefaultAzureCredential\n",
    "\n",
    "client = MLClient(\n",
    "    credential=DefaultAzureCredential(),\n",
    "    subscription_id=\"96aede12-2f73-41cb-b983-6d11a904839b\",\n",
    "    resource_group_name=\"promptflow\",\n",
    "    workspace_name=\"promptflow-eastus\",\n",
    ")\n",
    "pf.configure(client=client)"
   ]
  },
  {
   "cell_type": "code",
   "execution_count": null,
   "metadata": {},
   "outputs": [],
   "source": [
    "# load flow\n",
    "local_file = \"./web_classification/\"\n",
    "flow = pf.load_flow(source=local_file)"
   ]
  },
  {
   "cell_type": "code",
   "execution_count": null,
   "metadata": {},
   "outputs": [],
   "source": [
    "print(flow)"
   ]
  },
  {
   "cell_type": "code",
   "execution_count": null,
   "metadata": {},
   "outputs": [],
   "source": [
    "# standard flow using remote data\n",
    "run = flow.submit_bulk_run(\n",
    "    data=\"./webClassification20.csv\",\n",
    "    connections={},\n",
    "    runtime=\"wanhan-mir\",\n",
    ")"
   ]
  },
  {
   "cell_type": "code",
   "execution_count": null,
   "metadata": {},
   "outputs": [],
   "source": [
    "run.wait_for_completion()"
   ]
  },
  {
   "cell_type": "code",
   "execution_count": null,
   "metadata": {},
   "outputs": [],
   "source": [
    "from promptflow.azure.entities._bulk_flow_run_input import BulkFlowRunInput\n",
    "\n",
    "\n",
    "classification_accuracy_eval = pf.load_flow(\"azureml://flows/QnARelevanceEvaluation\")\n",
    "\n",
    "bulk_flow_run_input = BulkFlowRunInput(\n",
    "    data=\"./webClassification20.csv\",\n",
    "    variants=[run],\n",
    "    inputs_mapping={\"question\": \"data.url\", \"answer\": \"data.answer\", \"context\": \"data.evidence\"},\n",
    ")\n",
    "\n",
    "baseline_accuracy = classification_accuracy_eval.submit_bulk_run(\n",
    "    data=bulk_flow_run_input,\n",
    "    runtime=\"wanhan-mir\",\n",
    ")\n",
    "\n",
    "print(baseline_accuracy)"
   ]
  },
  {
   "cell_type": "code",
   "execution_count": null,
   "metadata": {},
   "outputs": [],
   "source": [
    "baseline_accuracy.wait_for_completion()"
   ]
  }
 ],
 "metadata": {
  "kernelspec": {
   "display_name": "promptflow-39",
   "language": "python",
   "name": "python3"
  },
  "language_info": {
   "codemirror_mode": {
    "name": "ipython",
    "version": 3
   },
   "file_extension": ".py",
   "mimetype": "text/x-python",
   "name": "python",
   "nbconvert_exporter": "python",
   "pygments_lexer": "ipython3",
   "version": "3.8.13"
  },
  "orig_nbformat": 4
 },
 "nbformat": 4,
 "nbformat_minor": 2
}
