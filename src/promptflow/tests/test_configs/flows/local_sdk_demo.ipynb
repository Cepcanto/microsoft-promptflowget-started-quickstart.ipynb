{
 "cells": [
  {
   "cell_type": "code",
   "execution_count": null,
   "metadata": {},
   "outputs": [],
   "source": [
    "import os\n",
    "import promptflow as pf\n",
    "from promptflow.connections import AzureOpenAIConnection\n",
    "from promptflow.sdk.entities import BulkFlowRunInput\n",
    "\n",
    "flows_dir = \".\"\n",
    "data_path = f\"{flows_dir}/webClassification3.jsonl\"\n",
    "connections = {\n",
    "    \"azure_open_ai_connection\": AzureOpenAIConnection(\n",
    "        api_key=os.environ[\"AOAI_API_KEY\"],\n",
    "        api_base=os.environ[\"AOAI_API_BASE\"],\n",
    "        api_type=\"azure\",\n",
    "        api_version=\"2023-03-15-preview\",\n",
    "    )\n",
    "}"
   ]
  },
  {
   "cell_type": "code",
   "execution_count": null,
   "metadata": {},
   "outputs": [],
   "source": [
    "flow = pf.load_flow(f\"{flows_dir}/web_classification\")\n",
    "flow1 = pf.load_flow(f\"{flows_dir}/web_classification_v1\")\n",
    "flow2 = pf.load_flow(f\"{flows_dir}/web_classification_v2\")"
   ]
  },
  {
   "cell_type": "code",
   "execution_count": null,
   "metadata": {},
   "outputs": [],
   "source": [
    "# TODO pretty print\n",
    "print(flow)"
   ]
  },
  {
   "cell_type": "code",
   "execution_count": null,
   "metadata": {},
   "outputs": [],
   "source": [
    "baseline = flow.run_bulk(data_path, connections=connections)\n",
    "v1 = flow1.run_bulk(data_path, connections=connections)\n",
    "v2 = flow2.run_bulk(data_path, connections=connections)"
   ]
  },
  {
   "cell_type": "code",
   "execution_count": null,
   "metadata": {},
   "outputs": [],
   "source": [
    "# TODO pretty print\n",
    "print(baseline)"
   ]
  },
  {
   "cell_type": "code",
   "execution_count": null,
   "metadata": {},
   "outputs": [],
   "source": [
    "# TODO fix this\n",
    "pf.show_details(baseline)"
   ]
  },
  {
   "cell_type": "code",
   "execution_count": null,
   "metadata": {},
   "outputs": [],
   "source": [
    "# TODO fix this\n",
    "pf.show_metrics(baseline)"
   ]
  },
  {
   "cell_type": "code",
   "execution_count": null,
   "metadata": {},
   "outputs": [],
   "source": [
    "classification_accuracy_eval = pf.load_flow(\n",
    "    f\"{flows_dir}/classification_accuracy_evaluation\"\n",
    ")\n",
    "\n",
    "inputs_mapping = {\"groundtruth\": \"data.answer\", \"prediction\": \"variants.output.category\"}\n",
    "baseline_accuracy_eval_input = BulkFlowRunInput(data_path, [baseline], inputs_mapping=inputs_mapping)\n",
    "baseline_accuracy = classification_accuracy_eval.run_bulk(baseline_accuracy_eval_input, connections=connections)\n",
    "\n",
    "v1_accuracy_eval_input = BulkFlowRunInput(data_path, [v1], inputs_mapping=inputs_mapping)\n",
    "v1_accuracy = classification_accuracy_eval.run_bulk(v1_accuracy_eval_input, connections=connections)\n",
    "\n",
    "v2_accuracy_eval_input = BulkFlowRunInput(data_path, [v2], inputs_mapping=inputs_mapping)\n",
    "v2_accuracy = classification_accuracy_eval.run_bulk(v2_accuracy_eval_input, connections=connections)"
   ]
  },
  {
   "cell_type": "code",
   "execution_count": null,
   "metadata": {},
   "outputs": [],
   "source": [
    "accuracy_compare = {\n",
    "    \"baseline\": baseline_accuracy[\"metrics\"][\"accuracy\"],\n",
    "    \"v1\": v1_accuracy[\"metrics\"][\"accuracy\"],\n",
    "    \"v2\": v2_accuracy[\"metrics\"][\"accuracy\"],\n",
    "}\n",
    "\n",
    "print(accuracy_compare)"
   ]
  },
  {
   "cell_type": "code",
   "execution_count": null,
   "metadata": {},
   "outputs": [],
   "source": [
    "pf.show_metrics(baseline, v1, v2)"
   ]
  },
  {
   "cell_type": "code",
   "execution_count": null,
   "metadata": {},
   "outputs": [],
   "source": [
    "pf.show_details(baseline, v1, v2)"
   ]
  }
 ],
 "metadata": {
  "kernelspec": {
   "display_name": "promptflow-39",
   "language": "python",
   "name": "python3"
  },
  "language_info": {
   "codemirror_mode": {
    "name": "ipython",
    "version": 3
   },
   "file_extension": ".py",
   "mimetype": "text/x-python",
   "name": "python",
   "nbconvert_exporter": "python",
   "pygments_lexer": "ipython3",
   "version": "3.9.12"
  },
  "orig_nbformat": 4
 },
 "nbformat": 4,
 "nbformat_minor": 2
}
