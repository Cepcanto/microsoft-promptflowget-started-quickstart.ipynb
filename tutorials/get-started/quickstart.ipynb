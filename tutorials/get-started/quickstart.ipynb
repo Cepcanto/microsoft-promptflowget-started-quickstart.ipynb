{
 "cells": [
  {
   "cell_type": "markdown",
   "metadata": {},
   "source": [
    "# Get-started (Local)\n",
    "This guide will walk you through the main user journey of prompt flow code-first experience. You will learn how to create and develop your first prompt flow, test and evaluate it, then deploy it to production."
   ]
  },
  {
   "cell_type": "markdown",
   "metadata": {},
   "source": [
    "## Step 1: Create and develop a new bulk run"
   ]
  },
  {
   "cell_type": "code",
   "execution_count": 1,
   "metadata": {},
   "outputs": [],
   "source": [
    "import promptflow as pf\n",
    "from promptflow.sdk.entities import AzureOpenAIConnection, BulkInputs, EvalInputs\n",
    "from promptflow.sdk._pf_client import PFClient\n",
    "\n",
    "# client can help manage your runs and connections.\n",
    "client = PFClient()"
   ]
  },
  {
   "cell_type": "markdown",
   "metadata": {},
   "source": [
    "### Load flow and set bulk inputs"
   ]
  },
  {
   "cell_type": "code",
   "execution_count": 2,
   "metadata": {},
   "outputs": [],
   "source": [
    "\n",
    "flow_path = \"../../flows/standard/web-classification\"\n",
    "bulk_inputs = BulkInputs(\n",
    "    data=\"../../flows/standard/web-classification/data.jsonl\",  # path to the data file\n",
    "    inputs_mapping={\"url\": \"${data.url}\"},  # map the url field from the data to the url input of the flow\n",
    ")"
   ]
  },
  {
   "cell_type": "markdown",
   "metadata": {},
   "source": [
    "### Add connection\n",
    "Since flow `web-classification` uses connection `azure_open_ai_connection` inside, we need to set up the connection if we haven't added it before. After created, it's stored in local db and can be used in any flow."
   ]
  },
  {
   "cell_type": "code",
   "execution_count": 3,
   "metadata": {},
   "outputs": [],
   "source": [
    "connection = AzureOpenAIConnection(\n",
    "    name=\"test_connection_1\",\n",
    "    type=\"AzureOpenAI\",\n",
    "    api_key=\"<test_key>\",\n",
    "    api_base=\"<test_base>\",\n",
    "    api_type=\"azure\",\n",
    "    api_version=\"<test_version>\",\n",
    ")\n",
    "\n",
    "client.connections.create_or_update(connection)"
   ]
  },
  {
   "cell_type": "markdown",
   "metadata": {},
   "source": [
    "### Run bulk"
   ]
  },
  {
   "cell_type": "code",
   "execution_count": 4,
   "metadata": {},
   "outputs": [
    {
     "name": "stdout",
     "output_type": "stream",
     "text": [
      "2023-07-11 10:55:59 +0800   32552 execution.flow     INFO     Root flow run not found in run storage 'DummyRunStorage', will create a new root flow run. Run id: '31f827dc-a74c-4df7-bc43-fca73288d6d1', flow id: 'web_classification'\n",
      "2023-07-11 10:55:59 +0800   32552 execution.flow     INFO     Executing node fetch_text_content_from_url. node run id: 31f827dc-a74c-4df7-bc43-fca73288d6d1_fetch_text_content_from_url_0\n",
      "2023-07-11 10:55:59 +0800   32552 execution.flow     INFO     Executing node fetch_text_content_from_url. node run id: 31f827dc-a74c-4df7-bc43-fca73288d6d1_fetch_text_content_from_url_1\n",
      "2023-07-11 10:55:59 +0800   32552 execution.flow     INFO     Executing node fetch_text_content_from_url. node run id: 31f827dc-a74c-4df7-bc43-fca73288d6d1_fetch_text_content_from_url_2\n",
      "2023-07-11 10:56:01 +0800   32552 execution.flow     INFO     Node fetch_text_content_from_url completes.\n",
      "2023-07-11 10:56:01 +0800   32552 execution.flow     INFO     Executing node summarize_text_content. node run id: 31f827dc-a74c-4df7-bc43-fca73288d6d1_summarize_text_content_0\n",
      "2023-07-11 10:56:01 +0800   32552 execution.flow     INFO     Node fetch_text_content_from_url completes.\n",
      "2023-07-11 10:56:01 +0800   32552 execution.flow     INFO     Executing node summarize_text_content. node run id: 31f827dc-a74c-4df7-bc43-fca73288d6d1_summarize_text_content_2\n",
      "2023-07-11 10:56:01 +0800   32552 execution.flow     INFO     Node fetch_text_content_from_url completes.\n",
      "2023-07-11 10:56:01 +0800   32552 execution.flow     INFO     Executing node summarize_text_content. node run id: 31f827dc-a74c-4df7-bc43-fca73288d6d1_summarize_text_content_1\n",
      "2023-07-11 10:56:04 +0800   32552 execution.flow     INFO     Node summarize_text_content completes.\n",
      "2023-07-11 10:56:04 +0800   32552 execution.flow     INFO     Executing node prepare_examples. node run id: 31f827dc-a74c-4df7-bc43-fca73288d6d1_prepare_examples_0\n",
      "2023-07-11 10:56:04 +0800   32552 execution.flow     INFO     Node prepare_examples completes.\n",
      "2023-07-11 10:56:04 +0800   32552 execution.flow     INFO     Executing node classify_with_llm. node run id: 31f827dc-a74c-4df7-bc43-fca73288d6d1_classify_with_llm_0\n",
      "2023-07-11 10:56:05 +0800   32552 execution.flow     INFO     Node classify_with_llm completes.\n",
      "2023-07-11 10:56:05 +0800   32552 execution.flow     INFO     Executing node convert_to_dict. node run id: 31f827dc-a74c-4df7-bc43-fca73288d6d1_convert_to_dict_0\n",
      "2023-07-11 10:56:05 +0800   32552 execution.flow     INFO     Node convert_to_dict completes.\n",
      "2023-07-11 10:56:05 +0800   32552 execution.bulk     INFO     Finished 1 / 3 lines.\n",
      "2023-07-11 10:56:07 +0800   32552 execution.flow     INFO     Node summarize_text_content completes.\n",
      "2023-07-11 10:56:07 +0800   32552 execution.flow     INFO     Executing node prepare_examples. node run id: 31f827dc-a74c-4df7-bc43-fca73288d6d1_prepare_examples_1\n",
      "2023-07-11 10:56:07 +0800   32552 execution.flow     INFO     Node prepare_examples completes.\n",
      "2023-07-11 10:56:07 +0800   32552 execution.flow     INFO     Executing node classify_with_llm. node run id: 31f827dc-a74c-4df7-bc43-fca73288d6d1_classify_with_llm_1\n",
      "2023-07-11 10:56:08 +0800   32552 execution.flow     INFO     Node classify_with_llm completes.\n",
      "2023-07-11 10:56:08 +0800   32552 execution.flow     INFO     Executing node convert_to_dict. node run id: 31f827dc-a74c-4df7-bc43-fca73288d6d1_convert_to_dict_1\n",
      "2023-07-11 10:56:08 +0800   32552 execution.flow     INFO     Node convert_to_dict completes.\n",
      "2023-07-11 10:56:08 +0800   32552 execution.bulk     INFO     Finished 2 / 3 lines.\n",
      "2023-07-11 10:56:15 +0800   32552 execution.flow     INFO     Node summarize_text_content completes.\n",
      "2023-07-11 10:56:15 +0800   32552 execution.flow     INFO     Executing node prepare_examples. node run id: 31f827dc-a74c-4df7-bc43-fca73288d6d1_prepare_examples_2\n",
      "2023-07-11 10:56:15 +0800   32552 execution.flow     INFO     Node prepare_examples completes.\n",
      "2023-07-11 10:56:15 +0800   32552 execution.flow     INFO     Executing node classify_with_llm. node run id: 31f827dc-a74c-4df7-bc43-fca73288d6d1_classify_with_llm_2\n",
      "2023-07-11 10:56:15 +0800   32552 execution.flow     INFO     Node classify_with_llm completes.\n",
      "2023-07-11 10:56:15 +0800   32552 execution.flow     INFO     Executing node convert_to_dict. node run id: 31f827dc-a74c-4df7-bc43-fca73288d6d1_convert_to_dict_2\n",
      "2023-07-11 10:56:15 +0800   32552 execution.flow     INFO     Node convert_to_dict completes.\n",
      "2023-07-11 10:56:15 +0800   32552 execution.bulk     INFO     Finished 3 / 3 lines.\n"
     ]
    }
   ],
   "source": [
    "# use the first variant of the summarize_text_content node.\n",
    "# if \"node_variant\" is not specified in \"run_bulk\" function, the default variant will be used.\n",
    "node_variant=\"${summarize_text_content.variant_1}\"\n",
    "\n",
    "run = pf.run_bulk(\n",
    "    flow=flow_path,\n",
    "    inputs=bulk_inputs,\n",
    "    node_variant=node_variant,  \n",
    ")\n",
    "\n",
    "bulk_run_name = run.name\n",
    "# pf.stream(run)"
   ]
  },
  {
   "cell_type": "code",
   "execution_count": null,
   "metadata": {},
   "outputs": [],
   "source": [
    "pf.show_details([run])"
   ]
  },
  {
   "cell_type": "code",
   "execution_count": null,
   "metadata": {},
   "outputs": [],
   "source": [
    "pf.visualize([run])"
   ]
  },
  {
   "cell_type": "markdown",
   "metadata": {},
   "source": [
    "## Step 2: Evaluate your bulk flow run"
   ]
  },
  {
   "cell_type": "code",
   "execution_count": 6,
   "metadata": {},
   "outputs": [
    {
     "name": "stdout",
     "output_type": "stream",
     "text": [
      "2023-07-11 10:58:21 +0800   32552 execution.flow     INFO     Root flow run not found in run storage 'DummyRunStorage', will create a new root flow run. Run id: 'e0642dd5-8651-4602-a1e8-3defa9fd8362', flow id: 'default_flow_id'\n",
      "2023-07-11 10:58:21 +0800   32552 execution.flow     INFO     Executing node grade. node run id: e0642dd5-8651-4602-a1e8-3defa9fd8362_grade_0\n",
      "2023-07-11 10:58:21 +0800   32552 execution.flow     INFO     Executing node grade. node run id: e0642dd5-8651-4602-a1e8-3defa9fd8362_grade_1\n",
      "2023-07-11 10:58:21 +0800   32552 execution.flow     INFO     Executing node grade. node run id: e0642dd5-8651-4602-a1e8-3defa9fd8362_grade_2\n",
      "2023-07-11 10:58:21 +0800   32552 execution.flow     INFO     Node grade completes.\n",
      "2023-07-11 10:58:21 +0800   32552 execution.bulk     INFO     Finished 1 / 3 lines.\n",
      "2023-07-11 10:58:21 +0800   32552 execution.flow     INFO     Node grade completes.\n",
      "2023-07-11 10:58:21 +0800   32552 execution.bulk     INFO     Finished 2 / 3 lines.\n",
      "2023-07-11 10:58:21 +0800   32552 execution.flow     INFO     Node grade completes.\n",
      "2023-07-11 10:58:21 +0800   32552 execution.bulk     INFO     Finished 3 / 3 lines.\n",
      "2023-07-11 10:58:21 +0800   32552 execution          INFO     Executing aggregation nodes...\n",
      "2023-07-11 10:58:21 +0800   32552 execution.flow     INFO     Executing node calculate_accuracy. node run id: e0642dd5-8651-4602-a1e8-3defa9fd8362_calculate_accuracy_reduce\n",
      "2023-07-11 10:58:21 +0800   32552 execution.flow     INFO     Node calculate_accuracy completes.\n",
      "2023-07-11 10:58:21 +0800   32552 execution          INFO     Finish executing aggregation nodes.\n"
     ]
    },
    {
     "name": "stdout",
     "output_type": "stream",
     "text": [
      "==========\n",
      "Writing output to D:\\programs\\prompt-flow\\flows\\standard\\classification_accuracy_evaluation\\.runs\\b4950724-ca52-4478-9e02-ba1afebc60bb\\details.jsonl...\n"
     ]
    }
   ],
   "source": [
    "eval_flow_path = \"../../flows/standard/classification_accuracy_evaluation\"\n",
    "eval_inputs = EvalInputs(\n",
    "    data=\"../../flows/standard/web-classification/data.jsonl\",  # path to the data file\n",
    "    inputs_mapping={\"groundtruth\": \"${data.answer}\",\"prediction\": \"${variant.outputs.category}\"},  # map the url field from the data to the url input of the flow\n",
    "    variant=bulk_run_name,  # use the bulk run name as the variant\n",
    ")\n",
    "\n",
    "eval_run = pf.run_eval(\n",
    "    flow=eval_flow_path,\n",
    "    inputs=eval_inputs,\n",
    ")"
   ]
  },
  {
   "cell_type": "code",
   "execution_count": null,
   "metadata": {},
   "outputs": [],
   "source": [
    "pf.show_details(eval_run)"
   ]
  },
  {
   "cell_type": "code",
   "execution_count": null,
   "metadata": {},
   "outputs": [],
   "source": [
    "pf.show_metrics(eval_run)"
   ]
  },
  {
   "cell_type": "markdown",
   "metadata": {},
   "source": [
    "## Step 3: Deploy the flow (WIP)"
   ]
  },
  {
   "cell_type": "markdown",
   "metadata": {},
   "source": []
  }
 ],
 "metadata": {
  "kernelspec": {
   "display_name": "pflow",
   "language": "python",
   "name": "python3"
  },
  "language_info": {
   "codemirror_mode": {
    "name": "ipython",
    "version": 3
   },
   "file_extension": ".py",
   "mimetype": "text/x-python",
   "name": "python",
   "nbconvert_exporter": "python",
   "pygments_lexer": "ipython3",
   "version": "3.8.17"
  },
  "orig_nbformat": 4
 },
 "nbformat": 4,
 "nbformat_minor": 2
}
